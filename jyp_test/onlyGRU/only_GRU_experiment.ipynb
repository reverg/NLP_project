{
  "nbformat": 4,
  "nbformat_minor": 0,
  "metadata": {
    "colab": {
      "provenance": []
    },
    "kernelspec": {
      "name": "python3",
      "display_name": "Python 3"
    },
    "language_info": {
      "name": "python"
    },
    "accelerator": "GPU",
    "gpuClass": "standard"
  },
  "cells": [
    {
      "cell_type": "code",
      "source": [
        "import sys\n",
        "from google.colab import drive\n",
        "\n",
        "drive.mount('/content/gdrive')"
      ],
      "metadata": {
        "colab": {
          "base_uri": "https://localhost:8080/"
        },
        "id": "7GNNbPd4cmo6",
        "outputId": "433bbc33-46da-474c-f246-fefda8bc15ae"
      },
      "execution_count": 1,
      "outputs": [
        {
          "output_type": "stream",
          "name": "stdout",
          "text": [
            "Mounted at /content/gdrive\n"
          ]
        }
      ]
    },
    {
      "cell_type": "code",
      "source": [
        "import tensorflow as tf\n",
        "\n",
        "device_name = tf.test.gpu_device_name()\n",
        "if device_name != '/device:GPU:0':\n",
        "  raise SystemError('GPU device not found')\n",
        "print('Found GPU at: {}'.format(device_name))"
      ],
      "metadata": {
        "colab": {
          "base_uri": "https://localhost:8080/"
        },
        "id": "dZII8EysfWnR",
        "outputId": "cfd9ddd7-b63a-424e-a096-a85154111507"
      },
      "execution_count": 2,
      "outputs": [
        {
          "output_type": "stream",
          "name": "stdout",
          "text": [
            "Found GPU at: /device:GPU:0\n"
          ]
        }
      ]
    },
    {
      "cell_type": "code",
      "execution_count": 3,
      "metadata": {
        "id": "rqWv4pUYaUzY"
      },
      "outputs": [],
      "source": [
        "import pandas as pd\n",
        "import numpy as np\n",
        "import os\n",
        "\n",
        "import joblib\n",
        "import tensorflow as tf\n",
        "import tensorflow.keras\n",
        "from tensorflow.keras import utils\n",
        "from sklearn.model_selection import train_test_split, GridSearchCV\n",
        "from tensorflow.keras.models import Sequential\n",
        "from tensorflow.keras.layers import Dense, Dropout, Flatten, Conv1D, MaxPooling1D, MaxPooling2D, Conv2D, LSTM, GRU, Bidirectional\n",
        "from tensorflow.keras import regularizers\n",
        "from tensorflow.keras.callbacks import EarlyStopping, ModelCheckpoint\n",
        "from tensorflow.keras.wrappers.scikit_learn import KerasClassifier"
      ]
    },
    {
      "cell_type": "code",
      "source": [
        "df = pd.read_csv('/content/gdrive/MyDrive/Colab Notebooks/NonPromoterSequence.txt', sep = '>', )\n",
        "df.dropna(subset=['Unnamed: 0'], how='all', inplace=True)\n",
        "df.reset_index(inplace = True)\n",
        "df.drop(['EP 1 (+) mt:CoI_1; range -400 to -100.', 'index'], axis = 1, inplace=True) #data cleaning after error found\n",
        "df.rename(columns={'Unnamed: 0': \"sequence\"}, inplace = True)\n",
        "df['label'] = 0\n",
        "display(df)\n",
        "display(df.shape)"
      ],
      "metadata": {
        "colab": {
          "base_uri": "https://localhost:8080/",
          "height": 441
        },
        "id": "brRnk4EMaZPB",
        "outputId": "35f3aabf-bbf3-4aa7-fd92-a6dd37dc2118"
      },
      "execution_count": 4,
      "outputs": [
        {
          "output_type": "display_data",
          "data": {
            "text/plain": [
              "                                                sequence  label\n",
              "0      TAATTACATTATTTTTTTATTTACGAATTTGTTATTCCGCTTTTAT...      0\n",
              "1      ATTTTTACAAGAACAAGACATTTAACTTTAACTTTATCTTTAGCTT...      0\n",
              "2      AGAGATAGGTGGGTCTGTAACACTCGAATCAAAAACAATATTAAGA...      0\n",
              "3      TATGTATATAGAGATAGGCGTTGCCAATAACTTTTGCGTTTTTTGC...      0\n",
              "4      AGAAATAATAGCTAGAGCAAAAAACAGCTTAGAACGGCTGATGCTC...      0\n",
              "...                                                  ...    ...\n",
              "11295  TGGTAAAAAATTGTACACCTAACTAGTGCCTTCATGTATACCACCA...      0\n",
              "11296  AGTGCAACTGGAGCCGTGCCGTGACCCACAGAGATCGCCCACTCGA...      0\n",
              "11297  GCATGGATTTCATATTATCTTAATCGACTTGCTTTTATAAAATAGG...      0\n",
              "11298  GTGACCAGGTTTTGCTCTAATGCGAAGTACGGATTGGGTAGAGATA...      0\n",
              "11299  TCATATTGAAAATTGATAAGATTGATATTAACGTAGCAAAGAAAGC...      0\n",
              "\n",
              "[11300 rows x 2 columns]"
            ],
            "text/html": [
              "\n",
              "  <div id=\"df-e8e4c2b7-430c-4eff-b5af-55c3df280e78\">\n",
              "    <div class=\"colab-df-container\">\n",
              "      <div>\n",
              "<style scoped>\n",
              "    .dataframe tbody tr th:only-of-type {\n",
              "        vertical-align: middle;\n",
              "    }\n",
              "\n",
              "    .dataframe tbody tr th {\n",
              "        vertical-align: top;\n",
              "    }\n",
              "\n",
              "    .dataframe thead th {\n",
              "        text-align: right;\n",
              "    }\n",
              "</style>\n",
              "<table border=\"1\" class=\"dataframe\">\n",
              "  <thead>\n",
              "    <tr style=\"text-align: right;\">\n",
              "      <th></th>\n",
              "      <th>sequence</th>\n",
              "      <th>label</th>\n",
              "    </tr>\n",
              "  </thead>\n",
              "  <tbody>\n",
              "    <tr>\n",
              "      <th>0</th>\n",
              "      <td>TAATTACATTATTTTTTTATTTACGAATTTGTTATTCCGCTTTTAT...</td>\n",
              "      <td>0</td>\n",
              "    </tr>\n",
              "    <tr>\n",
              "      <th>1</th>\n",
              "      <td>ATTTTTACAAGAACAAGACATTTAACTTTAACTTTATCTTTAGCTT...</td>\n",
              "      <td>0</td>\n",
              "    </tr>\n",
              "    <tr>\n",
              "      <th>2</th>\n",
              "      <td>AGAGATAGGTGGGTCTGTAACACTCGAATCAAAAACAATATTAAGA...</td>\n",
              "      <td>0</td>\n",
              "    </tr>\n",
              "    <tr>\n",
              "      <th>3</th>\n",
              "      <td>TATGTATATAGAGATAGGCGTTGCCAATAACTTTTGCGTTTTTTGC...</td>\n",
              "      <td>0</td>\n",
              "    </tr>\n",
              "    <tr>\n",
              "      <th>4</th>\n",
              "      <td>AGAAATAATAGCTAGAGCAAAAAACAGCTTAGAACGGCTGATGCTC...</td>\n",
              "      <td>0</td>\n",
              "    </tr>\n",
              "    <tr>\n",
              "      <th>...</th>\n",
              "      <td>...</td>\n",
              "      <td>...</td>\n",
              "    </tr>\n",
              "    <tr>\n",
              "      <th>11295</th>\n",
              "      <td>TGGTAAAAAATTGTACACCTAACTAGTGCCTTCATGTATACCACCA...</td>\n",
              "      <td>0</td>\n",
              "    </tr>\n",
              "    <tr>\n",
              "      <th>11296</th>\n",
              "      <td>AGTGCAACTGGAGCCGTGCCGTGACCCACAGAGATCGCCCACTCGA...</td>\n",
              "      <td>0</td>\n",
              "    </tr>\n",
              "    <tr>\n",
              "      <th>11297</th>\n",
              "      <td>GCATGGATTTCATATTATCTTAATCGACTTGCTTTTATAAAATAGG...</td>\n",
              "      <td>0</td>\n",
              "    </tr>\n",
              "    <tr>\n",
              "      <th>11298</th>\n",
              "      <td>GTGACCAGGTTTTGCTCTAATGCGAAGTACGGATTGGGTAGAGATA...</td>\n",
              "      <td>0</td>\n",
              "    </tr>\n",
              "    <tr>\n",
              "      <th>11299</th>\n",
              "      <td>TCATATTGAAAATTGATAAGATTGATATTAACGTAGCAAAGAAAGC...</td>\n",
              "      <td>0</td>\n",
              "    </tr>\n",
              "  </tbody>\n",
              "</table>\n",
              "<p>11300 rows × 2 columns</p>\n",
              "</div>\n",
              "      <button class=\"colab-df-convert\" onclick=\"convertToInteractive('df-e8e4c2b7-430c-4eff-b5af-55c3df280e78')\"\n",
              "              title=\"Convert this dataframe to an interactive table.\"\n",
              "              style=\"display:none;\">\n",
              "        \n",
              "  <svg xmlns=\"http://www.w3.org/2000/svg\" height=\"24px\"viewBox=\"0 0 24 24\"\n",
              "       width=\"24px\">\n",
              "    <path d=\"M0 0h24v24H0V0z\" fill=\"none\"/>\n",
              "    <path d=\"M18.56 5.44l.94 2.06.94-2.06 2.06-.94-2.06-.94-.94-2.06-.94 2.06-2.06.94zm-11 1L8.5 8.5l.94-2.06 2.06-.94-2.06-.94L8.5 2.5l-.94 2.06-2.06.94zm10 10l.94 2.06.94-2.06 2.06-.94-2.06-.94-.94-2.06-.94 2.06-2.06.94z\"/><path d=\"M17.41 7.96l-1.37-1.37c-.4-.4-.92-.59-1.43-.59-.52 0-1.04.2-1.43.59L10.3 9.45l-7.72 7.72c-.78.78-.78 2.05 0 2.83L4 21.41c.39.39.9.59 1.41.59.51 0 1.02-.2 1.41-.59l7.78-7.78 2.81-2.81c.8-.78.8-2.07 0-2.86zM5.41 20L4 18.59l7.72-7.72 1.47 1.35L5.41 20z\"/>\n",
              "  </svg>\n",
              "      </button>\n",
              "      \n",
              "  <style>\n",
              "    .colab-df-container {\n",
              "      display:flex;\n",
              "      flex-wrap:wrap;\n",
              "      gap: 12px;\n",
              "    }\n",
              "\n",
              "    .colab-df-convert {\n",
              "      background-color: #E8F0FE;\n",
              "      border: none;\n",
              "      border-radius: 50%;\n",
              "      cursor: pointer;\n",
              "      display: none;\n",
              "      fill: #1967D2;\n",
              "      height: 32px;\n",
              "      padding: 0 0 0 0;\n",
              "      width: 32px;\n",
              "    }\n",
              "\n",
              "    .colab-df-convert:hover {\n",
              "      background-color: #E2EBFA;\n",
              "      box-shadow: 0px 1px 2px rgba(60, 64, 67, 0.3), 0px 1px 3px 1px rgba(60, 64, 67, 0.15);\n",
              "      fill: #174EA6;\n",
              "    }\n",
              "\n",
              "    [theme=dark] .colab-df-convert {\n",
              "      background-color: #3B4455;\n",
              "      fill: #D2E3FC;\n",
              "    }\n",
              "\n",
              "    [theme=dark] .colab-df-convert:hover {\n",
              "      background-color: #434B5C;\n",
              "      box-shadow: 0px 1px 3px 1px rgba(0, 0, 0, 0.15);\n",
              "      filter: drop-shadow(0px 1px 2px rgba(0, 0, 0, 0.3));\n",
              "      fill: #FFFFFF;\n",
              "    }\n",
              "  </style>\n",
              "\n",
              "      <script>\n",
              "        const buttonEl =\n",
              "          document.querySelector('#df-e8e4c2b7-430c-4eff-b5af-55c3df280e78 button.colab-df-convert');\n",
              "        buttonEl.style.display =\n",
              "          google.colab.kernel.accessAllowed ? 'block' : 'none';\n",
              "\n",
              "        async function convertToInteractive(key) {\n",
              "          const element = document.querySelector('#df-e8e4c2b7-430c-4eff-b5af-55c3df280e78');\n",
              "          const dataTable =\n",
              "            await google.colab.kernel.invokeFunction('convertToInteractive',\n",
              "                                                     [key], {});\n",
              "          if (!dataTable) return;\n",
              "\n",
              "          const docLinkHtml = 'Like what you see? Visit the ' +\n",
              "            '<a target=\"_blank\" href=https://colab.research.google.com/notebooks/data_table.ipynb>data table notebook</a>'\n",
              "            + ' to learn more about interactive tables.';\n",
              "          element.innerHTML = '';\n",
              "          dataTable['output_type'] = 'display_data';\n",
              "          await google.colab.output.renderOutput(dataTable, element);\n",
              "          const docLink = document.createElement('div');\n",
              "          docLink.innerHTML = docLinkHtml;\n",
              "          element.appendChild(docLink);\n",
              "        }\n",
              "      </script>\n",
              "    </div>\n",
              "  </div>\n",
              "  "
            ]
          },
          "metadata": {}
        },
        {
          "output_type": "display_data",
          "data": {
            "text/plain": [
              "(11300, 2)"
            ]
          },
          "metadata": {}
        }
      ]
    },
    {
      "cell_type": "code",
      "source": [
        "df2 = pd.read_csv('/content/gdrive/MyDrive/Colab Notebooks/PromoterSequence.txt', sep = '>', )\n",
        "df2.dropna(subset=['Unnamed: 0'], how='all', inplace=True)\n",
        "df2.reset_index(inplace = True)\n",
        "df2.drop(['EP 1 (+) mt:CoI_1; range -100 to 200.', 'index'], axis = 1, inplace=True)\n",
        "df2.rename(columns={'Unnamed: 0': \"sequence\"}, inplace = True)\n",
        "df2['label'] = 1\n",
        "\n",
        "display(df2)\n",
        "display(df2.shape)\n"
      ],
      "metadata": {
        "colab": {
          "base_uri": "https://localhost:8080/",
          "height": 441
        },
        "id": "w62mZ6VaabbQ",
        "outputId": "e8cec1ed-1cfe-45c2-db71-a64ec46202ac"
      },
      "execution_count": 5,
      "outputs": [
        {
          "output_type": "display_data",
          "data": {
            "text/plain": [
              "                                                sequence  label\n",
              "0      TTAATTTGTCCTTATTTGATTAAGAAGAATAAATCTTATATATAGA...      1\n",
              "1      ATAGCTCAAATTGCTTTATTAGTATTAGAATCAGCTGTAGCTATAA...      1\n",
              "2      AAGCTTCCCTTTAATGTGCTCCTTGTGAATACAGCATTACAATGCC...      1\n",
              "3      TATGTAGAATCTGTACAAGTATCTGTGTTTGGACAATGGCATGTGT...      1\n",
              "4      ACATATTACTGCATACAGGTCTCAAATTATAAAATGACACTCGTGG...      1\n",
              "...                                                  ...    ...\n",
              "11295  CGACAAAGTTTGATCCATGTGCATTCTTGGCGCCTTATCGATAGCT...      1\n",
              "11296  CATATCTACATCTCGCTTGCTCCTTCCCTTTCGCTGCGTGTGTGTG...      1\n",
              "11297  ATACCGCGGAAGCGCAAAAGTACCAGAATTTCCCTGGTATCGCGCT...      1\n",
              "11298  ATTATTCCGAATTCTTTTATCAGATTTAAATATGGGAAACACTTTA...      1\n",
              "11299  AATTCATTTATACCTGCATTTGTAACTGTACTAAATCTTCAACCAA...      1\n",
              "\n",
              "[11300 rows x 2 columns]"
            ],
            "text/html": [
              "\n",
              "  <div id=\"df-1be27a6b-fa8a-410e-88fa-2b0b1ccf9110\">\n",
              "    <div class=\"colab-df-container\">\n",
              "      <div>\n",
              "<style scoped>\n",
              "    .dataframe tbody tr th:only-of-type {\n",
              "        vertical-align: middle;\n",
              "    }\n",
              "\n",
              "    .dataframe tbody tr th {\n",
              "        vertical-align: top;\n",
              "    }\n",
              "\n",
              "    .dataframe thead th {\n",
              "        text-align: right;\n",
              "    }\n",
              "</style>\n",
              "<table border=\"1\" class=\"dataframe\">\n",
              "  <thead>\n",
              "    <tr style=\"text-align: right;\">\n",
              "      <th></th>\n",
              "      <th>sequence</th>\n",
              "      <th>label</th>\n",
              "    </tr>\n",
              "  </thead>\n",
              "  <tbody>\n",
              "    <tr>\n",
              "      <th>0</th>\n",
              "      <td>TTAATTTGTCCTTATTTGATTAAGAAGAATAAATCTTATATATAGA...</td>\n",
              "      <td>1</td>\n",
              "    </tr>\n",
              "    <tr>\n",
              "      <th>1</th>\n",
              "      <td>ATAGCTCAAATTGCTTTATTAGTATTAGAATCAGCTGTAGCTATAA...</td>\n",
              "      <td>1</td>\n",
              "    </tr>\n",
              "    <tr>\n",
              "      <th>2</th>\n",
              "      <td>AAGCTTCCCTTTAATGTGCTCCTTGTGAATACAGCATTACAATGCC...</td>\n",
              "      <td>1</td>\n",
              "    </tr>\n",
              "    <tr>\n",
              "      <th>3</th>\n",
              "      <td>TATGTAGAATCTGTACAAGTATCTGTGTTTGGACAATGGCATGTGT...</td>\n",
              "      <td>1</td>\n",
              "    </tr>\n",
              "    <tr>\n",
              "      <th>4</th>\n",
              "      <td>ACATATTACTGCATACAGGTCTCAAATTATAAAATGACACTCGTGG...</td>\n",
              "      <td>1</td>\n",
              "    </tr>\n",
              "    <tr>\n",
              "      <th>...</th>\n",
              "      <td>...</td>\n",
              "      <td>...</td>\n",
              "    </tr>\n",
              "    <tr>\n",
              "      <th>11295</th>\n",
              "      <td>CGACAAAGTTTGATCCATGTGCATTCTTGGCGCCTTATCGATAGCT...</td>\n",
              "      <td>1</td>\n",
              "    </tr>\n",
              "    <tr>\n",
              "      <th>11296</th>\n",
              "      <td>CATATCTACATCTCGCTTGCTCCTTCCCTTTCGCTGCGTGTGTGTG...</td>\n",
              "      <td>1</td>\n",
              "    </tr>\n",
              "    <tr>\n",
              "      <th>11297</th>\n",
              "      <td>ATACCGCGGAAGCGCAAAAGTACCAGAATTTCCCTGGTATCGCGCT...</td>\n",
              "      <td>1</td>\n",
              "    </tr>\n",
              "    <tr>\n",
              "      <th>11298</th>\n",
              "      <td>ATTATTCCGAATTCTTTTATCAGATTTAAATATGGGAAACACTTTA...</td>\n",
              "      <td>1</td>\n",
              "    </tr>\n",
              "    <tr>\n",
              "      <th>11299</th>\n",
              "      <td>AATTCATTTATACCTGCATTTGTAACTGTACTAAATCTTCAACCAA...</td>\n",
              "      <td>1</td>\n",
              "    </tr>\n",
              "  </tbody>\n",
              "</table>\n",
              "<p>11300 rows × 2 columns</p>\n",
              "</div>\n",
              "      <button class=\"colab-df-convert\" onclick=\"convertToInteractive('df-1be27a6b-fa8a-410e-88fa-2b0b1ccf9110')\"\n",
              "              title=\"Convert this dataframe to an interactive table.\"\n",
              "              style=\"display:none;\">\n",
              "        \n",
              "  <svg xmlns=\"http://www.w3.org/2000/svg\" height=\"24px\"viewBox=\"0 0 24 24\"\n",
              "       width=\"24px\">\n",
              "    <path d=\"M0 0h24v24H0V0z\" fill=\"none\"/>\n",
              "    <path d=\"M18.56 5.44l.94 2.06.94-2.06 2.06-.94-2.06-.94-.94-2.06-.94 2.06-2.06.94zm-11 1L8.5 8.5l.94-2.06 2.06-.94-2.06-.94L8.5 2.5l-.94 2.06-2.06.94zm10 10l.94 2.06.94-2.06 2.06-.94-2.06-.94-.94-2.06-.94 2.06-2.06.94z\"/><path d=\"M17.41 7.96l-1.37-1.37c-.4-.4-.92-.59-1.43-.59-.52 0-1.04.2-1.43.59L10.3 9.45l-7.72 7.72c-.78.78-.78 2.05 0 2.83L4 21.41c.39.39.9.59 1.41.59.51 0 1.02-.2 1.41-.59l7.78-7.78 2.81-2.81c.8-.78.8-2.07 0-2.86zM5.41 20L4 18.59l7.72-7.72 1.47 1.35L5.41 20z\"/>\n",
              "  </svg>\n",
              "      </button>\n",
              "      \n",
              "  <style>\n",
              "    .colab-df-container {\n",
              "      display:flex;\n",
              "      flex-wrap:wrap;\n",
              "      gap: 12px;\n",
              "    }\n",
              "\n",
              "    .colab-df-convert {\n",
              "      background-color: #E8F0FE;\n",
              "      border: none;\n",
              "      border-radius: 50%;\n",
              "      cursor: pointer;\n",
              "      display: none;\n",
              "      fill: #1967D2;\n",
              "      height: 32px;\n",
              "      padding: 0 0 0 0;\n",
              "      width: 32px;\n",
              "    }\n",
              "\n",
              "    .colab-df-convert:hover {\n",
              "      background-color: #E2EBFA;\n",
              "      box-shadow: 0px 1px 2px rgba(60, 64, 67, 0.3), 0px 1px 3px 1px rgba(60, 64, 67, 0.15);\n",
              "      fill: #174EA6;\n",
              "    }\n",
              "\n",
              "    [theme=dark] .colab-df-convert {\n",
              "      background-color: #3B4455;\n",
              "      fill: #D2E3FC;\n",
              "    }\n",
              "\n",
              "    [theme=dark] .colab-df-convert:hover {\n",
              "      background-color: #434B5C;\n",
              "      box-shadow: 0px 1px 3px 1px rgba(0, 0, 0, 0.15);\n",
              "      filter: drop-shadow(0px 1px 2px rgba(0, 0, 0, 0.3));\n",
              "      fill: #FFFFFF;\n",
              "    }\n",
              "  </style>\n",
              "\n",
              "      <script>\n",
              "        const buttonEl =\n",
              "          document.querySelector('#df-1be27a6b-fa8a-410e-88fa-2b0b1ccf9110 button.colab-df-convert');\n",
              "        buttonEl.style.display =\n",
              "          google.colab.kernel.accessAllowed ? 'block' : 'none';\n",
              "\n",
              "        async function convertToInteractive(key) {\n",
              "          const element = document.querySelector('#df-1be27a6b-fa8a-410e-88fa-2b0b1ccf9110');\n",
              "          const dataTable =\n",
              "            await google.colab.kernel.invokeFunction('convertToInteractive',\n",
              "                                                     [key], {});\n",
              "          if (!dataTable) return;\n",
              "\n",
              "          const docLinkHtml = 'Like what you see? Visit the ' +\n",
              "            '<a target=\"_blank\" href=https://colab.research.google.com/notebooks/data_table.ipynb>data table notebook</a>'\n",
              "            + ' to learn more about interactive tables.';\n",
              "          element.innerHTML = '';\n",
              "          dataTable['output_type'] = 'display_data';\n",
              "          await google.colab.output.renderOutput(dataTable, element);\n",
              "          const docLink = document.createElement('div');\n",
              "          docLink.innerHTML = docLinkHtml;\n",
              "          element.appendChild(docLink);\n",
              "        }\n",
              "      </script>\n",
              "    </div>\n",
              "  </div>\n",
              "  "
            ]
          },
          "metadata": {}
        },
        {
          "output_type": "display_data",
          "data": {
            "text/plain": [
              "(11300, 2)"
            ]
          },
          "metadata": {}
        }
      ]
    },
    {
      "cell_type": "code",
      "source": [
        "df = pd.concat([df, df2], axis = 0 )\n",
        "df.shape\n"
      ],
      "metadata": {
        "colab": {
          "base_uri": "https://localhost:8080/"
        },
        "id": "K8-2GmSAacbS",
        "outputId": "5f656f26-51b3-4651-fdd4-fafc0a7c8945"
      },
      "execution_count": 6,
      "outputs": [
        {
          "output_type": "execute_result",
          "data": {
            "text/plain": [
              "(22600, 2)"
            ]
          },
          "metadata": {},
          "execution_count": 6
        }
      ]
    },
    {
      "cell_type": "code",
      "source": [
        "for seq in df['sequence']:\n",
        "    if 'N' in seq:\n",
        "        display(df.loc[df['sequence'] == seq])"
      ],
      "metadata": {
        "colab": {
          "base_uri": "https://localhost:8080/",
          "height": 81
        },
        "id": "ryVihwzkad_D",
        "outputId": "665ddb13-7b56-44a6-a2bb-b5bbfe52c9d5"
      },
      "execution_count": 7,
      "outputs": [
        {
          "output_type": "display_data",
          "data": {
            "text/plain": [
              "                                               sequence  label\n",
              "1822  NNNNNNNNNNNNNNNNNNNNNNNNNNNNNNNNNNNNNNNNGAATTC...      0"
            ],
            "text/html": [
              "\n",
              "  <div id=\"df-36ecec8b-e28c-4a85-87a9-e4627d9e6b44\">\n",
              "    <div class=\"colab-df-container\">\n",
              "      <div>\n",
              "<style scoped>\n",
              "    .dataframe tbody tr th:only-of-type {\n",
              "        vertical-align: middle;\n",
              "    }\n",
              "\n",
              "    .dataframe tbody tr th {\n",
              "        vertical-align: top;\n",
              "    }\n",
              "\n",
              "    .dataframe thead th {\n",
              "        text-align: right;\n",
              "    }\n",
              "</style>\n",
              "<table border=\"1\" class=\"dataframe\">\n",
              "  <thead>\n",
              "    <tr style=\"text-align: right;\">\n",
              "      <th></th>\n",
              "      <th>sequence</th>\n",
              "      <th>label</th>\n",
              "    </tr>\n",
              "  </thead>\n",
              "  <tbody>\n",
              "    <tr>\n",
              "      <th>1822</th>\n",
              "      <td>NNNNNNNNNNNNNNNNNNNNNNNNNNNNNNNNNNNNNNNNGAATTC...</td>\n",
              "      <td>0</td>\n",
              "    </tr>\n",
              "  </tbody>\n",
              "</table>\n",
              "</div>\n",
              "      <button class=\"colab-df-convert\" onclick=\"convertToInteractive('df-36ecec8b-e28c-4a85-87a9-e4627d9e6b44')\"\n",
              "              title=\"Convert this dataframe to an interactive table.\"\n",
              "              style=\"display:none;\">\n",
              "        \n",
              "  <svg xmlns=\"http://www.w3.org/2000/svg\" height=\"24px\"viewBox=\"0 0 24 24\"\n",
              "       width=\"24px\">\n",
              "    <path d=\"M0 0h24v24H0V0z\" fill=\"none\"/>\n",
              "    <path d=\"M18.56 5.44l.94 2.06.94-2.06 2.06-.94-2.06-.94-.94-2.06-.94 2.06-2.06.94zm-11 1L8.5 8.5l.94-2.06 2.06-.94-2.06-.94L8.5 2.5l-.94 2.06-2.06.94zm10 10l.94 2.06.94-2.06 2.06-.94-2.06-.94-.94-2.06-.94 2.06-2.06.94z\"/><path d=\"M17.41 7.96l-1.37-1.37c-.4-.4-.92-.59-1.43-.59-.52 0-1.04.2-1.43.59L10.3 9.45l-7.72 7.72c-.78.78-.78 2.05 0 2.83L4 21.41c.39.39.9.59 1.41.59.51 0 1.02-.2 1.41-.59l7.78-7.78 2.81-2.81c.8-.78.8-2.07 0-2.86zM5.41 20L4 18.59l7.72-7.72 1.47 1.35L5.41 20z\"/>\n",
              "  </svg>\n",
              "      </button>\n",
              "      \n",
              "  <style>\n",
              "    .colab-df-container {\n",
              "      display:flex;\n",
              "      flex-wrap:wrap;\n",
              "      gap: 12px;\n",
              "    }\n",
              "\n",
              "    .colab-df-convert {\n",
              "      background-color: #E8F0FE;\n",
              "      border: none;\n",
              "      border-radius: 50%;\n",
              "      cursor: pointer;\n",
              "      display: none;\n",
              "      fill: #1967D2;\n",
              "      height: 32px;\n",
              "      padding: 0 0 0 0;\n",
              "      width: 32px;\n",
              "    }\n",
              "\n",
              "    .colab-df-convert:hover {\n",
              "      background-color: #E2EBFA;\n",
              "      box-shadow: 0px 1px 2px rgba(60, 64, 67, 0.3), 0px 1px 3px 1px rgba(60, 64, 67, 0.15);\n",
              "      fill: #174EA6;\n",
              "    }\n",
              "\n",
              "    [theme=dark] .colab-df-convert {\n",
              "      background-color: #3B4455;\n",
              "      fill: #D2E3FC;\n",
              "    }\n",
              "\n",
              "    [theme=dark] .colab-df-convert:hover {\n",
              "      background-color: #434B5C;\n",
              "      box-shadow: 0px 1px 3px 1px rgba(0, 0, 0, 0.15);\n",
              "      filter: drop-shadow(0px 1px 2px rgba(0, 0, 0, 0.3));\n",
              "      fill: #FFFFFF;\n",
              "    }\n",
              "  </style>\n",
              "\n",
              "      <script>\n",
              "        const buttonEl =\n",
              "          document.querySelector('#df-36ecec8b-e28c-4a85-87a9-e4627d9e6b44 button.colab-df-convert');\n",
              "        buttonEl.style.display =\n",
              "          google.colab.kernel.accessAllowed ? 'block' : 'none';\n",
              "\n",
              "        async function convertToInteractive(key) {\n",
              "          const element = document.querySelector('#df-36ecec8b-e28c-4a85-87a9-e4627d9e6b44');\n",
              "          const dataTable =\n",
              "            await google.colab.kernel.invokeFunction('convertToInteractive',\n",
              "                                                     [key], {});\n",
              "          if (!dataTable) return;\n",
              "\n",
              "          const docLinkHtml = 'Like what you see? Visit the ' +\n",
              "            '<a target=\"_blank\" href=https://colab.research.google.com/notebooks/data_table.ipynb>data table notebook</a>'\n",
              "            + ' to learn more about interactive tables.';\n",
              "          element.innerHTML = '';\n",
              "          dataTable['output_type'] = 'display_data';\n",
              "          await google.colab.output.renderOutput(dataTable, element);\n",
              "          const docLink = document.createElement('div');\n",
              "          docLink.innerHTML = docLinkHtml;\n",
              "          element.appendChild(docLink);\n",
              "        }\n",
              "      </script>\n",
              "    </div>\n",
              "  </div>\n",
              "  "
            ]
          },
          "metadata": {}
        }
      ]
    },
    {
      "cell_type": "code",
      "source": [
        "df.drop([1822], inplace = True)"
      ],
      "metadata": {
        "id": "pYSbDf6qafEH"
      },
      "execution_count": 8,
      "outputs": []
    },
    {
      "cell_type": "code",
      "source": [
        "for seq in df['sequence']:\n",
        "    if 'N' in seq:\n",
        "        display(df.loc[df['sequence'] == seq])"
      ],
      "metadata": {
        "id": "vTEU9aQOahQU"
      },
      "execution_count": 9,
      "outputs": []
    },
    {
      "cell_type": "code",
      "source": [
        "sequence = list(df.loc[:, 'sequence'])\n",
        "encoded_list = []\n"
      ],
      "metadata": {
        "id": "x2_j-bFWaiXc"
      },
      "execution_count": 10,
      "outputs": []
    },
    {
      "cell_type": "code",
      "source": [
        "def encode_seq(s):\n",
        "    Encode = {'A':[1,0,0,0],'T':[0,1,0,0],'C':[0,0,1,0],'G':[0,0,0,1]}\n",
        "    return [Encode[x] for x in s]\n",
        "\n",
        "for i in sequence:\n",
        "    x = encode_seq(i)\n",
        "    encoded_list.append(x)\n",
        "\n",
        "X = np.array(encoded_list)\n",
        "X.shape\n",
        "\n"
      ],
      "metadata": {
        "colab": {
          "base_uri": "https://localhost:8080/"
        },
        "id": "qUtsRXi_ajUJ",
        "outputId": "18b4a84b-1b8d-4a67-d8c7-2d30fc86c74a"
      },
      "execution_count": 11,
      "outputs": [
        {
          "output_type": "execute_result",
          "data": {
            "text/plain": [
              "(22598, 301, 4)"
            ]
          },
          "metadata": {},
          "execution_count": 11
        }
      ]
    },
    {
      "cell_type": "code",
      "source": [
        "y = df['label']\n",
        "y.shape\n",
        "X.shape"
      ],
      "metadata": {
        "colab": {
          "base_uri": "https://localhost:8080/"
        },
        "id": "ecFZwZPVO-zO",
        "outputId": "6b48e3bd-de59-4951-aef6-b1c29aeedacb"
      },
      "execution_count": 12,
      "outputs": [
        {
          "output_type": "execute_result",
          "data": {
            "text/plain": [
              "(22598, 301, 4)"
            ]
          },
          "metadata": {},
          "execution_count": 12
        }
      ]
    },
    {
      "cell_type": "code",
      "source": [
        "X_train, X_not_train, y_train, y_not_train = train_test_split(X, y, test_size = 0.1, random_state = 42, stratify = y)\n",
        "y_train = utils.to_categorical(y_train)\n",
        "\n",
        "X_val, X_test, y_val, y_test = train_test_split(X_not_train, y_not_train, random_state = 42, stratify = y_not_train, test_size=0.5)\n",
        "\n",
        "y_val = utils.to_categorical(y_val)\n",
        "y_test = utils.to_categorical(y_test)\n",
        "\n",
        "X_train = tf.cast(X_train, dtype='float32')\n",
        "X_val = tf.cast(X_val, dtype='float32')\n",
        "X_test = tf.cast(X_test, dtype='float32')\n",
        "\n",
        "with tensorflow.device('/device:GPU:0'):\n",
        "  gru_model = Sequential()\n",
        "  \n",
        "  gru_model.add(Bidirectional(GRU(128, activation = 'relu')))\n",
        "  gru_model.add(Dropout(0.2))\n",
        "  gru_model.add(Dense(128, activation = 'relu'))\n",
        "  gru_model.add(Dense(64, activation = 'relu'))\n",
        "  gru_model.add(Dense(64, activation = 'relu'))\n",
        "  gru_model.add(Dense(16, activation = 'relu', kernel_regularizer = regularizers.l2(0.01)))\n",
        "  gru_model.add(Dense(2, activation = 'sigmoid'))\n",
        "\n",
        "  gru_model.compile(loss='binary_crossentropy',\n",
        "                optimizer='adam',\n",
        "                metrics=['accuracy'])\n",
        "\n",
        "  early_stop = tensorflow.keras.callbacks.EarlyStopping(monitor = 'val_accuracy', min_delta = 0.0005, patience=8, \n",
        "                                            restore_best_weights=True )\n",
        "  history = gru_model.fit(X_train, y_train, batch_size = 128, validation_data=(X_val, y_val), \n",
        "                          epochs=40)"
      ],
      "metadata": {
        "id": "nF1kEr-Waq5k",
        "colab": {
          "base_uri": "https://localhost:8080/"
        },
        "outputId": "5204bb22-9e38-4320-e899-fd73ef6af261"
      },
      "execution_count": 13,
      "outputs": [
        {
          "output_type": "stream",
          "name": "stderr",
          "text": [
            "WARNING:tensorflow:Layer gru will not use cuDNN kernels since it doesn't meet the criteria. It will use a generic GPU kernel as fallback when running on GPU.\n",
            "WARNING:tensorflow:Layer gru will not use cuDNN kernels since it doesn't meet the criteria. It will use a generic GPU kernel as fallback when running on GPU.\n",
            "WARNING:tensorflow:Layer gru will not use cuDNN kernels since it doesn't meet the criteria. It will use a generic GPU kernel as fallback when running on GPU.\n"
          ]
        },
        {
          "output_type": "stream",
          "name": "stdout",
          "text": [
            "Epoch 1/40\n",
            "159/159 [==============================] - 174s 1s/step - loss: 0.8115 - accuracy: 0.5606 - val_loss: 0.7429 - val_accuracy: 0.5000\n",
            "Epoch 2/40\n",
            "159/159 [==============================] - 164s 1s/step - loss: 0.7189 - accuracy: 0.5054 - val_loss: 0.7065 - val_accuracy: 0.5000\n",
            "Epoch 3/40\n",
            "159/159 [==============================] - 163s 1s/step - loss: 0.7016 - accuracy: 0.5016 - val_loss: 0.6987 - val_accuracy: 0.5000\n",
            "Epoch 4/40\n",
            "159/159 [==============================] - 161s 1s/step - loss: 0.6977 - accuracy: 0.4995 - val_loss: 0.6966 - val_accuracy: 0.5000\n",
            "Epoch 5/40\n",
            "159/159 [==============================] - 163s 1s/step - loss: 0.6958 - accuracy: 0.4997 - val_loss: 0.6952 - val_accuracy: 0.5000\n",
            "Epoch 6/40\n",
            "159/159 [==============================] - 162s 1s/step - loss: 0.6949 - accuracy: 0.5035 - val_loss: 0.6945 - val_accuracy: 0.5000\n",
            "Epoch 7/40\n",
            "159/159 [==============================] - 158s 996ms/step - loss: 0.6943 - accuracy: 0.4987 - val_loss: 0.6941 - val_accuracy: 0.5000\n",
            "Epoch 8/40\n",
            "159/159 [==============================] - 158s 992ms/step - loss: 0.6939 - accuracy: 0.5016 - val_loss: 0.6938 - val_accuracy: 0.5000\n",
            "Epoch 9/40\n",
            "159/159 [==============================] - 157s 990ms/step - loss: 0.6936 - accuracy: 0.5067 - val_loss: 0.6934 - val_accuracy: 0.5000\n",
            "Epoch 10/40\n",
            "159/159 [==============================] - 157s 989ms/step - loss: 0.6931 - accuracy: 0.5164 - val_loss: 0.6838 - val_accuracy: 0.7097\n",
            "Epoch 11/40\n",
            "159/159 [==============================] - 156s 984ms/step - loss: 0.6869 - accuracy: 0.5437 - val_loss: 0.6957 - val_accuracy: 0.5000\n",
            "Epoch 12/40\n",
            "159/159 [==============================] - 178s 1s/step - loss: 0.6942 - accuracy: 0.5049 - val_loss: 0.6933 - val_accuracy: 0.5000\n",
            "Epoch 13/40\n",
            "159/159 [==============================] - 179s 1s/step - loss: 0.6798 - accuracy: 0.5724 - val_loss: 0.6504 - val_accuracy: 0.6283\n",
            "Epoch 14/40\n",
            "159/159 [==============================] - 167s 1s/step - loss: 0.5809 - accuracy: 0.7001 - val_loss: 0.5347 - val_accuracy: 0.7389\n",
            "Epoch 15/40\n",
            "159/159 [==============================] - 166s 1s/step - loss: 0.5321 - accuracy: 0.7391 - val_loss: 0.5212 - val_accuracy: 0.7460\n",
            "Epoch 16/40\n",
            "159/159 [==============================] - 161s 1s/step - loss: 0.5190 - accuracy: 0.7460 - val_loss: 0.5196 - val_accuracy: 0.7540\n",
            "Epoch 17/40\n",
            "159/159 [==============================] - 168s 1s/step - loss: 0.5067 - accuracy: 0.7526 - val_loss: 0.5030 - val_accuracy: 0.7575\n",
            "Epoch 18/40\n",
            "159/159 [==============================] - 165s 1s/step - loss: 0.5012 - accuracy: 0.7589 - val_loss: 0.5061 - val_accuracy: 0.7540\n",
            "Epoch 19/40\n",
            "159/159 [==============================] - 162s 1s/step - loss: 0.4935 - accuracy: 0.7619 - val_loss: 0.4885 - val_accuracy: 0.7673\n",
            "Epoch 20/40\n",
            "159/159 [==============================] - 162s 1s/step - loss: 0.4899 - accuracy: 0.7622 - val_loss: 0.5033 - val_accuracy: 0.7558\n",
            "Epoch 21/40\n",
            "159/159 [==============================] - 162s 1s/step - loss: 0.4901 - accuracy: 0.7631 - val_loss: 0.4823 - val_accuracy: 0.7637\n",
            "Epoch 22/40\n",
            "159/159 [==============================] - 164s 1s/step - loss: 0.4861 - accuracy: 0.7660 - val_loss: 0.4843 - val_accuracy: 0.7549\n",
            "Epoch 23/40\n",
            "159/159 [==============================] - 160s 1s/step - loss: 0.4848 - accuracy: 0.7688 - val_loss: 0.4851 - val_accuracy: 0.7646\n",
            "Epoch 24/40\n",
            "159/159 [==============================] - 158s 994ms/step - loss: 0.4787 - accuracy: 0.7719 - val_loss: 0.4718 - val_accuracy: 0.7708\n",
            "Epoch 25/40\n",
            "159/159 [==============================] - 179s 1s/step - loss: 0.4740 - accuracy: 0.7729 - val_loss: 0.4662 - val_accuracy: 0.7673\n",
            "Epoch 26/40\n",
            "159/159 [==============================] - 160s 1s/step - loss: 0.4713 - accuracy: 0.7748 - val_loss: 0.4625 - val_accuracy: 0.7735\n",
            "Epoch 27/40\n",
            "159/159 [==============================] - 160s 1s/step - loss: 0.4619 - accuracy: 0.7783 - val_loss: 0.4577 - val_accuracy: 0.7735\n",
            "Epoch 28/40\n",
            "159/159 [==============================] - 169s 1s/step - loss: 0.4516 - accuracy: 0.7840 - val_loss: 0.4431 - val_accuracy: 0.7850\n",
            "Epoch 29/40\n",
            "159/159 [==============================] - 162s 1s/step - loss: 0.4394 - accuracy: 0.7914 - val_loss: 0.4612 - val_accuracy: 0.7690\n",
            "Epoch 30/40\n",
            "159/159 [==============================] - 160s 1s/step - loss: 0.4327 - accuracy: 0.8032 - val_loss: 0.4294 - val_accuracy: 0.7938\n",
            "Epoch 31/40\n",
            "159/159 [==============================] - 155s 977ms/step - loss: 0.4143 - accuracy: 0.8106 - val_loss: 0.4033 - val_accuracy: 0.8150\n",
            "Epoch 32/40\n",
            "159/159 [==============================] - 157s 987ms/step - loss: 0.4016 - accuracy: 0.8148 - val_loss: 0.4264 - val_accuracy: 0.8080\n",
            "Epoch 33/40\n",
            "159/159 [==============================] - 157s 986ms/step - loss: 0.3935 - accuracy: 0.8226 - val_loss: 0.3892 - val_accuracy: 0.8221\n",
            "Epoch 34/40\n",
            "159/159 [==============================] - 157s 989ms/step - loss: 0.3845 - accuracy: 0.8292 - val_loss: 0.3932 - val_accuracy: 0.8212\n",
            "Epoch 35/40\n",
            "159/159 [==============================] - 155s 977ms/step - loss: 0.3833 - accuracy: 0.8272 - val_loss: 0.3886 - val_accuracy: 0.8168\n",
            "Epoch 36/40\n",
            "159/159 [==============================] - 156s 984ms/step - loss: 0.3651 - accuracy: 0.8405 - val_loss: 0.3671 - val_accuracy: 0.8310\n",
            "Epoch 37/40\n",
            "159/159 [==============================] - 155s 977ms/step - loss: 0.3513 - accuracy: 0.8465 - val_loss: 0.3696 - val_accuracy: 0.8372\n",
            "Epoch 38/40\n",
            "159/159 [==============================] - 155s 975ms/step - loss: 0.3489 - accuracy: 0.8503 - val_loss: 0.3544 - val_accuracy: 0.8381\n",
            "Epoch 39/40\n",
            "159/159 [==============================] - 155s 977ms/step - loss: 0.3378 - accuracy: 0.8541 - val_loss: 0.3445 - val_accuracy: 0.8469\n",
            "Epoch 40/40\n",
            "159/159 [==============================] - 156s 980ms/step - loss: 0.3305 - accuracy: 0.8605 - val_loss: 0.3610 - val_accuracy: 0.8416\n"
          ]
        }
      ]
    },
    {
      "cell_type": "code",
      "source": [
        "pred = gru_model.predict"
      ],
      "metadata": {
        "id": "7pqSUkC8ax4E"
      },
      "execution_count": 14,
      "outputs": []
    },
    {
      "cell_type": "code",
      "source": [
        "preds = gru_model.predict(X_test)\n"
      ],
      "metadata": {
        "id": "diyyYtQja72R",
        "colab": {
          "base_uri": "https://localhost:8080/"
        },
        "outputId": "29648a6d-de9b-4044-be35-f7998ec03896"
      },
      "execution_count": 15,
      "outputs": [
        {
          "output_type": "stream",
          "name": "stdout",
          "text": [
            "36/36 [==============================] - 3s 84ms/step\n"
          ]
        }
      ]
    },
    {
      "cell_type": "code",
      "source": [
        "# get accuracy\n",
        "# positive: is promoter\n",
        "tn = 0\n",
        "fn = 0\n",
        "fp = 0\n",
        "tp = 0\n",
        "\n",
        "for i in range(len(preds)):\n",
        "  if preds[i][0] >= preds[i][1]: # non-promoter\n",
        "    preds[i][0] = 1\n",
        "    preds[i][1] = 0\n",
        "  else:                          # promoter\n",
        "    preds[i][0] = 0\n",
        "    preds[i][1] = 1\n",
        "\n",
        "for i in range(len(preds)):\n",
        "  if(preds[i][0] > preds[i][1]): # non-promoter\n",
        "    if y_test[i][0] == 1:\n",
        "      tn += 1\n",
        "    else:\n",
        "      fn += 1\n",
        "  else:                          # promoter\n",
        "    if y_test[i][1] == 1:\n",
        "      tp += 1\n",
        "    else:\n",
        "      fp += 1\n",
        "\n",
        "precision = tp / (tp + fp)\n",
        "recall = tp / (tp + fn)\n",
        "accuracy = (tp + tn) / (tp + fn + fp + tn)\n",
        "print(precision, recall, accuracy)\n",
        "print(tp, fn, fp, tn)"
      ],
      "metadata": {
        "colab": {
          "base_uri": "https://localhost:8080/"
        },
        "id": "BC6RXXzSONO_",
        "outputId": "cbae4da0-57c0-4a6b-bc72-8b391bd8a8e1"
      },
      "execution_count": 16,
      "outputs": [
        {
          "output_type": "stream",
          "name": "stdout",
          "text": [
            "0.7932692307692307 0.8761061946902655 0.8238938053097346\n",
            "495 70 129 436\n"
          ]
        }
      ]
    },
    {
      "cell_type": "code",
      "source": [
        "import matplotlib.pyplot as plt\n",
        "\n",
        "plt.plot(history.history['accuracy'])\n",
        "plt.plot(history.history['val_accuracy'])\n",
        "plt.title('Model accuracy')\n",
        "plt.xlabel('Epoch')\n",
        "plt.ylabel('Accuracy')\n",
        "plt.legend(['Train', 'Val'], loc='upper left')\n",
        "plt.savefig('only GRU accuracy')"
      ],
      "metadata": {
        "colab": {
          "base_uri": "https://localhost:8080/",
          "height": 295
        },
        "id": "vtKIxYw5PSub",
        "outputId": "4100d04d-52da-4d86-e45d-ae4bd9a290cc"
      },
      "execution_count": 21,
      "outputs": [
        {
          "output_type": "display_data",
          "data": {
            "text/plain": [
              "<Figure size 432x288 with 1 Axes>"
            ],
            "image/png": "[encoded data removed]"
          },
          "metadata": {
            "needs_background": "light"
          }
        }
      ]
    },
    {
      "cell_type": "code",
      "source": [
        "gru_model.summary()"
      ],
      "metadata": {
        "colab": {
          "base_uri": "https://localhost:8080/"
        },
        "id": "OFBWM2JGaFst",
        "outputId": "93d24325-7bbf-4d01-f0f2-47af46d3425b"
      },
      "execution_count": 19,
      "outputs": [
        {
          "output_type": "stream",
          "name": "stdout",
          "text": [
            "Model: \"sequential\"\n",
            "_________________________________________________________________\n",
            " Layer (type)                Output Shape              Param #   \n",
            "=================================================================\n",
            " bidirectional (Bidirectiona  (None, 256)              102912    \n",
            " l)                                                              \n",
            "                                                                 \n",
            " dropout (Dropout)           (None, 256)               0         \n",
            "                                                                 \n",
            " dense (Dense)               (None, 128)               32896     \n",
            "                                                                 \n",
            " dense_1 (Dense)             (None, 64)                8256      \n",
            "                                                                 \n",
            " dense_2 (Dense)             (None, 64)                4160      \n",
            "                                                                 \n",
            " dense_3 (Dense)             (None, 16)                1040      \n",
            "                                                                 \n",
            " dense_4 (Dense)             (None, 2)                 34        \n",
            "                                                                 \n",
            "=================================================================\n",
            "Total params: 149,298\n",
            "Trainable params: 149,298\n",
            "Non-trainable params: 0\n",
            "_________________________________________________________________\n"
          ]
        }
      ]
    },
    {
      "cell_type": "code",
      "source": [
        "plt.plot(history.history['loss'])\n",
        "plt.plot(history.history['val_loss'])\n",
        "plt.title('Model Loss')\n",
        "plt.xlabel('Epoch')\n",
        "plt.ylabel('Loss')\n",
        "plt.legend(['Train', 'Val'], loc='upper left')\n",
        "plt.savefig('only GRU loss')"
      ],
      "metadata": {
        "colab": {
          "base_uri": "https://localhost:8080/",
          "height": 295
        },
        "id": "UAZ7wLYSRMQJ",
        "outputId": "7ed44c2b-5b79-4a7e-92dc-760367939e04"
      },
      "execution_count": 22,
      "outputs": [
        {
          "output_type": "display_data",
          "data": {
            "text/plain": [
              "<Figure size 432x288 with 1 Axes>"
            ],
            "image/png": "[encoded data removed]"
          },
          "metadata": {
            "needs_background": "light"
          }
        }
      ]
    }
  ]
}