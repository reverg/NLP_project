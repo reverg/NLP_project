{
  "nbformat": 4,
  "nbformat_minor": 0,
  "metadata": {
    "colab": {
      "provenance": []
    },
    "kernelspec": {
      "name": "python3",
      "display_name": "Python 3"
    },
    "language_info": {
      "name": "python"
    },
    "accelerator": "GPU",
    "gpuClass": "standard"
  },
  "cells": [
    {
      "cell_type": "code",
      "source": [
        "import sys\n",
        "from google.colab import drive\n",
        "\n",
        "drive.mount('/content/gdrive')"
      ],
      "metadata": {
        "colab": {
          "base_uri": "https://localhost:8080/"
        },
        "id": "7GNNbPd4cmo6",
        "outputId": "8b7a2ad8-fca1-47b7-d967-5d782c42dddb"
      },
      "execution_count": 1,
      "outputs": [
        {
          "output_type": "stream",
          "name": "stdout",
          "text": [
            "Mounted at /content/gdrive\n"
          ]
        }
      ]
    },
    {
      "cell_type": "code",
      "source": [
        "import tensorflow as tf\n",
        "\n",
        "device_name = tf.test.gpu_device_name()\n",
        "if device_name != '/device:GPU:0':\n",
        "  raise SystemError('GPU device not found')\n",
        "print('Found GPU at: {}'.format(device_name))"
      ],
      "metadata": {
        "colab": {
          "base_uri": "https://localhost:8080/"
        },
        "id": "dZII8EysfWnR",
        "outputId": "4f9c834b-19a5-4260-ef3e-03e276dd5387"
      },
      "execution_count": 2,
      "outputs": [
        {
          "output_type": "stream",
          "name": "stdout",
          "text": [
            "Found GPU at: /device:GPU:0\n"
          ]
        }
      ]
    },
    {
      "cell_type": "code",
      "execution_count": 3,
      "metadata": {
        "id": "rqWv4pUYaUzY"
      },
      "outputs": [],
      "source": [
        "import pandas as pd\n",
        "import numpy as np\n",
        "import os\n",
        "\n",
        "import joblib\n",
        "import tensorflow as tf\n",
        "import tensorflow.keras\n",
        "from tensorflow.keras import utils\n",
        "from sklearn.model_selection import train_test_split, GridSearchCV\n",
        "from tensorflow.keras.models import Sequential\n",
        "from tensorflow.keras.layers import Dense, Dropout, Flatten, Conv1D, MaxPooling1D, MaxPooling2D, Conv2D, LSTM, GRU, Bidirectional\n",
        "from tensorflow.keras import regularizers\n",
        "from tensorflow.keras.callbacks import EarlyStopping, ModelCheckpoint\n",
        "from tensorflow.keras.wrappers.scikit_learn import KerasClassifier"
      ]
    },
    {
      "cell_type": "code",
      "source": [
        "df = pd.read_csv('/content/gdrive/MyDrive/NonPromoterSequence.txt', sep = '>', )\n",
        "df.dropna(subset=['Unnamed: 0'], how='all', inplace=True)\n",
        "df.reset_index(inplace = True)\n",
        "df.drop(['EP 1 (+) mt:CoI_1; range -400 to -100.', 'index'], axis = 1, inplace=True) #data cleaning after error found\n",
        "df.rename(columns={'Unnamed: 0': \"sequence\"}, inplace = True)\n",
        "df['label'] = 0\n",
        "display(df)\n",
        "display(df.shape)"
      ],
      "metadata": {
        "colab": {
          "base_uri": "https://localhost:8080/",
          "height": 441
        },
        "id": "brRnk4EMaZPB",
        "outputId": "3da00e2d-f545-447c-e2d9-c03331f467ff"
      },
      "execution_count": 4,
      "outputs": [
        {
          "output_type": "display_data",
          "data": {
            "text/plain": [
              "                                                sequence  label\n",
              "0      TAATTACATTATTTTTTTATTTACGAATTTGTTATTCCGCTTTTAT...      0\n",
              "1      ATTTTTACAAGAACAAGACATTTAACTTTAACTTTATCTTTAGCTT...      0\n",
              "2      AGAGATAGGTGGGTCTGTAACACTCGAATCAAAAACAATATTAAGA...      0\n",
              "3      TATGTATATAGAGATAGGCGTTGCCAATAACTTTTGCGTTTTTTGC...      0\n",
              "4      AGAAATAATAGCTAGAGCAAAAAACAGCTTAGAACGGCTGATGCTC...      0\n",
              "...                                                  ...    ...\n",
              "11295  TGGTAAAAAATTGTACACCTAACTAGTGCCTTCATGTATACCACCA...      0\n",
              "11296  AGTGCAACTGGAGCCGTGCCGTGACCCACAGAGATCGCCCACTCGA...      0\n",
              "11297  GCATGGATTTCATATTATCTTAATCGACTTGCTTTTATAAAATAGG...      0\n",
              "11298  GTGACCAGGTTTTGCTCTAATGCGAAGTACGGATTGGGTAGAGATA...      0\n",
              "11299  TCATATTGAAAATTGATAAGATTGATATTAACGTAGCAAAGAAAGC...      0\n",
              "\n",
              "[11300 rows x 2 columns]"
            ],
            "text/html": [
              "\n",
              "  <div id=\"df-7024fff3-6540-4b45-9e82-04462fa9c353\">\n",
              "    <div class=\"colab-df-container\">\n",
              "      <div>\n",
              "<style scoped>\n",
              "    .dataframe tbody tr th:only-of-type {\n",
              "        vertical-align: middle;\n",
              "    }\n",
              "\n",
              "    .dataframe tbody tr th {\n",
              "        vertical-align: top;\n",
              "    }\n",
              "\n",
              "    .dataframe thead th {\n",
              "        text-align: right;\n",
              "    }\n",
              "</style>\n",
              "<table border=\"1\" class=\"dataframe\">\n",
              "  <thead>\n",
              "    <tr style=\"text-align: right;\">\n",
              "      <th></th>\n",
              "      <th>sequence</th>\n",
              "      <th>label</th>\n",
              "    </tr>\n",
              "  </thead>\n",
              "  <tbody>\n",
              "    <tr>\n",
              "      <th>0</th>\n",
              "      <td>TAATTACATTATTTTTTTATTTACGAATTTGTTATTCCGCTTTTAT...</td>\n",
              "      <td>0</td>\n",
              "    </tr>\n",
              "    <tr>\n",
              "      <th>1</th>\n",
              "      <td>ATTTTTACAAGAACAAGACATTTAACTTTAACTTTATCTTTAGCTT...</td>\n",
              "      <td>0</td>\n",
              "    </tr>\n",
              "    <tr>\n",
              "      <th>2</th>\n",
              "      <td>AGAGATAGGTGGGTCTGTAACACTCGAATCAAAAACAATATTAAGA...</td>\n",
              "      <td>0</td>\n",
              "    </tr>\n",
              "    <tr>\n",
              "      <th>3</th>\n",
              "      <td>TATGTATATAGAGATAGGCGTTGCCAATAACTTTTGCGTTTTTTGC...</td>\n",
              "      <td>0</td>\n",
              "    </tr>\n",
              "    <tr>\n",
              "      <th>4</th>\n",
              "      <td>AGAAATAATAGCTAGAGCAAAAAACAGCTTAGAACGGCTGATGCTC...</td>\n",
              "      <td>0</td>\n",
              "    </tr>\n",
              "    <tr>\n",
              "      <th>...</th>\n",
              "      <td>...</td>\n",
              "      <td>...</td>\n",
              "    </tr>\n",
              "    <tr>\n",
              "      <th>11295</th>\n",
              "      <td>TGGTAAAAAATTGTACACCTAACTAGTGCCTTCATGTATACCACCA...</td>\n",
              "      <td>0</td>\n",
              "    </tr>\n",
              "    <tr>\n",
              "      <th>11296</th>\n",
              "      <td>AGTGCAACTGGAGCCGTGCCGTGACCCACAGAGATCGCCCACTCGA...</td>\n",
              "      <td>0</td>\n",
              "    </tr>\n",
              "    <tr>\n",
              "      <th>11297</th>\n",
              "      <td>GCATGGATTTCATATTATCTTAATCGACTTGCTTTTATAAAATAGG...</td>\n",
              "      <td>0</td>\n",
              "    </tr>\n",
              "    <tr>\n",
              "      <th>11298</th>\n",
              "      <td>GTGACCAGGTTTTGCTCTAATGCGAAGTACGGATTGGGTAGAGATA...</td>\n",
              "      <td>0</td>\n",
              "    </tr>\n",
              "    <tr>\n",
              "      <th>11299</th>\n",
              "      <td>TCATATTGAAAATTGATAAGATTGATATTAACGTAGCAAAGAAAGC...</td>\n",
              "      <td>0</td>\n",
              "    </tr>\n",
              "  </tbody>\n",
              "</table>\n",
              "<p>11300 rows × 2 columns</p>\n",
              "</div>\n",
              "      <button class=\"colab-df-convert\" onclick=\"convertToInteractive('df-7024fff3-6540-4b45-9e82-04462fa9c353')\"\n",
              "              title=\"Convert this dataframe to an interactive table.\"\n",
              "              style=\"display:none;\">\n",
              "        \n",
              "  <svg xmlns=\"http://www.w3.org/2000/svg\" height=\"24px\"viewBox=\"0 0 24 24\"\n",
              "       width=\"24px\">\n",
              "    <path d=\"M0 0h24v24H0V0z\" fill=\"none\"/>\n",
              "    <path d=\"M18.56 5.44l.94 2.06.94-2.06 2.06-.94-2.06-.94-.94-2.06-.94 2.06-2.06.94zm-11 1L8.5 8.5l.94-2.06 2.06-.94-2.06-.94L8.5 2.5l-.94 2.06-2.06.94zm10 10l.94 2.06.94-2.06 2.06-.94-2.06-.94-.94-2.06-.94 2.06-2.06.94z\"/><path d=\"M17.41 7.96l-1.37-1.37c-.4-.4-.92-.59-1.43-.59-.52 0-1.04.2-1.43.59L10.3 9.45l-7.72 7.72c-.78.78-.78 2.05 0 2.83L4 21.41c.39.39.9.59 1.41.59.51 0 1.02-.2 1.41-.59l7.78-7.78 2.81-2.81c.8-.78.8-2.07 0-2.86zM5.41 20L4 18.59l7.72-7.72 1.47 1.35L5.41 20z\"/>\n",
              "  </svg>\n",
              "      </button>\n",
              "      \n",
              "  <style>\n",
              "    .colab-df-container {\n",
              "      display:flex;\n",
              "      flex-wrap:wrap;\n",
              "      gap: 12px;\n",
              "    }\n",
              "\n",
              "    .colab-df-convert {\n",
              "      background-color: #E8F0FE;\n",
              "      border: none;\n",
              "      border-radius: 50%;\n",
              "      cursor: pointer;\n",
              "      display: none;\n",
              "      fill: #1967D2;\n",
              "      height: 32px;\n",
              "      padding: 0 0 0 0;\n",
              "      width: 32px;\n",
              "    }\n",
              "\n",
              "    .colab-df-convert:hover {\n",
              "      background-color: #E2EBFA;\n",
              "      box-shadow: 0px 1px 2px rgba(60, 64, 67, 0.3), 0px 1px 3px 1px rgba(60, 64, 67, 0.15);\n",
              "      fill: #174EA6;\n",
              "    }\n",
              "\n",
              "    [theme=dark] .colab-df-convert {\n",
              "      background-color: #3B4455;\n",
              "      fill: #D2E3FC;\n",
              "    }\n",
              "\n",
              "    [theme=dark] .colab-df-convert:hover {\n",
              "      background-color: #434B5C;\n",
              "      box-shadow: 0px 1px 3px 1px rgba(0, 0, 0, 0.15);\n",
              "      filter: drop-shadow(0px 1px 2px rgba(0, 0, 0, 0.3));\n",
              "      fill: #FFFFFF;\n",
              "    }\n",
              "  </style>\n",
              "\n",
              "      <script>\n",
              "        const buttonEl =\n",
              "          document.querySelector('#df-7024fff3-6540-4b45-9e82-04462fa9c353 button.colab-df-convert');\n",
              "        buttonEl.style.display =\n",
              "          google.colab.kernel.accessAllowed ? 'block' : 'none';\n",
              "\n",
              "        async function convertToInteractive(key) {\n",
              "          const element = document.querySelector('#df-7024fff3-6540-4b45-9e82-04462fa9c353');\n",
              "          const dataTable =\n",
              "            await google.colab.kernel.invokeFunction('convertToInteractive',\n",
              "                                                     [key], {});\n",
              "          if (!dataTable) return;\n",
              "\n",
              "          const docLinkHtml = 'Like what you see? Visit the ' +\n",
              "            '<a target=\"_blank\" href=https://colab.research.google.com/notebooks/data_table.ipynb>data table notebook</a>'\n",
              "            + ' to learn more about interactive tables.';\n",
              "          element.innerHTML = '';\n",
              "          dataTable['output_type'] = 'display_data';\n",
              "          await google.colab.output.renderOutput(dataTable, element);\n",
              "          const docLink = document.createElement('div');\n",
              "          docLink.innerHTML = docLinkHtml;\n",
              "          element.appendChild(docLink);\n",
              "        }\n",
              "      </script>\n",
              "    </div>\n",
              "  </div>\n",
              "  "
            ]
          },
          "metadata": {}
        },
        {
          "output_type": "display_data",
          "data": {
            "text/plain": [
              "(11300, 2)"
            ]
          },
          "metadata": {}
        }
      ]
    },
    {
      "cell_type": "code",
      "source": [
        "df2 = pd.read_csv('/content/gdrive/MyDrive/PromoterSequence.txt', sep = '>', )\n",
        "df2.dropna(subset=['Unnamed: 0'], how='all', inplace=True)\n",
        "df2.reset_index(inplace = True)\n",
        "df2.drop(['EP 1 (+) mt:CoI_1; range -100 to 200.', 'index'], axis = 1, inplace=True)\n",
        "df2.rename(columns={'Unnamed: 0': \"sequence\"}, inplace = True)\n",
        "df2['label'] = 1\n",
        "\n",
        "display(df2)\n",
        "display(df2.shape)\n"
      ],
      "metadata": {
        "colab": {
          "base_uri": "https://localhost:8080/",
          "height": 441
        },
        "id": "w62mZ6VaabbQ",
        "outputId": "af3afc3c-801a-42d7-f784-ef0a021b5981"
      },
      "execution_count": 5,
      "outputs": [
        {
          "output_type": "display_data",
          "data": {
            "text/plain": [
              "                                                sequence  label\n",
              "0      TTAATTTGTCCTTATTTGATTAAGAAGAATAAATCTTATATATAGA...      1\n",
              "1      ATAGCTCAAATTGCTTTATTAGTATTAGAATCAGCTGTAGCTATAA...      1\n",
              "2      AAGCTTCCCTTTAATGTGCTCCTTGTGAATACAGCATTACAATGCC...      1\n",
              "3      TATGTAGAATCTGTACAAGTATCTGTGTTTGGACAATGGCATGTGT...      1\n",
              "4      ACATATTACTGCATACAGGTCTCAAATTATAAAATGACACTCGTGG...      1\n",
              "...                                                  ...    ...\n",
              "11295  CGACAAAGTTTGATCCATGTGCATTCTTGGCGCCTTATCGATAGCT...      1\n",
              "11296  CATATCTACATCTCGCTTGCTCCTTCCCTTTCGCTGCGTGTGTGTG...      1\n",
              "11297  ATACCGCGGAAGCGCAAAAGTACCAGAATTTCCCTGGTATCGCGCT...      1\n",
              "11298  ATTATTCCGAATTCTTTTATCAGATTTAAATATGGGAAACACTTTA...      1\n",
              "11299  AATTCATTTATACCTGCATTTGTAACTGTACTAAATCTTCAACCAA...      1\n",
              "\n",
              "[11300 rows x 2 columns]"
            ],
            "text/html": [
              "\n",
              "  <div id=\"df-a2be41b3-e24e-416d-930e-aa9005a8bcd5\">\n",
              "    <div class=\"colab-df-container\">\n",
              "      <div>\n",
              "<style scoped>\n",
              "    .dataframe tbody tr th:only-of-type {\n",
              "        vertical-align: middle;\n",
              "    }\n",
              "\n",
              "    .dataframe tbody tr th {\n",
              "        vertical-align: top;\n",
              "    }\n",
              "\n",
              "    .dataframe thead th {\n",
              "        text-align: right;\n",
              "    }\n",
              "</style>\n",
              "<table border=\"1\" class=\"dataframe\">\n",
              "  <thead>\n",
              "    <tr style=\"text-align: right;\">\n",
              "      <th></th>\n",
              "      <th>sequence</th>\n",
              "      <th>label</th>\n",
              "    </tr>\n",
              "  </thead>\n",
              "  <tbody>\n",
              "    <tr>\n",
              "      <th>0</th>\n",
              "      <td>TTAATTTGTCCTTATTTGATTAAGAAGAATAAATCTTATATATAGA...</td>\n",
              "      <td>1</td>\n",
              "    </tr>\n",
              "    <tr>\n",
              "      <th>1</th>\n",
              "      <td>ATAGCTCAAATTGCTTTATTAGTATTAGAATCAGCTGTAGCTATAA...</td>\n",
              "      <td>1</td>\n",
              "    </tr>\n",
              "    <tr>\n",
              "      <th>2</th>\n",
              "      <td>AAGCTTCCCTTTAATGTGCTCCTTGTGAATACAGCATTACAATGCC...</td>\n",
              "      <td>1</td>\n",
              "    </tr>\n",
              "    <tr>\n",
              "      <th>3</th>\n",
              "      <td>TATGTAGAATCTGTACAAGTATCTGTGTTTGGACAATGGCATGTGT...</td>\n",
              "      <td>1</td>\n",
              "    </tr>\n",
              "    <tr>\n",
              "      <th>4</th>\n",
              "      <td>ACATATTACTGCATACAGGTCTCAAATTATAAAATGACACTCGTGG...</td>\n",
              "      <td>1</td>\n",
              "    </tr>\n",
              "    <tr>\n",
              "      <th>...</th>\n",
              "      <td>...</td>\n",
              "      <td>...</td>\n",
              "    </tr>\n",
              "    <tr>\n",
              "      <th>11295</th>\n",
              "      <td>CGACAAAGTTTGATCCATGTGCATTCTTGGCGCCTTATCGATAGCT...</td>\n",
              "      <td>1</td>\n",
              "    </tr>\n",
              "    <tr>\n",
              "      <th>11296</th>\n",
              "      <td>CATATCTACATCTCGCTTGCTCCTTCCCTTTCGCTGCGTGTGTGTG...</td>\n",
              "      <td>1</td>\n",
              "    </tr>\n",
              "    <tr>\n",
              "      <th>11297</th>\n",
              "      <td>ATACCGCGGAAGCGCAAAAGTACCAGAATTTCCCTGGTATCGCGCT...</td>\n",
              "      <td>1</td>\n",
              "    </tr>\n",
              "    <tr>\n",
              "      <th>11298</th>\n",
              "      <td>ATTATTCCGAATTCTTTTATCAGATTTAAATATGGGAAACACTTTA...</td>\n",
              "      <td>1</td>\n",
              "    </tr>\n",
              "    <tr>\n",
              "      <th>11299</th>\n",
              "      <td>AATTCATTTATACCTGCATTTGTAACTGTACTAAATCTTCAACCAA...</td>\n",
              "      <td>1</td>\n",
              "    </tr>\n",
              "  </tbody>\n",
              "</table>\n",
              "<p>11300 rows × 2 columns</p>\n",
              "</div>\n",
              "      <button class=\"colab-df-convert\" onclick=\"convertToInteractive('df-a2be41b3-e24e-416d-930e-aa9005a8bcd5')\"\n",
              "              title=\"Convert this dataframe to an interactive table.\"\n",
              "              style=\"display:none;\">\n",
              "        \n",
              "  <svg xmlns=\"http://www.w3.org/2000/svg\" height=\"24px\"viewBox=\"0 0 24 24\"\n",
              "       width=\"24px\">\n",
              "    <path d=\"M0 0h24v24H0V0z\" fill=\"none\"/>\n",
              "    <path d=\"M18.56 5.44l.94 2.06.94-2.06 2.06-.94-2.06-.94-.94-2.06-.94 2.06-2.06.94zm-11 1L8.5 8.5l.94-2.06 2.06-.94-2.06-.94L8.5 2.5l-.94 2.06-2.06.94zm10 10l.94 2.06.94-2.06 2.06-.94-2.06-.94-.94-2.06-.94 2.06-2.06.94z\"/><path d=\"M17.41 7.96l-1.37-1.37c-.4-.4-.92-.59-1.43-.59-.52 0-1.04.2-1.43.59L10.3 9.45l-7.72 7.72c-.78.78-.78 2.05 0 2.83L4 21.41c.39.39.9.59 1.41.59.51 0 1.02-.2 1.41-.59l7.78-7.78 2.81-2.81c.8-.78.8-2.07 0-2.86zM5.41 20L4 18.59l7.72-7.72 1.47 1.35L5.41 20z\"/>\n",
              "  </svg>\n",
              "      </button>\n",
              "      \n",
              "  <style>\n",
              "    .colab-df-container {\n",
              "      display:flex;\n",
              "      flex-wrap:wrap;\n",
              "      gap: 12px;\n",
              "    }\n",
              "\n",
              "    .colab-df-convert {\n",
              "      background-color: #E8F0FE;\n",
              "      border: none;\n",
              "      border-radius: 50%;\n",
              "      cursor: pointer;\n",
              "      display: none;\n",
              "      fill: #1967D2;\n",
              "      height: 32px;\n",
              "      padding: 0 0 0 0;\n",
              "      width: 32px;\n",
              "    }\n",
              "\n",
              "    .colab-df-convert:hover {\n",
              "      background-color: #E2EBFA;\n",
              "      box-shadow: 0px 1px 2px rgba(60, 64, 67, 0.3), 0px 1px 3px 1px rgba(60, 64, 67, 0.15);\n",
              "      fill: #174EA6;\n",
              "    }\n",
              "\n",
              "    [theme=dark] .colab-df-convert {\n",
              "      background-color: #3B4455;\n",
              "      fill: #D2E3FC;\n",
              "    }\n",
              "\n",
              "    [theme=dark] .colab-df-convert:hover {\n",
              "      background-color: #434B5C;\n",
              "      box-shadow: 0px 1px 3px 1px rgba(0, 0, 0, 0.15);\n",
              "      filter: drop-shadow(0px 1px 2px rgba(0, 0, 0, 0.3));\n",
              "      fill: #FFFFFF;\n",
              "    }\n",
              "  </style>\n",
              "\n",
              "      <script>\n",
              "        const buttonEl =\n",
              "          document.querySelector('#df-a2be41b3-e24e-416d-930e-aa9005a8bcd5 button.colab-df-convert');\n",
              "        buttonEl.style.display =\n",
              "          google.colab.kernel.accessAllowed ? 'block' : 'none';\n",
              "\n",
              "        async function convertToInteractive(key) {\n",
              "          const element = document.querySelector('#df-a2be41b3-e24e-416d-930e-aa9005a8bcd5');\n",
              "          const dataTable =\n",
              "            await google.colab.kernel.invokeFunction('convertToInteractive',\n",
              "                                                     [key], {});\n",
              "          if (!dataTable) return;\n",
              "\n",
              "          const docLinkHtml = 'Like what you see? Visit the ' +\n",
              "            '<a target=\"_blank\" href=https://colab.research.google.com/notebooks/data_table.ipynb>data table notebook</a>'\n",
              "            + ' to learn more about interactive tables.';\n",
              "          element.innerHTML = '';\n",
              "          dataTable['output_type'] = 'display_data';\n",
              "          await google.colab.output.renderOutput(dataTable, element);\n",
              "          const docLink = document.createElement('div');\n",
              "          docLink.innerHTML = docLinkHtml;\n",
              "          element.appendChild(docLink);\n",
              "        }\n",
              "      </script>\n",
              "    </div>\n",
              "  </div>\n",
              "  "
            ]
          },
          "metadata": {}
        },
        {
          "output_type": "display_data",
          "data": {
            "text/plain": [
              "(11300, 2)"
            ]
          },
          "metadata": {}
        }
      ]
    },
    {
      "cell_type": "code",
      "source": [
        "df = pd.concat([df, df2], axis = 0 )\n",
        "df.shape\n"
      ],
      "metadata": {
        "colab": {
          "base_uri": "https://localhost:8080/"
        },
        "id": "K8-2GmSAacbS",
        "outputId": "08d7ccf4-4f3e-452a-bae0-28d29d2159cd"
      },
      "execution_count": 6,
      "outputs": [
        {
          "output_type": "execute_result",
          "data": {
            "text/plain": [
              "(22600, 2)"
            ]
          },
          "metadata": {},
          "execution_count": 6
        }
      ]
    },
    {
      "cell_type": "code",
      "source": [
        "for seq in df['sequence']:\n",
        "    if 'N' in seq:\n",
        "        display(df.loc[df['sequence'] == seq])"
      ],
      "metadata": {
        "colab": {
          "base_uri": "https://localhost:8080/",
          "height": 81
        },
        "id": "ryVihwzkad_D",
        "outputId": "c6a025e6-8f2e-45d4-ca02-4c1e968bb87b"
      },
      "execution_count": 7,
      "outputs": [
        {
          "output_type": "display_data",
          "data": {
            "text/plain": [
              "                                               sequence  label\n",
              "1822  NNNNNNNNNNNNNNNNNNNNNNNNNNNNNNNNNNNNNNNNGAATTC...      0"
            ],
            "text/html": [
              "\n",
              "  <div id=\"df-d09ded2a-e4d8-4a58-a84c-b704e3470723\">\n",
              "    <div class=\"colab-df-container\">\n",
              "      <div>\n",
              "<style scoped>\n",
              "    .dataframe tbody tr th:only-of-type {\n",
              "        vertical-align: middle;\n",
              "    }\n",
              "\n",
              "    .dataframe tbody tr th {\n",
              "        vertical-align: top;\n",
              "    }\n",
              "\n",
              "    .dataframe thead th {\n",
              "        text-align: right;\n",
              "    }\n",
              "</style>\n",
              "<table border=\"1\" class=\"dataframe\">\n",
              "  <thead>\n",
              "    <tr style=\"text-align: right;\">\n",
              "      <th></th>\n",
              "      <th>sequence</th>\n",
              "      <th>label</th>\n",
              "    </tr>\n",
              "  </thead>\n",
              "  <tbody>\n",
              "    <tr>\n",
              "      <th>1822</th>\n",
              "      <td>NNNNNNNNNNNNNNNNNNNNNNNNNNNNNNNNNNNNNNNNGAATTC...</td>\n",
              "      <td>0</td>\n",
              "    </tr>\n",
              "  </tbody>\n",
              "</table>\n",
              "</div>\n",
              "      <button class=\"colab-df-convert\" onclick=\"convertToInteractive('df-d09ded2a-e4d8-4a58-a84c-b704e3470723')\"\n",
              "              title=\"Convert this dataframe to an interactive table.\"\n",
              "              style=\"display:none;\">\n",
              "        \n",
              "  <svg xmlns=\"http://www.w3.org/2000/svg\" height=\"24px\"viewBox=\"0 0 24 24\"\n",
              "       width=\"24px\">\n",
              "    <path d=\"M0 0h24v24H0V0z\" fill=\"none\"/>\n",
              "    <path d=\"M18.56 5.44l.94 2.06.94-2.06 2.06-.94-2.06-.94-.94-2.06-.94 2.06-2.06.94zm-11 1L8.5 8.5l.94-2.06 2.06-.94-2.06-.94L8.5 2.5l-.94 2.06-2.06.94zm10 10l.94 2.06.94-2.06 2.06-.94-2.06-.94-.94-2.06-.94 2.06-2.06.94z\"/><path d=\"M17.41 7.96l-1.37-1.37c-.4-.4-.92-.59-1.43-.59-.52 0-1.04.2-1.43.59L10.3 9.45l-7.72 7.72c-.78.78-.78 2.05 0 2.83L4 21.41c.39.39.9.59 1.41.59.51 0 1.02-.2 1.41-.59l7.78-7.78 2.81-2.81c.8-.78.8-2.07 0-2.86zM5.41 20L4 18.59l7.72-7.72 1.47 1.35L5.41 20z\"/>\n",
              "  </svg>\n",
              "      </button>\n",
              "      \n",
              "  <style>\n",
              "    .colab-df-container {\n",
              "      display:flex;\n",
              "      flex-wrap:wrap;\n",
              "      gap: 12px;\n",
              "    }\n",
              "\n",
              "    .colab-df-convert {\n",
              "      background-color: #E8F0FE;\n",
              "      border: none;\n",
              "      border-radius: 50%;\n",
              "      cursor: pointer;\n",
              "      display: none;\n",
              "      fill: #1967D2;\n",
              "      height: 32px;\n",
              "      padding: 0 0 0 0;\n",
              "      width: 32px;\n",
              "    }\n",
              "\n",
              "    .colab-df-convert:hover {\n",
              "      background-color: #E2EBFA;\n",
              "      box-shadow: 0px 1px 2px rgba(60, 64, 67, 0.3), 0px 1px 3px 1px rgba(60, 64, 67, 0.15);\n",
              "      fill: #174EA6;\n",
              "    }\n",
              "\n",
              "    [theme=dark] .colab-df-convert {\n",
              "      background-color: #3B4455;\n",
              "      fill: #D2E3FC;\n",
              "    }\n",
              "\n",
              "    [theme=dark] .colab-df-convert:hover {\n",
              "      background-color: #434B5C;\n",
              "      box-shadow: 0px 1px 3px 1px rgba(0, 0, 0, 0.15);\n",
              "      filter: drop-shadow(0px 1px 2px rgba(0, 0, 0, 0.3));\n",
              "      fill: #FFFFFF;\n",
              "    }\n",
              "  </style>\n",
              "\n",
              "      <script>\n",
              "        const buttonEl =\n",
              "          document.querySelector('#df-d09ded2a-e4d8-4a58-a84c-b704e3470723 button.colab-df-convert');\n",
              "        buttonEl.style.display =\n",
              "          google.colab.kernel.accessAllowed ? 'block' : 'none';\n",
              "\n",
              "        async function convertToInteractive(key) {\n",
              "          const element = document.querySelector('#df-d09ded2a-e4d8-4a58-a84c-b704e3470723');\n",
              "          const dataTable =\n",
              "            await google.colab.kernel.invokeFunction('convertToInteractive',\n",
              "                                                     [key], {});\n",
              "          if (!dataTable) return;\n",
              "\n",
              "          const docLinkHtml = 'Like what you see? Visit the ' +\n",
              "            '<a target=\"_blank\" href=https://colab.research.google.com/notebooks/data_table.ipynb>data table notebook</a>'\n",
              "            + ' to learn more about interactive tables.';\n",
              "          element.innerHTML = '';\n",
              "          dataTable['output_type'] = 'display_data';\n",
              "          await google.colab.output.renderOutput(dataTable, element);\n",
              "          const docLink = document.createElement('div');\n",
              "          docLink.innerHTML = docLinkHtml;\n",
              "          element.appendChild(docLink);\n",
              "        }\n",
              "      </script>\n",
              "    </div>\n",
              "  </div>\n",
              "  "
            ]
          },
          "metadata": {}
        }
      ]
    },
    {
      "cell_type": "code",
      "source": [
        "df.drop([1822], inplace = True)"
      ],
      "metadata": {
        "id": "pYSbDf6qafEH"
      },
      "execution_count": 8,
      "outputs": []
    },
    {
      "cell_type": "code",
      "source": [
        "for seq in df['sequence']:\n",
        "    if 'N' in seq:\n",
        "        display(df.loc[df['sequence'] == seq])"
      ],
      "metadata": {
        "id": "vTEU9aQOahQU"
      },
      "execution_count": 9,
      "outputs": []
    },
    {
      "cell_type": "code",
      "source": [
        "sequence = list(df.loc[:, 'sequence'])\n",
        "encoded_list = []\n"
      ],
      "metadata": {
        "id": "x2_j-bFWaiXc"
      },
      "execution_count": 10,
      "outputs": []
    },
    {
      "cell_type": "code",
      "source": [
        "def encode_seq(s):\n",
        "  Encode = {'A': 0,'T': 1,'C': 2,'G': 3}\n",
        "  ret = []\n",
        "  for i in range(len(s) - 2):\n",
        "    encode_vec = [0 for j in range(7)]\n",
        "    encode_index = 0\n",
        "    encode_index += Encode[s[i]]\n",
        "    encode_index += Encode[s[i+1]]*4\n",
        "    encode_index += Encode[s[i+2]]*16\n",
        "    for j in range(7):\n",
        "      if encode_index % 2 == 1:\n",
        "        encode_vec[j] = 1\n",
        "      encode_index = encode_index / 2\n",
        "    ret.append(encode_vec)\n",
        "  return ret\n",
        "\n",
        "for i in sequence:\n",
        "  x = encode_seq(i)\n",
        "  encoded_list.append(x)\n",
        "\n",
        "\n",
        "# def encode_seq(s):\n",
        "#     Encode = {'A':[1,0,0,0],'T':[0,1,0,0],'C':[0,0,1,0],'G':[0,0,0,1]}\n",
        "#     return [Encode[x] for x in s]\n",
        "\n",
        "# for i in sequence:\n",
        "#     x = encode_seq(i)\n",
        "#     encoded_list.append(x)\n",
        "\n",
        "X = np.array(encoded_list)\n",
        "X.shape\n",
        "\n"
      ],
      "metadata": {
        "colab": {
          "base_uri": "https://localhost:8080/"
        },
        "id": "qUtsRXi_ajUJ",
        "outputId": "29268802-e7a6-4a0b-9220-bbd1e6b0937e"
      },
      "execution_count": 11,
      "outputs": [
        {
          "output_type": "execute_result",
          "data": {
            "text/plain": [
              "(22598, 299, 7)"
            ]
          },
          "metadata": {},
          "execution_count": 11
        }
      ]
    },
    {
      "cell_type": "code",
      "source": [
        "y = df['label']\n",
        "y.shape\n",
        "X.shape"
      ],
      "metadata": {
        "colab": {
          "base_uri": "https://localhost:8080/"
        },
        "id": "ecFZwZPVO-zO",
        "outputId": "f72e2da9-6b63-4d14-d6cd-0c6365dd1660"
      },
      "execution_count": 12,
      "outputs": [
        {
          "output_type": "execute_result",
          "data": {
            "text/plain": [
              "(22598, 299, 7)"
            ]
          },
          "metadata": {},
          "execution_count": 12
        }
      ]
    },
    {
      "cell_type": "code",
      "source": [
        "X_train, X_not_train, y_train, y_not_train = train_test_split(X, y, test_size = 0.1, random_state = 42, stratify = y)\n",
        "y_train = utils.to_categorical(y_train)\n",
        "\n",
        "X_val, X_test, y_val, y_test = train_test_split(X_not_train, y_not_train, random_state = 42, stratify = y_not_train, test_size=0.5)\n",
        "\n",
        "y_val = utils.to_categorical(y_val)\n",
        "y_test = utils.to_categorical(y_test)\n",
        "\n",
        "X_train = tf.cast(X_train, dtype='float32')\n",
        "X_val = tf.cast(X_val, dtype='float32')\n",
        "X_test = tf.cast(X_test, dtype='float32')\n",
        "\n",
        "with tensorflow.device('/device:GPU:0'):\n",
        "  gru_model = Sequential()\n",
        "\n",
        "  gru_model.add(Bidirectional(GRU(128, activation = 'relu')))\n",
        "  gru_model.add(Dropout(0.2))\n",
        "  gru_model.add(Dense(128, activation = 'relu'))\n",
        "  gru_model.add(Dense(64, activation = 'relu'))\n",
        "  gru_model.add(Dense(64, activation = 'relu'))\n",
        "  gru_model.add(Dense(16, activation = 'relu', kernel_regularizer = regularizers.l2(0.01)))\n",
        "  gru_model.add(Dense(2, activation = 'sigmoid'))\n",
        "\n",
        "  gru_model.compile(loss='binary_crossentropy',\n",
        "                optimizer='adam',\n",
        "                metrics=['accuracy'])\n",
        "\n",
        "  early_stop = tensorflow.keras.callbacks.EarlyStopping(monitor = 'val_accuracy', min_delta = 0.0005, patience=8, \n",
        "                                            restore_best_weights=True )\n",
        "  history = gru_model.fit(X_train, y_train, batch_size = 128, validation_data=(X_val, y_val), \n",
        "                          epochs=40)"
      ],
      "metadata": {
        "id": "nF1kEr-Waq5k",
        "colab": {
          "base_uri": "https://localhost:8080/"
        },
        "outputId": "957e57c3-48e5-4667-91a2-c3de64c68c52"
      },
      "execution_count": 13,
      "outputs": [
        {
          "metadata": {
            "tags": null
          },
          "name": "stderr",
          "output_type": "stream",
          "text": [
            "WARNING:tensorflow:Layer gru will not use cuDNN kernels since it doesn't meet the criteria. It will use a generic GPU kernel as fallback when running on GPU.\n",
            "WARNING:tensorflow:Layer gru will not use cuDNN kernels since it doesn't meet the criteria. It will use a generic GPU kernel as fallback when running on GPU.\n",
            "WARNING:tensorflow:Layer gru will not use cuDNN kernels since it doesn't meet the criteria. It will use a generic GPU kernel as fallback when running on GPU.\n"
          ]
        },
        {
          "output_type": "stream",
          "name": "stdout",
          "text": [
            "Epoch 1/40\n",
            "159/159 [==============================] - 176s 1s/step - loss: 0.8246 - accuracy: 0.5379 - val_loss: 0.7260 - val_accuracy: 0.5823\n",
            "Epoch 2/40\n",
            "159/159 [==============================] - 173s 1s/step - loss: 0.7251 - accuracy: 0.5588 - val_loss: 0.7046 - val_accuracy: 0.4956\n",
            "Epoch 3/40\n",
            "159/159 [==============================] - 168s 1s/step - loss: 0.7021 - accuracy: 0.5075 - val_loss: 0.6669 - val_accuracy: 0.6425\n",
            "Epoch 4/40\n",
            "159/159 [==============================] - 169s 1s/step - loss: 0.6945 - accuracy: 0.5269 - val_loss: 0.6993 - val_accuracy: 0.5000\n",
            "Epoch 5/40\n",
            "159/159 [==============================] - 168s 1s/step - loss: 0.6984 - accuracy: 0.5038 - val_loss: 0.6976 - val_accuracy: 0.5000\n",
            "Epoch 6/40\n",
            "159/159 [==============================] - 168s 1s/step - loss: 0.6970 - accuracy: 0.5080 - val_loss: 0.6963 - val_accuracy: 0.5000\n",
            "Epoch 7/40\n",
            "159/159 [==============================] - 168s 1s/step - loss: 0.6959 - accuracy: 0.5115 - val_loss: 0.6956 - val_accuracy: 0.5000\n",
            "Epoch 8/40\n",
            "159/159 [==============================] - 167s 1s/step - loss: 0.6952 - accuracy: 0.5077 - val_loss: 0.6945 - val_accuracy: 0.5009\n",
            "Epoch 9/40\n",
            "159/159 [==============================] - 167s 1s/step - loss: 0.6942 - accuracy: 0.5197 - val_loss: 0.6934 - val_accuracy: 0.4991\n",
            "Epoch 10/40\n",
            "159/159 [==============================] - 167s 1s/step - loss: 0.6804 - accuracy: 0.5650 - val_loss: 0.6939 - val_accuracy: 0.5027\n",
            "Epoch 11/40\n",
            "159/159 [==============================] - 165s 1s/step - loss: 0.6652 - accuracy: 0.5972 - val_loss: 0.5778 - val_accuracy: 0.7195\n",
            "Epoch 12/40\n",
            "159/159 [==============================] - 166s 1s/step - loss: 0.5854 - accuracy: 0.6984 - val_loss: 0.5744 - val_accuracy: 0.7177\n",
            "Epoch 13/40\n",
            "159/159 [==============================] - 164s 1s/step - loss: 0.5751 - accuracy: 0.7030 - val_loss: 0.5723 - val_accuracy: 0.7124\n",
            "Epoch 14/40\n",
            "159/159 [==============================] - 165s 1s/step - loss: 0.5757 - accuracy: 0.7069 - val_loss: 0.5743 - val_accuracy: 0.7133\n",
            "Epoch 15/40\n",
            "159/159 [==============================] - 163s 1s/step - loss: 0.5689 - accuracy: 0.7082 - val_loss: 0.5684 - val_accuracy: 0.7142\n",
            "Epoch 16/40\n",
            "159/159 [==============================] - 165s 1s/step - loss: 0.5637 - accuracy: 0.7118 - val_loss: 0.5613 - val_accuracy: 0.7177\n",
            "Epoch 17/40\n",
            "159/159 [==============================] - 164s 1s/step - loss: 0.5634 - accuracy: 0.7161 - val_loss: 0.5843 - val_accuracy: 0.7097\n",
            "Epoch 18/40\n",
            "159/159 [==============================] - 163s 1s/step - loss: 0.5698 - accuracy: 0.7101 - val_loss: 0.5746 - val_accuracy: 0.7071\n",
            "Epoch 19/40\n",
            "159/159 [==============================] - 161s 1s/step - loss: 0.5613 - accuracy: 0.7143 - val_loss: 0.5570 - val_accuracy: 0.7274\n",
            "Epoch 20/40\n",
            "159/159 [==============================] - 161s 1s/step - loss: 0.5621 - accuracy: 0.7140 - val_loss: 0.5541 - val_accuracy: 0.7310\n",
            "Epoch 21/40\n",
            "159/159 [==============================] - 163s 1s/step - loss: 0.5570 - accuracy: 0.7171 - val_loss: 0.5741 - val_accuracy: 0.7018\n",
            "Epoch 22/40\n",
            "159/159 [==============================] - 163s 1s/step - loss: 0.5571 - accuracy: 0.7169 - val_loss: 0.5482 - val_accuracy: 0.7345\n",
            "Epoch 23/40\n",
            "159/159 [==============================] - 161s 1s/step - loss: 0.5593 - accuracy: 0.7175 - val_loss: 0.5485 - val_accuracy: 0.7265\n",
            "Epoch 24/40\n",
            "159/159 [==============================] - 160s 1s/step - loss: 0.5537 - accuracy: 0.7220 - val_loss: 0.5451 - val_accuracy: 0.7363\n",
            "Epoch 25/40\n",
            "159/159 [==============================] - 164s 1s/step - loss: 0.5561 - accuracy: 0.7209 - val_loss: 0.5469 - val_accuracy: 0.7319\n",
            "Epoch 26/40\n",
            "159/159 [==============================] - 162s 1s/step - loss: 0.5545 - accuracy: 0.7218 - val_loss: 0.5585 - val_accuracy: 0.7239\n",
            "Epoch 27/40\n",
            "159/159 [==============================] - 161s 1s/step - loss: 0.5515 - accuracy: 0.7230 - val_loss: 0.5503 - val_accuracy: 0.7319\n",
            "Epoch 28/40\n",
            "159/159 [==============================] - 159s 1s/step - loss: 0.5503 - accuracy: 0.7239 - val_loss: 0.5441 - val_accuracy: 0.7327\n",
            "Epoch 29/40\n",
            "159/159 [==============================] - 162s 1s/step - loss: 0.5483 - accuracy: 0.7259 - val_loss: 0.5397 - val_accuracy: 0.7354\n",
            "Epoch 30/40\n",
            "159/159 [==============================] - 162s 1s/step - loss: 0.5498 - accuracy: 0.7239 - val_loss: 0.5479 - val_accuracy: 0.7265\n",
            "Epoch 31/40\n",
            "159/159 [==============================] - 163s 1s/step - loss: 0.5447 - accuracy: 0.7281 - val_loss: 0.5431 - val_accuracy: 0.7327\n",
            "Epoch 32/40\n",
            "159/159 [==============================] - 163s 1s/step - loss: 0.5409 - accuracy: 0.7305 - val_loss: 0.5392 - val_accuracy: 0.7372\n",
            "Epoch 33/40\n",
            "159/159 [==============================] - 163s 1s/step - loss: 0.5344 - accuracy: 0.7368 - val_loss: 0.5286 - val_accuracy: 0.7389\n",
            "Epoch 34/40\n",
            "159/159 [==============================] - 165s 1s/step - loss: 0.5321 - accuracy: 0.7369 - val_loss: 0.5221 - val_accuracy: 0.7434\n",
            "Epoch 35/40\n",
            "159/159 [==============================] - 163s 1s/step - loss: 0.5261 - accuracy: 0.7407 - val_loss: 0.5161 - val_accuracy: 0.7487\n",
            "Epoch 36/40\n",
            "159/159 [==============================] - 163s 1s/step - loss: 0.5208 - accuracy: 0.7439 - val_loss: 0.5292 - val_accuracy: 0.7496\n",
            "Epoch 37/40\n",
            "159/159 [==============================] - 163s 1s/step - loss: 0.5110 - accuracy: 0.7495 - val_loss: 0.5260 - val_accuracy: 0.7363\n",
            "Epoch 38/40\n",
            "159/159 [==============================] - 161s 1s/step - loss: 0.5077 - accuracy: 0.7549 - val_loss: 0.5188 - val_accuracy: 0.7381\n",
            "Epoch 39/40\n",
            "159/159 [==============================] - 165s 1s/step - loss: 0.5063 - accuracy: 0.7522 - val_loss: 0.5220 - val_accuracy: 0.7566\n",
            "Epoch 40/40\n",
            "159/159 [==============================] - 163s 1s/step - loss: 0.4994 - accuracy: 0.7573 - val_loss: 0.5167 - val_accuracy: 0.7531\n"
          ]
        }
      ]
    },
    {
      "cell_type": "code",
      "source": [
        "pred = gru_model.predict"
      ],
      "metadata": {
        "id": "7pqSUkC8ax4E"
      },
      "execution_count": 14,
      "outputs": []
    },
    {
      "cell_type": "code",
      "source": [
        "preds = gru_model.predict(X_test)\n"
      ],
      "metadata": {
        "id": "diyyYtQja72R",
        "colab": {
          "base_uri": "https://localhost:8080/"
        },
        "outputId": "c67ae2fe-485f-488d-ce7b-cfd9b9269916"
      },
      "execution_count": 15,
      "outputs": [
        {
          "output_type": "stream",
          "name": "stdout",
          "text": [
            "36/36 [==============================] - 3s 88ms/step\n"
          ]
        }
      ]
    },
    {
      "cell_type": "code",
      "source": [
        "# get accuracy\n",
        "# positive: is promoter\n",
        "tn = 0\n",
        "fn = 0\n",
        "fp = 0\n",
        "tp = 0\n",
        "\n",
        "for i in range(len(preds)):\n",
        "  if preds[i][0] >= preds[i][1]: # non-promoter\n",
        "    preds[i][0] = 1\n",
        "    preds[i][1] = 0\n",
        "  else:                          # promoter\n",
        "    preds[i][0] = 0\n",
        "    preds[i][1] = 1\n",
        "\n",
        "for i in range(len(preds)):\n",
        "  if(preds[i][0] > preds[i][1]): # non-promoter\n",
        "    if y_test[i][0] == 1:\n",
        "      tn += 1\n",
        "    else:\n",
        "      fn += 1\n",
        "  else:                          # promoter\n",
        "    if y_test[i][1] == 1:\n",
        "      tp += 1\n",
        "    else:\n",
        "      fp += 1\n",
        "\n",
        "precision = tp / (tp + fp)\n",
        "recall = tp / (tp + fn)\n",
        "accuracy = (tp + tn) / (tp + fn + fp + tn)\n",
        "print(precision, recall, accuracy)\n",
        "print(tp, fn, fp, tn)"
      ],
      "metadata": {
        "id": "BC6RXXzSONO_",
        "colab": {
          "base_uri": "https://localhost:8080/"
        },
        "outputId": "b7993f34-11ca-4159-e5f8-d8d979dc9958"
      },
      "execution_count": 16,
      "outputs": [
        {
          "output_type": "stream",
          "name": "stdout",
          "text": [
            "0.7164179104477612 0.7646017699115044 0.7309734513274336\n",
            "432 133 171 394\n"
          ]
        }
      ]
    },
    {
      "cell_type": "code",
      "source": [
        "import matplotlib.pyplot as plt\n",
        "\n",
        "plt.plot(history.history['accuracy'])\n",
        "plt.plot(history.history['val_accuracy'])\n",
        "plt.title('Model accuracy')\n",
        "plt.xlabel('Epoch')\n",
        "plt.ylabel('Accuracy')\n",
        "plt.legend(['Train', 'Val'], loc='upper left')\n",
        "plt.savefig('window GRU accuracy')"
      ],
      "metadata": {
        "id": "vtKIxYw5PSub",
        "colab": {
          "base_uri": "https://localhost:8080/",
          "height": 295
        },
        "outputId": "26c61d00-3599-4364-fe1e-8ea3f39c5e9f"
      },
      "execution_count": 17,
      "outputs": [
        {
          "output_type": "display_data",
          "data": {
            "text/plain": [
              "<Figure size 432x288 with 1 Axes>"
            ],
            "image/png": "[encoded data removed]"
          },
          "metadata": {
            "needs_background": "light"
          }
        }
      ]
    },
    {
      "cell_type": "code",
      "source": [
        "plt.plot(history.history['loss'])\n",
        "plt.plot(history.history['val_loss'])\n",
        "plt.title('Model Loss')\n",
        "plt.xlabel('Epoch')\n",
        "plt.ylabel('Loss')\n",
        "plt.legend(['Train', 'Val'], loc='upper left')\n",
        "plt.savefig('window GRU loss')"
      ],
      "metadata": {
        "id": "N8tuLklbBjbZ",
        "colab": {
          "base_uri": "https://localhost:8080/",
          "height": 295
        },
        "outputId": "c32159f0-6625-48a8-809c-7cff1e81295d"
      },
      "execution_count": 18,
      "outputs": [
        {
          "output_type": "display_data",
          "data": {
            "text/plain": [
              "<Figure size 432x288 with 1 Axes>"
            ],
            "image/png": "[encoded data removed]"
          },
          "metadata": {
            "needs_background": "light"
          }
        }
      ]
    },
    {
      "cell_type": "code",
      "source": [
        "gru_model.summary()"
      ],
      "metadata": {
        "id": "-UPF53N2BsJ7",
        "colab": {
          "base_uri": "https://localhost:8080/"
        },
        "outputId": "96207e8a-064a-4605-d455-45eff056c5bd"
      },
      "execution_count": 19,
      "outputs": [
        {
          "output_type": "stream",
          "name": "stdout",
          "text": [
            "Model: \"sequential\"\n",
            "_________________________________________________________________\n",
            " Layer (type)                Output Shape              Param #   \n",
            "=================================================================\n",
            " bidirectional (Bidirectiona  (None, 256)              105216    \n",
            " l)                                                              \n",
            "                                                                 \n",
            " dropout (Dropout)           (None, 256)               0         \n",
            "                                                                 \n",
            " dense (Dense)               (None, 128)               32896     \n",
            "                                                                 \n",
            " dense_1 (Dense)             (None, 64)                8256      \n",
            "                                                                 \n",
            " dense_2 (Dense)             (None, 64)                4160      \n",
            "                                                                 \n",
            " dense_3 (Dense)             (None, 16)                1040      \n",
            "                                                                 \n",
            " dense_4 (Dense)             (None, 2)                 34        \n",
            "                                                                 \n",
            "=================================================================\n",
            "Total params: 151,602\n",
            "Trainable params: 151,602\n",
            "Non-trainable params: 0\n",
            "_________________________________________________________________\n"
          ]
        }
      ]
    }
  ]
}