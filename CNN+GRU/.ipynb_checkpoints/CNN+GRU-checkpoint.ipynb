{
 "cells": [
  {
   "cell_type": "markdown",
   "metadata": {
    "id": "Vpz-q45sXtXY"
   },
   "source": [
    "**Step 1: Importing the Dataset**\n",
    "\n",
    "The following code cells will import necessary libraries and import the dataset from the repository as a Pandas DataFrame"
   ]
  },
  {
   "cell_type": "code",
   "execution_count": 1,
   "metadata": {
    "colab": {
     "base_uri": "https://localhost:8080/"
    },
    "id": "iDIeHNtBgIbg",
    "outputId": "80f454db-67a3-4da8-fe6c-71f0eada6fd8"
   },
   "outputs": [
    {
     "name": "stdout",
     "output_type": "stream",
     "text": [
      "Mounted at /content/gdrive\n"
     ]
    }
   ],
   "source": [
    "import sys\n",
    "from google.colab import drive\n",
    "drive.mount('/content/gdrive')"
   ]
  },
  {
   "cell_type": "code",
   "execution_count": 2,
   "metadata": {
    "id": "jUySofwNgEBC"
   },
   "outputs": [],
   "source": [
    "import tensorflow as tf\n",
    "\n",
    "# device_name = tf.test.gpu_device_name()\n",
    "# if device_name != '/device:GPU:0':\n",
    "#   raise SystemError('GPU device not found')\n",
    "# print('Found GPU at: {}'.format(device_name))"
   ]
  },
  {
   "cell_type": "code",
   "execution_count": 3,
   "metadata": {
    "id": "e3TvyK-IXlni"
   },
   "outputs": [],
   "source": [
    "import pandas as pd\n",
    "import numpy as np\n",
    "import os\n",
    "\n",
    "import joblib\n",
    "\n",
    "from keras import utils\n",
    "from sklearn.model_selection import train_test_split, GridSearchCV\n",
    "from keras.models import Sequential\n",
    "from keras.layers import Dense, Dropout, Flatten, Conv1D, MaxPooling1D, MaxPooling2D, Conv2D, LSTM, GRU, Bidirectional, Attention\n",
    "from keras import regularizers\n",
    "from keras.callbacks import EarlyStopping, ModelCheckpoint\n",
    "from keras.wrappers.scikit_learn import KerasClassifier\n",
    "import keras"
   ]
  },
  {
   "cell_type": "markdown",
   "metadata": {
    "id": "rqzdv4QSXt5_"
   },
   "source": [
    "**Step 2: Preprocessing the Dataset**\n",
    "\n",
    "The data is not in a usable form; as a result, we will need to process it before using it to train our algorithms."
   ]
  },
  {
   "cell_type": "code",
   "execution_count": 4,
   "metadata": {
    "colab": {
     "base_uri": "https://localhost:8080/"
    },
    "id": "xRMnitO2XrDA",
    "outputId": "dfd966b1-4192-4cab-9fee-9a096c9d5505"
   },
   "outputs": [
    {
     "data": {
      "text/plain": [
       "(22600, 2)"
      ]
     },
     "execution_count": 4,
     "metadata": {},
     "output_type": "execute_result"
    }
   ],
   "source": [
    "df = pd.read_csv('/content/gdrive/MyDrive/Colab Notebooks/NonPromoterSequence.txt', sep = '>', )\n",
    "df.dropna(subset=['Unnamed: 0'], how='all', inplace=True)\n",
    "df.reset_index(inplace = True)\n",
    "df.drop(['EP 1 (+) mt:CoI_1; range -400 to -100.', 'index'], axis = 1, inplace=True) #data cleaning after error found\n",
    "df.rename(columns={'Unnamed: 0': \"sequence\"}, inplace = True)\n",
    "df['label'] = 0\n",
    "\n",
    "df2 = pd.read_csv('/content/gdrive/MyDrive/Colab Notebooks/PromoterSequence.txt', sep = '>', )\n",
    "df2.dropna(subset=['Unnamed: 0'], how='all', inplace=True)\n",
    "df2.reset_index(inplace = True)\n",
    "df2.drop(['EP 1 (+) mt:CoI_1; range -100 to 200.', 'index'], axis = 1, inplace=True)\n",
    "df2.rename(columns={'Unnamed: 0': \"sequence\"}, inplace = True)\n",
    "df2['label'] = 1\n",
    "\n",
    "df = pd.concat([df, df2], axis = 0 )\n",
    "df.shape"
   ]
  },
  {
   "cell_type": "code",
   "execution_count": 5,
   "metadata": {
    "id": "g59E9TviYcni"
   },
   "outputs": [],
   "source": [
    "df.drop([1822], inplace = True)\n",
    "\n",
    "for seq in df['sequence']:\n",
    "    if 'N' in seq:\n",
    "        display(df.loc[df['sequence'] == seq])\n",
    "\n",
    "sequence = list(df.loc[:, 'sequence'])\n",
    "encoded_list = []"
   ]
  },
  {
   "cell_type": "code",
   "execution_count": 6,
   "metadata": {
    "colab": {
     "base_uri": "https://localhost:8080/"
    },
    "id": "L6WfivGwYlq6",
    "outputId": "45f2b8d8-3268-4713-e281-3b6f2ba2b6fb"
   },
   "outputs": [
    {
     "data": {
      "text/plain": [
       "(22598, 301, 4)"
      ]
     },
     "execution_count": 6,
     "metadata": {},
     "output_type": "execute_result"
    }
   ],
   "source": [
    "def encode_seq(s):\n",
    "    Encode = {'A':[1,0,0,0],'T':[0,1,0,0],'C':[0,0,1,0],'G':[0,0,0,1]}\n",
    "    return [Encode[x] for x in s]\n",
    "\n",
    "for i in sequence:\n",
    "    x = encode_seq(i)\n",
    "    encoded_list.append(x)\n",
    "\n",
    "X = np.array(encoded_list)\n",
    "X.shape"
   ]
  },
  {
   "cell_type": "code",
   "execution_count": 7,
   "metadata": {
    "colab": {
     "base_uri": "https://localhost:8080/"
    },
    "id": "hiHen9G3YnOG",
    "outputId": "8525364a-a47b-42f9-8df7-b558ded1c6c9"
   },
   "outputs": [
    {
     "data": {
      "text/plain": [
       "(22598, 301, 4)"
      ]
     },
     "execution_count": 7,
     "metadata": {},
     "output_type": "execute_result"
    }
   ],
   "source": [
    "y = df['label']\n",
    "y.shape\n",
    "X.shape"
   ]
  },
  {
   "cell_type": "markdown",
   "metadata": {
    "id": "paSi-gFOX95g"
   },
   "source": [
    "**Step 3: Training and Testing Neural Networks**\n",
    "\n",
    "Now that we have preprocessed the data and built our training and testing datasets, we can start to deploy different convultional neural network architectures. It's relatively easy to test multiple models using gridsearch; as a result, we will compare and contrast the perforance using GridSearchCV over many values."
   ]
  },
  {
   "cell_type": "code",
   "execution_count": 8,
   "metadata": {
    "id": "FlTSXQy5YEKW"
   },
   "outputs": [],
   "source": [
    "X_train, X_not_train, y_train, y_not_train = train_test_split(X, y, test_size = 0.1, random_state = 42, stratify = y)\n",
    "y_train = utils.to_categorical(y_train)\n",
    "\n",
    "X_val, X_test, y_val, y_test = train_test_split(X_not_train, y_not_train, random_state = 42, stratify = y_not_train, test_size=0.5)\n",
    "\n",
    "y_val = utils.to_categorical(y_val)\n",
    "y_test = utils.to_categorical(y_test)\n",
    "\n",
    "X_train = tf.cast(X_train, dtype='float32')\n",
    "X_val = tf.cast(X_val, dtype='float32')\n",
    "X_test = tf.cast(X_test, dtype='float32')"
   ]
  },
  {
   "cell_type": "code",
   "execution_count": 9,
   "metadata": {
    "id": "vP5rg4AaYsWO"
   },
   "outputs": [],
   "source": [
    "params = {\n",
    "    'first_node': [128, 64],\n",
    "    'second_node': [32, 64],\n",
    "    'alpha': [0.001, 0.01],\n",
    "    'first_filter': [9, 16, 32], \n",
    "    'dropout': [0.1, 0.2, 0.5]\n",
    "}\n",
    "#used for GridSearchCV"
   ]
  },
  {
   "cell_type": "code",
   "execution_count": 10,
   "metadata": {
    "colab": {
     "base_uri": "https://localhost:8080/"
    },
    "id": "D6e9D8feYtfg",
    "outputId": "f6a7a063-8804-4d7b-9a04-d26a91d9df5e"
   },
   "outputs": [
    {
     "name": "stdout",
     "output_type": "stream",
     "text": [
      "Epoch 1/115\n",
      "159/159 [==============================] - 66s 393ms/step - loss: 0.7071 - accuracy: 0.6778 - val_loss: 0.5572 - val_accuracy: 0.7619\n",
      "Epoch 2/115\n",
      "159/159 [==============================] - 66s 417ms/step - loss: 0.5539 - accuracy: 0.7429 - val_loss: 0.5276 - val_accuracy: 0.7522\n",
      "Epoch 3/115\n",
      "159/159 [==============================] - 62s 391ms/step - loss: 0.5239 - accuracy: 0.7509 - val_loss: 0.5108 - val_accuracy: 0.7566\n",
      "Epoch 4/115\n",
      "159/159 [==============================] - 62s 391ms/step - loss: 0.5130 - accuracy: 0.7585 - val_loss: 0.5080 - val_accuracy: 0.7646\n",
      "Epoch 5/115\n",
      "159/159 [==============================] - 64s 403ms/step - loss: 0.5100 - accuracy: 0.7535 - val_loss: 0.5001 - val_accuracy: 0.7619\n",
      "Epoch 6/115\n",
      "159/159 [==============================] - 62s 392ms/step - loss: 0.5036 - accuracy: 0.7596 - val_loss: 0.5006 - val_accuracy: 0.7602\n",
      "Epoch 7/115\n",
      "159/159 [==============================] - 62s 393ms/step - loss: 0.5005 - accuracy: 0.7566 - val_loss: 0.4903 - val_accuracy: 0.7717\n",
      "Epoch 8/115\n",
      "159/159 [==============================] - 64s 405ms/step - loss: 0.4946 - accuracy: 0.7619 - val_loss: 0.4922 - val_accuracy: 0.7628\n",
      "Epoch 9/115\n",
      "159/159 [==============================] - 63s 394ms/step - loss: 0.4820 - accuracy: 0.7692 - val_loss: 0.4801 - val_accuracy: 0.7717\n",
      "Epoch 10/115\n",
      "159/159 [==============================] - 62s 392ms/step - loss: 0.4705 - accuracy: 0.7752 - val_loss: 0.4584 - val_accuracy: 0.7823\n",
      "Epoch 11/115\n",
      "159/159 [==============================] - 64s 405ms/step - loss: 0.4580 - accuracy: 0.7806 - val_loss: 0.4449 - val_accuracy: 0.7920\n",
      "Epoch 12/115\n",
      "159/159 [==============================] - 62s 392ms/step - loss: 0.4423 - accuracy: 0.7923 - val_loss: 0.4554 - val_accuracy: 0.7743\n",
      "Epoch 13/115\n",
      "159/159 [==============================] - 64s 402ms/step - loss: 0.4212 - accuracy: 0.8071 - val_loss: 0.3807 - val_accuracy: 0.8301\n",
      "Epoch 14/115\n",
      "159/159 [==============================] - 64s 405ms/step - loss: 0.4173 - accuracy: 0.8088 - val_loss: 0.3894 - val_accuracy: 0.8177\n",
      "Epoch 15/115\n",
      "159/159 [==============================] - 62s 392ms/step - loss: 0.4009 - accuracy: 0.8195 - val_loss: 0.3723 - val_accuracy: 0.8372\n",
      "Epoch 16/115\n",
      "159/159 [==============================] - 62s 391ms/step - loss: 0.3858 - accuracy: 0.8269 - val_loss: 0.3817 - val_accuracy: 0.8283\n",
      "Epoch 17/115\n",
      "159/159 [==============================] - 64s 402ms/step - loss: 0.3792 - accuracy: 0.8319 - val_loss: 0.3679 - val_accuracy: 0.8442\n",
      "Epoch 18/115\n",
      "159/159 [==============================] - 62s 391ms/step - loss: 0.3731 - accuracy: 0.8363 - val_loss: 0.3380 - val_accuracy: 0.8513\n",
      "Epoch 19/115\n",
      "159/159 [==============================] - 62s 390ms/step - loss: 0.3648 - accuracy: 0.8408 - val_loss: 0.3416 - val_accuracy: 0.8487\n",
      "Epoch 20/115\n",
      "159/159 [==============================] - 64s 404ms/step - loss: 0.3606 - accuracy: 0.8464 - val_loss: 0.3293 - val_accuracy: 0.8549\n",
      "Epoch 21/115\n",
      "159/159 [==============================] - 62s 391ms/step - loss: 0.3547 - accuracy: 0.8477 - val_loss: 0.3345 - val_accuracy: 0.8558\n",
      "Epoch 22/115\n",
      "159/159 [==============================] - 62s 390ms/step - loss: 0.3567 - accuracy: 0.8446 - val_loss: 0.3453 - val_accuracy: 0.8451\n",
      "Epoch 23/115\n",
      "159/159 [==============================] - 62s 391ms/step - loss: 0.3422 - accuracy: 0.8533 - val_loss: 0.3393 - val_accuracy: 0.8575\n",
      "Epoch 24/115\n",
      "159/159 [==============================] - 64s 402ms/step - loss: 0.3430 - accuracy: 0.8523 - val_loss: 0.3169 - val_accuracy: 0.8566\n",
      "Epoch 25/115\n",
      "159/159 [==============================] - 62s 393ms/step - loss: 0.3360 - accuracy: 0.8562 - val_loss: 0.3279 - val_accuracy: 0.8549\n",
      "Epoch 26/115\n",
      "159/159 [==============================] - 62s 390ms/step - loss: 0.3340 - accuracy: 0.8585 - val_loss: 0.3228 - val_accuracy: 0.8602\n",
      "Epoch 27/115\n",
      "159/159 [==============================] - 64s 402ms/step - loss: 0.3236 - accuracy: 0.8612 - val_loss: 0.3085 - val_accuracy: 0.8681\n",
      "Epoch 28/115\n",
      "159/159 [==============================] - 62s 391ms/step - loss: 0.3243 - accuracy: 0.8615 - val_loss: 0.3162 - val_accuracy: 0.8637\n",
      "Epoch 29/115\n",
      "159/159 [==============================] - 62s 389ms/step - loss: 0.3238 - accuracy: 0.8611 - val_loss: 0.3188 - val_accuracy: 0.8619\n",
      "Epoch 30/115\n",
      "159/159 [==============================] - 64s 401ms/step - loss: 0.3188 - accuracy: 0.8653 - val_loss: 0.3128 - val_accuracy: 0.8628\n",
      "Epoch 31/115\n",
      "159/159 [==============================] - 62s 392ms/step - loss: 0.3169 - accuracy: 0.8646 - val_loss: 0.3053 - val_accuracy: 0.8726\n",
      "Epoch 32/115\n",
      "159/159 [==============================] - 62s 392ms/step - loss: 0.3134 - accuracy: 0.8673 - val_loss: 0.3217 - val_accuracy: 0.8673\n",
      "Epoch 33/115\n",
      "159/159 [==============================] - 64s 403ms/step - loss: 0.3113 - accuracy: 0.8681 - val_loss: 0.3097 - val_accuracy: 0.8646\n",
      "Epoch 34/115\n",
      "159/159 [==============================] - 62s 390ms/step - loss: 0.3095 - accuracy: 0.8690 - val_loss: 0.3016 - val_accuracy: 0.8814\n",
      "Epoch 35/115\n",
      "159/159 [==============================] - 62s 390ms/step - loss: 0.3048 - accuracy: 0.8712 - val_loss: 0.2896 - val_accuracy: 0.8726\n",
      "Epoch 36/115\n",
      "159/159 [==============================] - 64s 403ms/step - loss: 0.3019 - accuracy: 0.8738 - val_loss: 0.3101 - val_accuracy: 0.8628\n",
      "Epoch 37/115\n",
      "159/159 [==============================] - 62s 390ms/step - loss: 0.2969 - accuracy: 0.8753 - val_loss: 0.3148 - val_accuracy: 0.8549\n",
      "Epoch 38/115\n",
      "159/159 [==============================] - 63s 393ms/step - loss: 0.2973 - accuracy: 0.8714 - val_loss: 0.2896 - val_accuracy: 0.8832\n",
      "Epoch 39/115\n",
      "159/159 [==============================] - 64s 402ms/step - loss: 0.2941 - accuracy: 0.8775 - val_loss: 0.2896 - val_accuracy: 0.8708\n",
      "Epoch 40/115\n",
      "159/159 [==============================] - 62s 391ms/step - loss: 0.2901 - accuracy: 0.8805 - val_loss: 0.2902 - val_accuracy: 0.8876\n",
      "Epoch 41/115\n",
      "159/159 [==============================] - 62s 390ms/step - loss: 0.2897 - accuracy: 0.8810 - val_loss: 0.2850 - val_accuracy: 0.8858\n",
      "Epoch 42/115\n",
      "159/159 [==============================] - 64s 402ms/step - loss: 0.2880 - accuracy: 0.8801 - val_loss: 0.2958 - val_accuracy: 0.8735\n",
      "Epoch 43/115\n",
      "159/159 [==============================] - 62s 389ms/step - loss: 0.2817 - accuracy: 0.8829 - val_loss: 0.2832 - val_accuracy: 0.8779\n",
      "Epoch 44/115\n",
      "159/159 [==============================] - 62s 391ms/step - loss: 0.2816 - accuracy: 0.8847 - val_loss: 0.2767 - val_accuracy: 0.8867\n",
      "Epoch 45/115\n",
      "159/159 [==============================] - 62s 389ms/step - loss: 0.2838 - accuracy: 0.8833 - val_loss: 0.2795 - val_accuracy: 0.8876\n",
      "Epoch 46/115\n",
      "159/159 [==============================] - 64s 402ms/step - loss: 0.2760 - accuracy: 0.8844 - val_loss: 0.3182 - val_accuracy: 0.8628\n",
      "Epoch 47/115\n",
      "159/159 [==============================] - 62s 389ms/step - loss: 0.2730 - accuracy: 0.8877 - val_loss: 0.2931 - val_accuracy: 0.8823\n",
      "Epoch 48/115\n",
      "159/159 [==============================] - 64s 401ms/step - loss: 0.2715 - accuracy: 0.8885 - val_loss: 0.2952 - val_accuracy: 0.8788\n",
      "Epoch 49/115\n",
      "159/159 [==============================] - 66s 417ms/step - loss: 0.2738 - accuracy: 0.8860 - val_loss: 0.3080 - val_accuracy: 0.8717\n",
      "Epoch 50/115\n",
      "159/159 [==============================] - 65s 407ms/step - loss: 0.2749 - accuracy: 0.8865 - val_loss: 0.2988 - val_accuracy: 0.8903\n",
      "Epoch 51/115\n",
      "159/159 [==============================] - 65s 407ms/step - loss: 0.2684 - accuracy: 0.8895 - val_loss: 0.3084 - val_accuracy: 0.8681\n",
      "Epoch 52/115\n",
      "159/159 [==============================] - 67s 420ms/step - loss: 0.2674 - accuracy: 0.8885 - val_loss: 0.2873 - val_accuracy: 0.8823\n",
      "Epoch 53/115\n",
      "159/159 [==============================] - 64s 404ms/step - loss: 0.2703 - accuracy: 0.8876 - val_loss: 0.2807 - val_accuracy: 0.8876\n",
      "Epoch 54/115\n",
      "159/159 [==============================] - 64s 401ms/step - loss: 0.2623 - accuracy: 0.8917 - val_loss: 0.2792 - val_accuracy: 0.8805\n",
      "Epoch 55/115\n",
      "159/159 [==============================] - 64s 401ms/step - loss: 0.2586 - accuracy: 0.8943 - val_loss: 0.2985 - val_accuracy: 0.8726\n",
      "Epoch 56/115\n",
      "159/159 [==============================] - 62s 388ms/step - loss: 0.2630 - accuracy: 0.8922 - val_loss: 0.2767 - val_accuracy: 0.8894\n",
      "Epoch 57/115\n",
      "159/159 [==============================] - 62s 390ms/step - loss: 0.2606 - accuracy: 0.8928 - val_loss: 0.3037 - val_accuracy: 0.8717\n",
      "Epoch 58/115\n",
      "159/159 [==============================] - 64s 401ms/step - loss: 0.2556 - accuracy: 0.8955 - val_loss: 0.2687 - val_accuracy: 0.8929\n",
      "Epoch 59/115\n",
      "159/159 [==============================] - 62s 390ms/step - loss: 0.2517 - accuracy: 0.8958 - val_loss: 0.2751 - val_accuracy: 0.8885\n",
      "Epoch 60/115\n",
      "159/159 [==============================] - 62s 393ms/step - loss: 0.2538 - accuracy: 0.8961 - val_loss: 0.2652 - val_accuracy: 0.8947\n",
      "Epoch 61/115\n",
      "159/159 [==============================] - 66s 417ms/step - loss: 0.2541 - accuracy: 0.8957 - val_loss: 0.2827 - val_accuracy: 0.8903\n",
      "Epoch 62/115\n",
      "159/159 [==============================] - 66s 418ms/step - loss: 0.2491 - accuracy: 0.8969 - val_loss: 0.2779 - val_accuracy: 0.8805\n",
      "Epoch 63/115\n",
      "159/159 [==============================] - 68s 428ms/step - loss: 0.2531 - accuracy: 0.8944 - val_loss: 0.2814 - val_accuracy: 0.8770\n",
      "Epoch 64/115\n",
      "159/159 [==============================] - 70s 440ms/step - loss: 0.2534 - accuracy: 0.8965 - val_loss: 0.2883 - val_accuracy: 0.8876\n",
      "Epoch 65/115\n",
      "159/159 [==============================] - 65s 407ms/step - loss: 0.2464 - accuracy: 0.8979 - val_loss: 0.2738 - val_accuracy: 0.8903\n",
      "Epoch 66/115\n",
      "159/159 [==============================] - 62s 391ms/step - loss: 0.2463 - accuracy: 0.8968 - val_loss: 0.2735 - val_accuracy: 0.8982\n",
      "Epoch 67/115\n",
      "159/159 [==============================] - 64s 403ms/step - loss: 0.2427 - accuracy: 0.9017 - val_loss: 0.2699 - val_accuracy: 0.8929\n",
      "Epoch 68/115\n",
      "159/159 [==============================] - 62s 388ms/step - loss: 0.2369 - accuracy: 0.9017 - val_loss: 0.2766 - val_accuracy: 0.8929\n",
      "Epoch 69/115\n",
      "159/159 [==============================] - 62s 389ms/step - loss: 0.2386 - accuracy: 0.9010 - val_loss: 0.2957 - val_accuracy: 0.8788\n",
      "Epoch 70/115\n",
      "159/159 [==============================] - 65s 411ms/step - loss: 0.2349 - accuracy: 0.9044 - val_loss: 0.2852 - val_accuracy: 0.8947\n",
      "Epoch 71/115\n",
      "159/159 [==============================] - 62s 389ms/step - loss: 0.2324 - accuracy: 0.9066 - val_loss: 0.2902 - val_accuracy: 0.8867\n",
      "Epoch 72/115\n",
      "159/159 [==============================] - 62s 389ms/step - loss: 0.2322 - accuracy: 0.9068 - val_loss: 0.2892 - val_accuracy: 0.8805\n",
      "Epoch 73/115\n",
      "159/159 [==============================] - 62s 390ms/step - loss: 0.2359 - accuracy: 0.9017 - val_loss: 0.2721 - val_accuracy: 0.8903\n",
      "Epoch 74/115\n",
      "159/159 [==============================] - 64s 401ms/step - loss: 0.2259 - accuracy: 0.9090 - val_loss: 0.2763 - val_accuracy: 0.8920\n",
      "Epoch 75/115\n",
      "159/159 [==============================] - 62s 390ms/step - loss: 0.2281 - accuracy: 0.9066 - val_loss: 0.2916 - val_accuracy: 0.8858\n",
      "Epoch 76/115\n",
      "159/159 [==============================] - 62s 391ms/step - loss: 0.2333 - accuracy: 0.9054 - val_loss: 0.2804 - val_accuracy: 0.8858\n",
      "Epoch 77/115\n",
      "159/159 [==============================] - 65s 407ms/step - loss: 0.2266 - accuracy: 0.9085 - val_loss: 0.2706 - val_accuracy: 0.8947\n",
      "Epoch 78/115\n",
      "159/159 [==============================] - 62s 390ms/step - loss: 0.2240 - accuracy: 0.9092 - val_loss: 0.3059 - val_accuracy: 0.8805\n",
      "Epoch 79/115\n",
      "159/159 [==============================] - 62s 391ms/step - loss: 0.2221 - accuracy: 0.9099 - val_loss: 0.2888 - val_accuracy: 0.8929\n",
      "Epoch 80/115\n",
      "159/159 [==============================] - 64s 402ms/step - loss: 0.2205 - accuracy: 0.9115 - val_loss: 0.3007 - val_accuracy: 0.8788\n",
      "Epoch 81/115\n",
      "159/159 [==============================] - 62s 389ms/step - loss: 0.2214 - accuracy: 0.9114 - val_loss: 0.2890 - val_accuracy: 0.8796\n",
      "Epoch 82/115\n",
      "159/159 [==============================] - 64s 400ms/step - loss: 0.2145 - accuracy: 0.9130 - val_loss: 0.2968 - val_accuracy: 0.8832\n",
      "Epoch 83/115\n",
      "159/159 [==============================] - 71s 445ms/step - loss: 0.2182 - accuracy: 0.9111 - val_loss: 0.2859 - val_accuracy: 0.8903\n",
      "Epoch 84/115\n",
      "159/159 [==============================] - 68s 425ms/step - loss: 0.2139 - accuracy: 0.9139 - val_loss: 0.2896 - val_accuracy: 0.8894\n",
      "Epoch 85/115\n",
      "159/159 [==============================] - 68s 430ms/step - loss: 0.2105 - accuracy: 0.9137 - val_loss: 0.3138 - val_accuracy: 0.8761\n",
      "Epoch 86/115\n",
      "159/159 [==============================] - 69s 433ms/step - loss: 0.2109 - accuracy: 0.9151 - val_loss: 0.2879 - val_accuracy: 0.8903\n",
      "Epoch 87/115\n",
      "159/159 [==============================] - 68s 426ms/step - loss: 0.2044 - accuracy: 0.9172 - val_loss: 0.3130 - val_accuracy: 0.8850\n",
      "Epoch 88/115\n",
      "159/159 [==============================] - 68s 425ms/step - loss: 0.2009 - accuracy: 0.9181 - val_loss: 0.2961 - val_accuracy: 0.8903\n",
      "Epoch 89/115\n",
      "159/159 [==============================] - 70s 438ms/step - loss: 0.2046 - accuracy: 0.9200 - val_loss: 0.2830 - val_accuracy: 0.8965\n",
      "Epoch 90/115\n",
      "159/159 [==============================] - 66s 413ms/step - loss: 0.2009 - accuracy: 0.9190 - val_loss: 0.2918 - val_accuracy: 0.8912\n",
      "Epoch 91/115\n",
      "159/159 [==============================] - 64s 400ms/step - loss: 0.2046 - accuracy: 0.9154 - val_loss: 0.3157 - val_accuracy: 0.8761\n",
      "Epoch 92/115\n",
      "159/159 [==============================] - 66s 413ms/step - loss: 0.1939 - accuracy: 0.9221 - val_loss: 0.3012 - val_accuracy: 0.8858\n",
      "Epoch 93/115\n",
      "159/159 [==============================] - 64s 405ms/step - loss: 0.1972 - accuracy: 0.9190 - val_loss: 0.2896 - val_accuracy: 0.8894\n",
      "Epoch 94/115\n",
      "159/159 [==============================] - 64s 404ms/step - loss: 0.1977 - accuracy: 0.9201 - val_loss: 0.3185 - val_accuracy: 0.8823\n",
      "Epoch 95/115\n",
      "159/159 [==============================] - 66s 413ms/step - loss: 0.1899 - accuracy: 0.9213 - val_loss: 0.3318 - val_accuracy: 0.8867\n",
      "Epoch 96/115\n",
      "159/159 [==============================] - 63s 393ms/step - loss: 0.1900 - accuracy: 0.9246 - val_loss: 0.3101 - val_accuracy: 0.8903\n",
      "Epoch 97/115\n",
      "159/159 [==============================] - 62s 392ms/step - loss: 0.1910 - accuracy: 0.9234 - val_loss: 0.3176 - val_accuracy: 0.8814\n",
      "Epoch 98/115\n",
      "159/159 [==============================] - 63s 394ms/step - loss: 0.1897 - accuracy: 0.9225 - val_loss: 0.3136 - val_accuracy: 0.8761\n",
      "Epoch 99/115\n",
      "159/159 [==============================] - 64s 406ms/step - loss: 0.1873 - accuracy: 0.9233 - val_loss: 0.3029 - val_accuracy: 0.8770\n",
      "Epoch 100/115\n",
      "159/159 [==============================] - 62s 393ms/step - loss: 0.1850 - accuracy: 0.9243 - val_loss: 0.3145 - val_accuracy: 0.8814\n",
      "Epoch 101/115\n",
      "159/159 [==============================] - 63s 395ms/step - loss: 0.1867 - accuracy: 0.9226 - val_loss: 0.3063 - val_accuracy: 0.8858\n",
      "Epoch 102/115\n",
      "159/159 [==============================] - 65s 406ms/step - loss: 0.1829 - accuracy: 0.9250 - val_loss: 0.3379 - val_accuracy: 0.8805\n",
      "Epoch 103/115\n",
      "159/159 [==============================] - 63s 397ms/step - loss: 0.1817 - accuracy: 0.9257 - val_loss: 0.3119 - val_accuracy: 0.8805\n",
      "Epoch 104/115\n",
      "159/159 [==============================] - 64s 403ms/step - loss: 0.1812 - accuracy: 0.9282 - val_loss: 0.3351 - val_accuracy: 0.8805\n",
      "Epoch 105/115\n",
      "159/159 [==============================] - 68s 431ms/step - loss: 0.1757 - accuracy: 0.9280 - val_loss: 0.3160 - val_accuracy: 0.8814\n",
      "Epoch 106/115\n",
      "159/159 [==============================] - 65s 411ms/step - loss: 0.1761 - accuracy: 0.9298 - val_loss: 0.3139 - val_accuracy: 0.8903\n",
      "Epoch 107/115\n",
      "159/159 [==============================] - 66s 414ms/step - loss: 0.1748 - accuracy: 0.9274 - val_loss: 0.3352 - val_accuracy: 0.8823\n",
      "Epoch 108/115\n",
      "159/159 [==============================] - 68s 428ms/step - loss: 0.1724 - accuracy: 0.9291 - val_loss: 0.3351 - val_accuracy: 0.8841\n",
      "Epoch 109/115\n",
      "159/159 [==============================] - 64s 404ms/step - loss: 0.1678 - accuracy: 0.9309 - val_loss: 0.3340 - val_accuracy: 0.8832\n",
      "Epoch 110/115\n",
      "159/159 [==============================] - 63s 394ms/step - loss: 0.1709 - accuracy: 0.9310 - val_loss: 0.3336 - val_accuracy: 0.8743\n",
      "Epoch 111/115\n",
      "159/159 [==============================] - 64s 405ms/step - loss: 0.1681 - accuracy: 0.9322 - val_loss: 0.3450 - val_accuracy: 0.8938\n",
      "Epoch 112/115\n",
      "159/159 [==============================] - 68s 426ms/step - loss: 0.1652 - accuracy: 0.9325 - val_loss: 0.3975 - val_accuracy: 0.8611\n",
      "Epoch 113/115\n",
      "159/159 [==============================] - 67s 418ms/step - loss: 0.1703 - accuracy: 0.9298 - val_loss: 0.3735 - val_accuracy: 0.8779\n",
      "Epoch 114/115\n",
      "159/159 [==============================] - 66s 417ms/step - loss: 0.1722 - accuracy: 0.9316 - val_loss: 0.3490 - val_accuracy: 0.8690\n",
      "Epoch 115/115\n",
      "159/159 [==============================] - 68s 429ms/step - loss: 0.1634 - accuracy: 0.9340 - val_loss: 0.3557 - val_accuracy: 0.8752\n"
     ]
    }
   ],
   "source": [
    "gru_model = Sequential()\n",
    "\n",
    "gru_model.add(Conv1D(filters = 27, kernel_size = (4), activation = 'relu', input_shape = (301, 4)))\n",
    "gru_model.add(MaxPooling1D(pool_size= (3)))\n",
    "gru_model.add(Dropout(0.2))\n",
    "\n",
    "gru_model.add(Conv1D(filters = 14, kernel_size = (2), activation = 'relu', padding = 'same'))\n",
    "#cnn_model.add(MaxPooling1D(pool_size= (1)))\n",
    "#cnn_model.add(Dropout(0.2))\n",
    "\n",
    "\n",
    "\n",
    "gru_model.add(Bidirectional(GRU(128, activation = 'relu')))\n",
    "gru_model.add(Dropout(0.2))\n",
    "gru_model.add(Dense(128, activation = 'relu'))\n",
    "gru_model.add(Dense(64, activation = 'relu'))\n",
    "gru_model.add(Dense(64, activation = 'relu'))\n",
    "gru_model.add(Dense(16, activation = 'relu', kernel_regularizer = regularizers.l2(0.01)))\n",
    "gru_model.add(Dense(2, activation = 'sigmoid'))\n",
    "\n",
    "gru_model.compile(loss='binary_crossentropy',\n",
    "              optimizer='adam',\n",
    "              metrics=['accuracy'])\n",
    "\n",
    "early_stop = keras.callbacks.EarlyStopping(monitor = 'val_accuracy', min_delta = 0.0005, patience=8, \n",
    "                                           restore_best_weights=True )\n",
    "history = gru_model.fit(X_train, y_train, batch_size = 128, validation_data=(X_val, y_val), \n",
    "                        epochs=115)"
   ]
  },
  {
   "cell_type": "code",
   "execution_count": 11,
   "metadata": {
    "colab": {
     "base_uri": "https://localhost:8080/"
    },
    "id": "a6HmNBRGvTYc",
    "outputId": "70ff84fb-bf3f-44b1-b310-9dd32af23226"
   },
   "outputs": [
    {
     "name": "stderr",
     "output_type": "stream",
     "text": [
      "WARNING:absl:Found untraced functions such as _jit_compiled_convolution_op, _jit_compiled_convolution_op while saving (showing 2 of 2). These functions will not be directly callable after loading.\n"
     ]
    }
   ],
   "source": [
    "# save model\n",
    "gru_model.save('/content/gdrive/MyDrive/Colab Notebooks/CNN_GRU_model')"
   ]
  },
  {
   "cell_type": "code",
   "execution_count": null,
   "metadata": {
    "id": "4kqt4Xw5qnnM"
   },
   "outputs": [],
   "source": [
    "# load model\n",
    "gru_model = keras.models.load_model('/content/gdrive/MyDrive/Colab Notebooks/CNN_GRU_model')"
   ]
  },
  {
   "cell_type": "code",
   "execution_count": 12,
   "metadata": {
    "id": "9c-ilOLxYxFy"
   },
   "outputs": [],
   "source": [
    "pred = gru_model.predict"
   ]
  },
  {
   "cell_type": "code",
   "execution_count": 13,
   "metadata": {
    "colab": {
     "base_uri": "https://localhost:8080/"
    },
    "id": "xrhcHTW4Y1Ht",
    "outputId": "411f4921-9909-4061-bc92-c1e6bd6c89c1"
   },
   "outputs": [
    {
     "name": "stdout",
     "output_type": "stream",
     "text": [
      "36/36 [==============================] - 4s 82ms/step\n"
     ]
    }
   ],
   "source": [
    "preds = gru_model.predict(X_test)"
   ]
  },
  {
   "cell_type": "code",
   "execution_count": 14,
   "metadata": {
    "colab": {
     "base_uri": "https://localhost:8080/"
    },
    "id": "GfearOsnY18y",
    "outputId": "9fa1b502-c669-4ae5-bc22-8686b011d869"
   },
   "outputs": [
    {
     "data": {
      "text/plain": [
       "1130"
      ]
     },
     "execution_count": 14,
     "metadata": {},
     "output_type": "execute_result"
    }
   ],
   "source": [
    "preds\n",
    "len(preds)"
   ]
  },
  {
   "cell_type": "code",
   "execution_count": 15,
   "metadata": {
    "id": "izuuum0WY3tT"
   },
   "outputs": [],
   "source": [
    "np.savetxt(\"test_predictions.txt\", preds, delimiter=\",\")"
   ]
  },
  {
   "cell_type": "code",
   "execution_count": 16,
   "metadata": {
    "colab": {
     "base_uri": "https://localhost:8080/"
    },
    "id": "ESHzrvZresv6",
    "outputId": "d671d933-9af3-4f60-a4a5-3408fc7a3f3b"
   },
   "outputs": [
    {
     "name": "stdout",
     "output_type": "stream",
     "text": [
      "0.8647260273972602 0.8938053097345132 0.8769911504424779\n",
      "505 60 79 486\n"
     ]
    }
   ],
   "source": [
    "# get accuracy\n",
    "# positive: is promoter\n",
    "tn = 0\n",
    "fn = 0\n",
    "fp = 0\n",
    "tp = 0\n",
    "\n",
    "for i in range(len(preds)):\n",
    "  if preds[i][0] >= preds[i][1]: # non-promoter\n",
    "    preds[i][0] = 1\n",
    "    preds[i][1] = 0\n",
    "  else:                          # promoter\n",
    "    preds[i][0] = 0\n",
    "    preds[i][1] = 1\n",
    "\n",
    "for i in range(len(preds)):\n",
    "  if(preds[i][0] > preds[i][1]): # non-promoter\n",
    "    if y_test[i][0] == 1:\n",
    "      tn += 1\n",
    "    else:\n",
    "      fn += 1\n",
    "  else:                          # promoter\n",
    "    if y_test[i][1] == 1:\n",
    "      tp += 1\n",
    "    else:\n",
    "      fp += 1\n",
    "\n",
    "precision = tp / (tp + fp)\n",
    "recall = tp / (tp + fn)\n",
    "accuracy = (tp + tn) / (tp + fn + fp + tn)\n",
    "print(precision, recall, accuracy)\n",
    "print(tp, fn, fp, tn)"
   ]
  },
  {
   "cell_type": "code",
   "execution_count": 17,
   "metadata": {
    "colab": {
     "base_uri": "https://localhost:8080/"
    },
    "id": "L6-6JHTFqXCb",
    "outputId": "539cc268-b3ab-440f-cc52-a5edc02177b8"
   },
   "outputs": [
    {
     "name": "stdout",
     "output_type": "stream",
     "text": [
      "Model: \"sequential\"\n",
      "_________________________________________________________________\n",
      " Layer (type)                Output Shape              Param #   \n",
      "=================================================================\n",
      " conv1d (Conv1D)             (None, 298, 27)           459       \n",
      "                                                                 \n",
      " max_pooling1d (MaxPooling1D  (None, 99, 27)           0         \n",
      " )                                                               \n",
      "                                                                 \n",
      " dropout (Dropout)           (None, 99, 27)            0         \n",
      "                                                                 \n",
      " conv1d_1 (Conv1D)           (None, 99, 14)            770       \n",
      "                                                                 \n",
      " bidirectional (Bidirectiona  (None, 256)              110592    \n",
      " l)                                                              \n",
      "                                                                 \n",
      " dropout_1 (Dropout)         (None, 256)               0         \n",
      "                                                                 \n",
      " dense (Dense)               (None, 128)               32896     \n",
      "                                                                 \n",
      " dense_1 (Dense)             (None, 64)                8256      \n",
      "                                                                 \n",
      " dense_2 (Dense)             (None, 64)                4160      \n",
      "                                                                 \n",
      " dense_3 (Dense)             (None, 16)                1040      \n",
      "                                                                 \n",
      " dense_4 (Dense)             (None, 2)                 34        \n",
      "                                                                 \n",
      "=================================================================\n",
      "Total params: 158,207\n",
      "Trainable params: 158,207\n",
      "Non-trainable params: 0\n",
      "_________________________________________________________________\n",
      "None\n"
     ]
    }
   ],
   "source": [
    "print(gru_model.summary())"
   ]
  },
  {
   "cell_type": "code",
   "execution_count": 18,
   "metadata": {
    "colab": {
     "base_uri": "https://localhost:8080/",
     "height": 295
    },
    "id": "kjEAzLMW3WVQ",
    "outputId": "2b909f74-0c10-4cc9-8d5f-071e537c306e"
   },
   "outputs": [
    {
     "data": {
      "image/png": "[encoded data removed]",
      "text/plain": [
       "<Figure size 432x288 with 1 Axes>"
      ]
     },
     "metadata": {
      "needs_background": "light"
     },
     "output_type": "display_data"
    }
   ],
   "source": [
    "import matplotlib.pyplot as plt\n",
    "\n",
    "plt.plot(history.history['accuracy'])\n",
    "plt.plot(history.history['val_accuracy'])\n",
    "plt.title('Model accuracy')\n",
    "plt.xlabel('Epoch')\n",
    "plt.ylabel('Accuracy')\n",
    "plt.legend(['Train', 'Val'], loc='upper left')\n",
    "plt.savefig('CNN+GRU accuracy')"
   ]
  },
  {
   "cell_type": "code",
   "execution_count": 19,
   "metadata": {
    "colab": {
     "base_uri": "https://localhost:8080/",
     "height": 295
    },
    "id": "tvNrXL4H3WYJ",
    "outputId": "5ad52f24-b2e7-48d2-d1a1-e44038fa913a"
   },
   "outputs": [
    {
     "data": {
      "image/png": "[encoded data removed]",
      "text/plain": [
       "<Figure size 432x288 with 1 Axes>"
      ]
     },
     "metadata": {
      "needs_background": "light"
     },
     "output_type": "display_data"
    }
   ],
   "source": [
    "plt.plot(history.history['loss'])\n",
    "plt.plot(history.history['val_loss'])\n",
    "plt.title('Model Loss')\n",
    "plt.xlabel('Epoch')\n",
    "plt.ylabel('Loss')\n",
    "plt.legend(['Train', 'Val'], loc='upper left')\n",
    "plt.savefig('CNN+GRU loss')"
   ]
  },
  {
   "cell_type": "markdown",
   "metadata": {
    "id": "hyfQvnO0YEXd"
   },
   "source": [
    "**Initial Gridsearch on CNN model as backup.**\n",
    "\n",
    "The models is saved in this file.\n",
    "\n",
    "Best Parameters are L2 alpha of 0.01, Dropout of 0.02, First filter: 32, First node: 64, Second node: 64."
   ]
  },
  {
   "cell_type": "code",
   "execution_count": null,
   "metadata": {
    "id": "aZwYxR7DYPP1"
   },
   "outputs": [],
   "source": [
    "'''\n",
    "def model_func(first_node, second_node, alpha, first_filter, dropout):\n",
    "\n",
    "    model = Sequential()\n",
    "    model.add(Conv2D(filters = first_filter,       \n",
    "                    kernel_size = (3,3),    \n",
    "                    activation = 'relu',    \n",
    "                  input_shape = (301, 4, 1)))\n",
    "    model.add(MaxPooling2D(pool_size= (2,2)))\n",
    "    model.add(Dropout(dropout))\n",
    "\n",
    "    model.add(Conv2D(filters = 15,  \n",
    "                     kernel_size = (2,2),\n",
    "                    activation = 'relu',\n",
    "                    padding = 'same'))\n",
    "    model.add(MaxPooling2D(pool_size= (1,1)))\n",
    "    model.add(Dropout(dropout))\n",
    "\n",
    "\n",
    "    model.add(Flatten())\n",
    "    model.add(Dense(first_node, activation = 'relu', kernel_regularizer = regularizers.l2(alpha)))\n",
    "    model.add(Dense(second_node, activation = 'relu'))\n",
    "    model.add(Dense(32, activation = 'relu'))\n",
    "    model.add(Dense(16, activation = 'relu'))\n",
    "    model.add(Dense(2, activation = 'sigmoid'))\n",
    "\n",
    "    model.compile(loss='binary_crossentropy',\n",
    "                  optimizer='adam',\n",
    "                  metrics=['accuracy'])\n",
    "    \n",
    "    return model\n",
    "\n",
    "\n",
    "early_stop = keras.callbacks.EarlyStopping(monitor = 'loss', min_delta = 0, patience=5, \n",
    "                                           restore_best_weights=True )\n",
    "\n",
    "\n",
    "nn = KerasClassifier(build_fn = model_func, batch_size = 512, epochs = 1)\n",
    "\n",
    "gs = GridSearchCV(nn, param_grid = params, cv = 2)\n",
    "\n",
    "gs.fit(X_train, y_train, callbacks = [early_stop])\n",
    "\n",
    "cnn_model_saved = cnn_model.save('CNN_best_model.h5')\n",
    "'''"
   ]
  }
 ],
 "metadata": {
  "colab": {
   "provenance": []
  },
  "kernelspec": {
   "display_name": "Python 3 (ipykernel)",
   "language": "python",
   "name": "python3"
  },
  "language_info": {
   "codemirror_mode": {
    "name": "ipython",
    "version": 3
   },
   "file_extension": ".py",
   "mimetype": "text/x-python",
   "name": "python",
   "nbconvert_exporter": "python",
   "pygments_lexer": "ipython3",
   "version": "3.8.10"
  }
 },
 "nbformat": 4,
 "nbformat_minor": 1
}
