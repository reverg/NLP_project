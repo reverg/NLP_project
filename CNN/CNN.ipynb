{
  "cells": [
    {
      "cell_type": "markdown",
      "metadata": {
        "id": "Vpz-q45sXtXY"
      },
      "source": [
        "**Step 1: Importing the Dataset**\n",
        "\n",
        "The following code cells will import necessary libraries and import the dataset from the repository as a Pandas DataFrame"
      ]
    },
    {
      "cell_type": "code",
      "execution_count": 2,
      "metadata": {
        "colab": {
          "base_uri": "https://localhost:8080/"
        },
        "id": "iDIeHNtBgIbg",
        "outputId": "80f454db-67a3-4da8-fe6c-71f0eada6fd8"
      },
      "outputs": [],
      "source": [
        "#import sys\n",
        "#from google.colab import drive\n",
        "#drive.mount('/content/gdrive')"
      ]
    },
    {
      "cell_type": "code",
      "execution_count": 3,
      "metadata": {
        "id": "jUySofwNgEBC"
      },
      "outputs": [
        {
          "name": "stderr",
          "output_type": "stream",
          "text": [
            "2022-12-14 22:06:38.154003: I tensorflow/core/platform/cpu_feature_guard.cc:193] This TensorFlow binary is optimized with oneAPI Deep Neural Network Library (oneDNN) to use the following CPU instructions in performance-critical operations:  SSE4.1 SSE4.2 AVX AVX2 FMA\n",
            "To enable them in other operations, rebuild TensorFlow with the appropriate compiler flags.\n"
          ]
        }
      ],
      "source": [
        "import tensorflow as tf\n",
        "\n",
        "# device_name = tf.test.gpu_device_name()\n",
        "# if device_name != '/device:GPU:0':\n",
        "#   raise SystemError('GPU device not found')\n",
        "# print('Found GPU at: {}'.format(device_name))"
      ]
    },
    {
      "cell_type": "code",
      "execution_count": 4,
      "metadata": {
        "id": "e3TvyK-IXlni"
      },
      "outputs": [],
      "source": [
        "import pandas as pd\n",
        "import numpy as np\n",
        "import os\n",
        "\n",
        "import joblib\n",
        "\n",
        "from keras import utils\n",
        "from sklearn.model_selection import train_test_split, GridSearchCV\n",
        "from keras.models import Sequential\n",
        "from keras.layers import Dense, Dropout, Flatten, Conv1D, MaxPooling1D, MaxPooling2D, Conv2D, LSTM, GRU, Bidirectional, Attention\n",
        "from keras import regularizers\n",
        "from keras.callbacks import EarlyStopping, ModelCheckpoint\n",
        "from keras.wrappers.scikit_learn import KerasClassifier\n",
        "import keras"
      ]
    },
    {
      "cell_type": "markdown",
      "metadata": {
        "id": "rqzdv4QSXt5_"
      },
      "source": [
        "**Step 2: Preprocessing the Dataset**\n",
        "\n",
        "The data is not in a usable form; as a result, we will need to process it before using it to train our algorithms."
      ]
    },
    {
      "cell_type": "code",
      "execution_count": 5,
      "metadata": {
        "colab": {
          "base_uri": "https://localhost:8080/"
        },
        "id": "xRMnitO2XrDA",
        "outputId": "dfd966b1-4192-4cab-9fee-9a096c9d5505"
      },
      "outputs": [
        {
          "data": {
            "text/plain": [
              "(22600, 2)"
            ]
          },
          "execution_count": 5,
          "metadata": {},
          "output_type": "execute_result"
        }
      ],
      "source": [
        "df = pd.read_csv('../model_input/NonPromoterSequence.txt', sep = '>', )\n",
        "df.dropna(subset=['Unnamed: 0'], how='all', inplace=True)\n",
        "df.reset_index(inplace = True)\n",
        "df.drop(['EP 1 (+) mt:CoI_1; range -400 to -100.', 'index'], axis = 1, inplace=True) #data cleaning after error found\n",
        "df.rename(columns={'Unnamed: 0': \"sequence\"}, inplace = True)\n",
        "df['label'] = 0\n",
        "\n",
        "df2 = pd.read_csv('../model_input/PromoterSequence.txt', sep = '>', )\n",
        "df2.dropna(subset=['Unnamed: 0'], how='all', inplace=True)\n",
        "df2.reset_index(inplace = True)\n",
        "df2.drop(['EP 1 (+) mt:CoI_1; range -100 to 200.', 'index'], axis = 1, inplace=True)\n",
        "df2.rename(columns={'Unnamed: 0': \"sequence\"}, inplace = True)\n",
        "df2['label'] = 1\n",
        "\n",
        "df = pd.concat([df, df2], axis = 0 )\n",
        "df.shape"
      ]
    },
    {
      "cell_type": "code",
      "execution_count": 6,
      "metadata": {
        "id": "g59E9TviYcni"
      },
      "outputs": [],
      "source": [
        "df.drop([1822], inplace = True)\n",
        "\n",
        "for seq in df['sequence']:\n",
        "    if 'N' in seq:\n",
        "        display(df.loc[df['sequence'] == seq])\n",
        "\n",
        "sequence = list(df.loc[:, 'sequence'])\n",
        "encoded_list = []"
      ]
    },
    {
      "cell_type": "code",
      "execution_count": 8,
      "metadata": {
        "colab": {
          "base_uri": "https://localhost:8080/"
        },
        "id": "L6WfivGwYlq6",
        "outputId": "45f2b8d8-3268-4713-e281-3b6f2ba2b6fb"
      },
      "outputs": [
        {
          "data": {
            "text/plain": [
              "(22598, 301, 4)"
            ]
          },
          "execution_count": 8,
          "metadata": {},
          "output_type": "execute_result"
        }
      ],
      "source": [
        "def encode_seq(s):\n",
        "    Encode = {'A':[1,0,0,0],'T':[0,1,0,0],'C':[0,0,1,0],'G':[0,0,0,1]}\n",
        "    return [Encode[x] for x in s]\n",
        "\n",
        "for i in sequence:\n",
        "    x = encode_seq(i)\n",
        "    encoded_list.append(x)\n",
        "\n",
        "X = np.array(encoded_list)\n",
        "X.shape"
      ]
    },
    {
      "cell_type": "code",
      "execution_count": 9,
      "metadata": {
        "colab": {
          "base_uri": "https://localhost:8080/"
        },
        "id": "hiHen9G3YnOG",
        "outputId": "8525364a-a47b-42f9-8df7-b558ded1c6c9"
      },
      "outputs": [
        {
          "data": {
            "text/plain": [
              "(22598, 301, 4)"
            ]
          },
          "execution_count": 9,
          "metadata": {},
          "output_type": "execute_result"
        }
      ],
      "source": [
        "y = df['label']\n",
        "y.shape\n",
        "X.shape"
      ]
    },
    {
      "cell_type": "markdown",
      "metadata": {
        "id": "paSi-gFOX95g"
      },
      "source": [
        "**Step 3: Training and Testing Neural Networks**\n",
        "\n",
        "Now that we have preprocessed the data and built our training and testing datasets, we can start to deploy different convultional neural network architectures. It's relatively easy to test multiple models using gridsearch; as a result, we will compare and contrast the perforance using GridSearchCV over many values."
      ]
    },
    {
      "cell_type": "code",
      "execution_count": 10,
      "metadata": {
        "id": "FlTSXQy5YEKW"
      },
      "outputs": [
        {
          "name": "stderr",
          "output_type": "stream",
          "text": [
            "2022-12-14 22:06:52.927838: I tensorflow/core/platform/cpu_feature_guard.cc:193] This TensorFlow binary is optimized with oneAPI Deep Neural Network Library (oneDNN) to use the following CPU instructions in performance-critical operations:  SSE4.1 SSE4.2 AVX AVX2 FMA\n",
            "To enable them in other operations, rebuild TensorFlow with the appropriate compiler flags.\n",
            "2022-12-14 22:06:52.929983: I tensorflow/core/common_runtime/process_util.cc:146] Creating new thread pool with default inter op setting: 2. Tune using inter_op_parallelism_threads for best performance.\n"
          ]
        }
      ],
      "source": [
        "X_train, X_not_train, y_train, y_not_train = train_test_split(X, y, test_size = 0.1, random_state = 42, stratify = y)\n",
        "y_train = utils.to_categorical(y_train)\n",
        "\n",
        "X_val, X_test, y_val, y_test = train_test_split(X_not_train, y_not_train, random_state = 42, stratify = y_not_train, test_size=0.5)\n",
        "\n",
        "y_val = utils.to_categorical(y_val)\n",
        "y_test = utils.to_categorical(y_test)\n",
        "\n",
        "X_train = tf.cast(X_train, dtype='float32')\n",
        "X_val = tf.cast(X_val, dtype='float32')\n",
        "X_test = tf.cast(X_test, dtype='float32')"
      ]
    },
    {
      "cell_type": "code",
      "execution_count": 11,
      "metadata": {
        "id": "vP5rg4AaYsWO"
      },
      "outputs": [],
      "source": [
        "params = {\n",
        "    'first_node': [128, 64],\n",
        "    'second_node': [32, 64],\n",
        "    'alpha': [0.001, 0.01],\n",
        "    'first_filter': [9, 16, 32], \n",
        "    'dropout': [0.1, 0.2, 0.5]\n",
        "}\n",
        "#used for GridSearchCV"
      ]
    },
    {
      "cell_type": "code",
      "execution_count": 13,
      "metadata": {
        "colab": {
          "base_uri": "https://localhost:8080/"
        },
        "id": "D6e9D8feYtfg",
        "outputId": "f6a7a063-8804-4d7b-9a04-d26a91d9df5e"
      },
      "outputs": [
        {
          "name": "stdout",
          "output_type": "stream",
          "text": [
            "Epoch 1/20\n",
            "159/159 [==============================] - 14s 86ms/step - loss: 0.6766 - accuracy: 0.7164 - val_loss: 0.5630 - val_accuracy: 0.7531\n",
            "Epoch 2/20\n",
            "159/159 [==============================] - 13s 84ms/step - loss: 0.4847 - accuracy: 0.7897 - val_loss: 0.4606 - val_accuracy: 0.8044\n",
            "Epoch 3/20\n",
            "159/159 [==============================] - 12s 73ms/step - loss: 0.4197 - accuracy: 0.8150 - val_loss: 0.3951 - val_accuracy: 0.8363\n",
            "Epoch 4/20\n",
            "159/159 [==============================] - 10s 66ms/step - loss: 0.3706 - accuracy: 0.8397 - val_loss: 0.3437 - val_accuracy: 0.8478\n",
            "Epoch 5/20\n",
            "159/159 [==============================] - 14s 91ms/step - loss: 0.3402 - accuracy: 0.8539 - val_loss: 0.3238 - val_accuracy: 0.8549\n",
            "Epoch 6/20\n",
            "159/159 [==============================] - 14s 90ms/step - loss: 0.3238 - accuracy: 0.8631 - val_loss: 0.3140 - val_accuracy: 0.8584\n",
            "Epoch 7/20\n",
            "159/159 [==============================] - 13s 84ms/step - loss: 0.3054 - accuracy: 0.8736 - val_loss: 0.3068 - val_accuracy: 0.8673\n",
            "Epoch 8/20\n",
            "159/159 [==============================] - 11s 70ms/step - loss: 0.3003 - accuracy: 0.8737 - val_loss: 0.3090 - val_accuracy: 0.8717\n",
            "Epoch 9/20\n",
            "159/159 [==============================] - 18s 115ms/step - loss: 0.2821 - accuracy: 0.8824 - val_loss: 0.2981 - val_accuracy: 0.8708\n",
            "Epoch 10/20\n",
            "159/159 [==============================] - 18s 111ms/step - loss: 0.2741 - accuracy: 0.8876 - val_loss: 0.3068 - val_accuracy: 0.8646\n",
            "Epoch 11/20\n",
            "159/159 [==============================] - 17s 109ms/step - loss: 0.2633 - accuracy: 0.8913 - val_loss: 0.3027 - val_accuracy: 0.8690\n",
            "Epoch 12/20\n",
            "159/159 [==============================] - 12s 77ms/step - loss: 0.2592 - accuracy: 0.8924 - val_loss: 0.2922 - val_accuracy: 0.8814\n",
            "Epoch 13/20\n",
            "159/159 [==============================] - 16s 103ms/step - loss: 0.2500 - accuracy: 0.8981 - val_loss: 0.3005 - val_accuracy: 0.8646\n",
            "Epoch 14/20\n",
            "159/159 [==============================] - 16s 99ms/step - loss: 0.2531 - accuracy: 0.8950 - val_loss: 0.2915 - val_accuracy: 0.8743\n",
            "Epoch 15/20\n",
            "159/159 [==============================] - 15s 93ms/step - loss: 0.2375 - accuracy: 0.9053 - val_loss: 0.2870 - val_accuracy: 0.8726\n",
            "Epoch 16/20\n",
            "159/159 [==============================] - 14s 86ms/step - loss: 0.2246 - accuracy: 0.9084 - val_loss: 0.2928 - val_accuracy: 0.8699\n",
            "Epoch 17/20\n",
            "159/159 [==============================] - 13s 84ms/step - loss: 0.2210 - accuracy: 0.9104 - val_loss: 0.2989 - val_accuracy: 0.8593\n",
            "Epoch 18/20\n",
            "159/159 [==============================] - 11s 72ms/step - loss: 0.2120 - accuracy: 0.9145 - val_loss: 0.3120 - val_accuracy: 0.8708\n",
            "Epoch 19/20\n",
            "159/159 [==============================] - 19s 117ms/step - loss: 0.2062 - accuracy: 0.9179 - val_loss: 0.3202 - val_accuracy: 0.8664\n",
            "Epoch 20/20\n",
            "159/159 [==============================] - 14s 88ms/step - loss: 0.1973 - accuracy: 0.9205 - val_loss: 0.3194 - val_accuracy: 0.8708\n"
          ]
        }
      ],
      "source": [
        "cnn_model = Sequential()\n",
        "cnn_model.add(Conv1D(filters = 60, kernel_size = (4), activation = 'relu', input_shape = (301, 4))) # 298 * 60\n",
        "cnn_model.add(MaxPooling1D(pool_size = (3))) # 99 * 60\n",
        "cnn_model.add(Dropout(0.2))\n",
        "\n",
        "cnn_model.add(Conv1D(filters = 60, kernel_size = (2), activation = 'relu', padding = 'same')) # 99 * 30\n",
        "cnn_model.add(MaxPooling1D(pool_size = (3))) # 33 * 15\n",
        "cnn_model.add(Dropout(0.2))\n",
        "\n",
        "cnn_model.add(Conv1D(filters = 30, kernel_size = (2), activation = 'relu', padding = 'same')) # 33 * 30\n",
        "cnn_model.add(Dropout(0.2))\n",
        "\n",
        "cnn_model.add(Flatten())\n",
        "cnn_model.add(Dense(256, activation = 'relu'))\n",
        "cnn_model.add(Dense(256, activation = 'relu'))\n",
        "cnn_model.add(Dense(128, activation = 'relu'))\n",
        "cnn_model.add(Dense(64, activation = 'relu'))\n",
        "cnn_model.add(Dense(64, activation = 'relu'))\n",
        "cnn_model.add(Dense(16, activation = 'relu', kernel_regularizer = regularizers.l2(0.01)))\n",
        "cnn_model.add(Dense(2, activation = 'sigmoid'))\n",
        "\n",
        "cnn_model.compile(loss='binary_crossentropy',\n",
        "              optimizer='adam',\n",
        "              metrics=['accuracy'])\n",
        "\n",
        "early_stop = keras.callbacks.EarlyStopping(monitor = 'val_accuracy', min_delta = 0.0003, patience=8, \n",
        "                                           restore_best_weights=True )\n",
        "history = cnn_model.fit(X_train, y_train, batch_size = 128, validation_data=(X_test, y_test), \n",
        "                        epochs=20)"
      ]
    },
    {
      "cell_type": "code",
      "execution_count": 14,
      "metadata": {
        "colab": {
          "base_uri": "https://localhost:8080/"
        },
        "id": "a6HmNBRGvTYc",
        "outputId": "70ff84fb-bf3f-44b1-b310-9dd32af23226"
      },
      "outputs": [
        {
          "name": "stderr",
          "output_type": "stream",
          "text": [
            "WARNING:absl:Found untraced functions such as _jit_compiled_convolution_op, _jit_compiled_convolution_op, _jit_compiled_convolution_op while saving (showing 3 of 3). These functions will not be directly callable after loading.\n"
          ]
        },
        {
          "name": "stdout",
          "output_type": "stream",
          "text": [
            "INFO:tensorflow:Assets written to: CNN_model/assets\n"
          ]
        },
        {
          "name": "stderr",
          "output_type": "stream",
          "text": [
            "INFO:tensorflow:Assets written to: CNN_model/assets\n"
          ]
        }
      ],
      "source": [
        "# save model\n",
        "cnn_model.save('CNN_model')"
      ]
    },
    {
      "cell_type": "code",
      "execution_count": 15,
      "metadata": {
        "id": "4kqt4Xw5qnnM"
      },
      "outputs": [],
      "source": [
        "# load model\n",
        "cnn_model = keras.models.load_model('CNN_model')"
      ]
    },
    {
      "cell_type": "code",
      "execution_count": 17,
      "metadata": {
        "id": "9c-ilOLxYxFy"
      },
      "outputs": [],
      "source": [
        "pred = cnn_model.predict"
      ]
    },
    {
      "cell_type": "code",
      "execution_count": 18,
      "metadata": {
        "colab": {
          "base_uri": "https://localhost:8080/"
        },
        "id": "xrhcHTW4Y1Ht",
        "outputId": "411f4921-9909-4061-bc92-c1e6bd6c89c1"
      },
      "outputs": [
        {
          "name": "stdout",
          "output_type": "stream",
          "text": [
            "36/36 [==============================] - 1s 18ms/step\n"
          ]
        }
      ],
      "source": [
        "preds = cnn_model.predict(X_test)"
      ]
    },
    {
      "cell_type": "code",
      "execution_count": 19,
      "metadata": {
        "colab": {
          "base_uri": "https://localhost:8080/"
        },
        "id": "GfearOsnY18y",
        "outputId": "9fa1b502-c669-4ae5-bc22-8686b011d869"
      },
      "outputs": [
        {
          "data": {
            "text/plain": [
              "1130"
            ]
          },
          "execution_count": 19,
          "metadata": {},
          "output_type": "execute_result"
        }
      ],
      "source": [
        "preds\n",
        "len(preds)"
      ]
    },
    {
      "cell_type": "code",
      "execution_count": 20,
      "metadata": {
        "id": "izuuum0WY3tT"
      },
      "outputs": [],
      "source": [
        "np.savetxt(\"test_predictions.txt\", preds, delimiter=\",\")"
      ]
    },
    {
      "cell_type": "code",
      "execution_count": 21,
      "metadata": {
        "colab": {
          "base_uri": "https://localhost:8080/"
        },
        "id": "ESHzrvZresv6",
        "outputId": "d671d933-9af3-4f60-a4a5-3408fc7a3f3b"
      },
      "outputs": [
        {
          "name": "stdout",
          "output_type": "stream",
          "text": [
            "0.8960302457466919 0.8389380530973451 0.8707964601769912\n",
            "474 91 55 510\n"
          ]
        }
      ],
      "source": [
        "# get accuracy\n",
        "# positive: is promoter\n",
        "tn = 0\n",
        "fn = 0\n",
        "fp = 0\n",
        "tp = 0\n",
        "\n",
        "for i in range(len(preds)):\n",
        "  if preds[i][0] >= preds[i][1]: # non-promoter\n",
        "    preds[i][0] = 1\n",
        "    preds[i][1] = 0\n",
        "  else:                          # promoter\n",
        "    preds[i][0] = 0\n",
        "    preds[i][1] = 1\n",
        "\n",
        "for i in range(len(preds)):\n",
        "  if(preds[i][0] > preds[i][1]): # non-promoter\n",
        "    if y_test[i][0] == 1:\n",
        "      tn += 1\n",
        "    else:\n",
        "      fn += 1\n",
        "  else:                          # promoter\n",
        "    if y_test[i][1] == 1:\n",
        "      tp += 1\n",
        "    else:\n",
        "      fp += 1\n",
        "\n",
        "precision = tp / (tp + fp)\n",
        "recall = tp / (tp + fn)\n",
        "accuracy = (tp + tn) / (tp + fn + fp + tn)\n",
        "print(precision, recall, accuracy)\n",
        "print(tp, fn, fp, tn)"
      ]
    },
    {
      "cell_type": "code",
      "execution_count": 22,
      "metadata": {
        "colab": {
          "base_uri": "https://localhost:8080/"
        },
        "id": "L6-6JHTFqXCb",
        "outputId": "539cc268-b3ab-440f-cc52-a5edc02177b8"
      },
      "outputs": [
        {
          "name": "stdout",
          "output_type": "stream",
          "text": [
            "Model: \"sequential_2\"\n",
            "_________________________________________________________________\n",
            " Layer (type)                Output Shape              Param #   \n",
            "=================================================================\n",
            " conv1d_6 (Conv1D)           (None, 298, 60)           1020      \n",
            "                                                                 \n",
            " max_pooling1d_4 (MaxPooling  (None, 99, 60)           0         \n",
            " 1D)                                                             \n",
            "                                                                 \n",
            " dropout_6 (Dropout)         (None, 99, 60)            0         \n",
            "                                                                 \n",
            " conv1d_7 (Conv1D)           (None, 99, 60)            7260      \n",
            "                                                                 \n",
            " max_pooling1d_5 (MaxPooling  (None, 33, 60)           0         \n",
            " 1D)                                                             \n",
            "                                                                 \n",
            " dropout_7 (Dropout)         (None, 33, 60)            0         \n",
            "                                                                 \n",
            " conv1d_8 (Conv1D)           (None, 33, 30)            3630      \n",
            "                                                                 \n",
            " dropout_8 (Dropout)         (None, 33, 30)            0         \n",
            "                                                                 \n",
            " flatten_2 (Flatten)         (None, 990)               0         \n",
            "                                                                 \n",
            " dense_14 (Dense)            (None, 256)               253696    \n",
            "                                                                 \n",
            " dense_15 (Dense)            (None, 256)               65792     \n",
            "                                                                 \n",
            " dense_16 (Dense)            (None, 128)               32896     \n",
            "                                                                 \n",
            " dense_17 (Dense)            (None, 64)                8256      \n",
            "                                                                 \n",
            " dense_18 (Dense)            (None, 64)                4160      \n",
            "                                                                 \n",
            " dense_19 (Dense)            (None, 16)                1040      \n",
            "                                                                 \n",
            " dense_20 (Dense)            (None, 2)                 34        \n",
            "                                                                 \n",
            "=================================================================\n",
            "Total params: 377,784\n",
            "Trainable params: 377,784\n",
            "Non-trainable params: 0\n",
            "_________________________________________________________________\n",
            "None\n"
          ]
        }
      ],
      "source": [
        "print(cnn_model.summary())"
      ]
    },
    {
      "cell_type": "code",
      "execution_count": 23,
      "metadata": {
        "colab": {
          "base_uri": "https://localhost:8080/",
          "height": 295
        },
        "id": "kjEAzLMW3WVQ",
        "outputId": "2b909f74-0c10-4cc9-8d5f-071e537c306e"
      },
      "outputs": [
        {
          "data": {
            "image/png": "[encoded data removed]",
            "text/plain": [
              "<Figure size 640x480 with 1 Axes>"
            ]
          },
          "metadata": {},
          "output_type": "display_data"
        }
      ],
      "source": [
        "import matplotlib.pyplot as plt\n",
        "\n",
        "plt.plot(history.history['accuracy'])\n",
        "plt.plot(history.history['val_accuracy'])\n",
        "plt.title('Model accuracy')\n",
        "plt.xlabel('Epoch')\n",
        "plt.ylabel('Accuracy')\n",
        "plt.legend(['Train', 'Val'], loc='upper left')\n",
        "plt.savefig('only CNN accuracy')"
      ]
    },
    {
      "cell_type": "code",
      "execution_count": 24,
      "metadata": {
        "colab": {
          "base_uri": "https://localhost:8080/",
          "height": 295
        },
        "id": "tvNrXL4H3WYJ",
        "outputId": "5ad52f24-b2e7-48d2-d1a1-e44038fa913a"
      },
      "outputs": [
        {
          "data": {
            "image/png": "[encoded data removed]",
            "text/plain": [
              "<Figure size 640x480 with 1 Axes>"
            ]
          },
          "metadata": {},
          "output_type": "display_data"
        }
      ],
      "source": [
        "plt.plot(history.history['loss'])\n",
        "plt.plot(history.history['val_loss'])\n",
        "plt.title('Model Loss')\n",
        "plt.xlabel('Epoch')\n",
        "plt.ylabel('Loss')\n",
        "plt.legend(['Train', 'Val'], loc='upper left')\n",
        "plt.savefig('only CNN loss')"
      ]
    }
  ],
  "metadata": {
    "colab": {
      "provenance": []
    },
    "kernelspec": {
      "display_name": "SNU_2022_NLP",
      "language": "python",
      "name": "python3"
    },
    "language_info": {
      "codemirror_mode": {
        "name": "ipython",
        "version": 3
      },
      "file_extension": ".py",
      "mimetype": "text/x-python",
      "name": "python",
      "nbconvert_exporter": "python",
      "pygments_lexer": "ipython3",
      "version": "3.10.4"
    },
    "vscode": {
      "interpreter": {
        "hash": "1bd5f90023c14f182baa500076984debd1b78574bf3bc808a1062ddfad18904a"
      }
    }
  },
  "nbformat": 4,
  "nbformat_minor": 0
}
