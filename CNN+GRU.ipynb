{
  "cells": [
    {
      "cell_type": "markdown",
      "metadata": {
        "id": "Vpz-q45sXtXY"
      },
      "source": [
        "**Step 1: Importing the Dataset**\n",
        "\n",
        "The following code cells will import necessary libraries and import the dataset from the repository as a Pandas DataFrame"
      ]
    },
    {
      "cell_type": "code",
      "execution_count": 2,
      "metadata": {
        "colab": {
          "base_uri": "https://localhost:8080/"
        },
        "id": "iDIeHNtBgIbg",
        "outputId": "8e3f2cdc-df1f-41b3-8918-84da0e5fcbce"
      },
      "outputs": [
        {
          "name": "stdout",
          "output_type": "stream",
          "text": [
            "Mounted at /content/gdrive\n"
          ]
        }
      ],
      "source": [
        "import sys\n",
        "from google.colab import drive\n",
        "drive.mount('/content/gdrive')"
      ]
    },
    {
      "cell_type": "code",
      "execution_count": 3,
      "metadata": {
        "id": "jUySofwNgEBC"
      },
      "outputs": [],
      "source": [
        "import tensorflow as tf\n",
        "\n",
        "# device_name = tf.test.gpu_device_name()\n",
        "# if device_name != '/device:GPU:0':\n",
        "#   raise SystemError('GPU device not found')\n",
        "# print('Found GPU at: {}'.format(device_name))"
      ]
    },
    {
      "cell_type": "code",
      "execution_count": 7,
      "metadata": {
        "id": "e3TvyK-IXlni"
      },
      "outputs": [],
      "source": [
        "import pandas as pd\n",
        "import numpy as np\n",
        "import os\n",
        "\n",
        "import joblib\n",
        "\n",
        "from keras import utils\n",
        "from sklearn.model_selection import train_test_split, GridSearchCV\n",
        "from keras.models import Sequential\n",
        "from keras.layers import Dense, Dropout, Flatten, Conv1D, MaxPooling1D, MaxPooling2D, Conv2D, LSTM, GRU, Bidirectional, Attention\n",
        "from keras import regularizers\n",
        "from keras.callbacks import EarlyStopping, ModelCheckpoint\n",
        "from keras.wrappers.scikit_learn import KerasClassifier\n",
        "import keras"
      ]
    },
    {
      "cell_type": "markdown",
      "metadata": {
        "id": "rqzdv4QSXt5_"
      },
      "source": [
        "**Step 2: Preprocessing the Dataset**\n",
        "\n",
        "The data is not in a usable form; as a result, we will need to process it before using it to train our algorithms."
      ]
    },
    {
      "cell_type": "code",
      "execution_count": null,
      "metadata": {
        "colab": {
          "base_uri": "https://localhost:8080/"
        },
        "id": "xRMnitO2XrDA",
        "outputId": "be3de330-3726-4043-ffa3-02528cb42471"
      },
      "outputs": [
        {
          "data": {
            "text/plain": [
              "(22600, 2)"
            ]
          },
          "execution_count": 24,
          "metadata": {},
          "output_type": "execute_result"
        }
      ],
      "source": [
        "df = pd.read_csv('/content/gdrive/MyDrive/Colab Notebooks/NonPromoterSequence.txt', sep = '>', )\n",
        "df.dropna(subset=['Unnamed: 0'], how='all', inplace=True)\n",
        "df.reset_index(inplace = True)\n",
        "df.drop(['EP 1 (+) mt:CoI_1; range -400 to -100.', 'index'], axis = 1, inplace=True) #data cleaning after error found\n",
        "df.rename(columns={'Unnamed: 0': \"sequence\"}, inplace = True)\n",
        "df['label'] = 0\n",
        "\n",
        "df2 = pd.read_csv('/content/gdrive/MyDrive/Colab Notebooks/PromoterSequence.txt', sep = '>', )\n",
        "df2.dropna(subset=['Unnamed: 0'], how='all', inplace=True)\n",
        "df2.reset_index(inplace = True)\n",
        "df2.drop(['EP 1 (+) mt:CoI_1; range -100 to 200.', 'index'], axis = 1, inplace=True)\n",
        "df2.rename(columns={'Unnamed: 0': \"sequence\"}, inplace = True)\n",
        "df2['label'] = 1\n",
        "\n",
        "df = pd.concat([df, df2], axis = 0 )\n",
        "df.shape"
      ]
    },
    {
      "cell_type": "code",
      "execution_count": null,
      "metadata": {
        "id": "g59E9TviYcni"
      },
      "outputs": [],
      "source": [
        "df.drop([1822], inplace = True)\n",
        "\n",
        "for seq in df['sequence']:\n",
        "    if 'N' in seq:\n",
        "        display(df.loc[df['sequence'] == seq])\n",
        "\n",
        "sequence = list(df.loc[:, 'sequence'])\n",
        "encoded_list = []"
      ]
    },
    {
      "cell_type": "code",
      "execution_count": null,
      "metadata": {
        "colab": {
          "base_uri": "https://localhost:8080/"
        },
        "id": "L6WfivGwYlq6",
        "outputId": "7d9f32e8-da10-42e8-d4f8-fe19b549f9b1"
      },
      "outputs": [
        {
          "data": {
            "text/plain": [
              "(22598, 301, 4)"
            ]
          },
          "execution_count": 26,
          "metadata": {},
          "output_type": "execute_result"
        }
      ],
      "source": [
        "def encode_seq(s):\n",
        "    Encode = {'A':[1,0,0,0],'T':[0,1,0,0],'C':[0,0,1,0],'G':[0,0,0,1]}\n",
        "    return [Encode[x] for x in s]\n",
        "\n",
        "for i in sequence:\n",
        "    x = encode_seq(i)\n",
        "    encoded_list.append(x)\n",
        "\n",
        "X = np.array(encoded_list)\n",
        "X.shape"
      ]
    },
    {
      "cell_type": "code",
      "execution_count": null,
      "metadata": {
        "colab": {
          "base_uri": "https://localhost:8080/"
        },
        "id": "hiHen9G3YnOG",
        "outputId": "1e574929-0cc2-4b9b-fc44-f269ed243421"
      },
      "outputs": [
        {
          "data": {
            "text/plain": [
              "(22598, 301, 4)"
            ]
          },
          "execution_count": 27,
          "metadata": {},
          "output_type": "execute_result"
        }
      ],
      "source": [
        "y = df['label']\n",
        "y.shape\n",
        "X.shape"
      ]
    },
    {
      "cell_type": "markdown",
      "metadata": {
        "id": "paSi-gFOX95g"
      },
      "source": [
        "**Step 3: Training and Testing Neural Networks**\n",
        "\n",
        "Now that we have preprocessed the data and built our training and testing datasets, we can start to deploy different convultional neural network architectures. It's relatively easy to test multiple models using gridsearch; as a result, we will compare and contrast the perforance using GridSearchCV over many values."
      ]
    },
    {
      "cell_type": "code",
      "execution_count": null,
      "metadata": {
        "id": "FlTSXQy5YEKW"
      },
      "outputs": [],
      "source": [
        "X_train, X_not_train, y_train, y_not_train = train_test_split(X, y, test_size = 0.1, random_state = 42, stratify = y)\n",
        "y_train = utils.to_categorical(y_train)\n",
        "\n",
        "X_val, X_test, y_val, y_test = train_test_split(X_not_train, y_not_train, random_state = 42, stratify = y_not_train, test_size=0.5)\n",
        "\n",
        "y_val = utils.to_categorical(y_val)\n",
        "y_test = utils.to_categorical(y_test)\n",
        "\n",
        "X_train = tf.cast(X_train, dtype='float32')\n",
        "X_val = tf.cast(X_val, dtype='float32')\n",
        "X_test = tf.cast(X_test, dtype='float32')"
      ]
    },
    {
      "cell_type": "code",
      "execution_count": null,
      "metadata": {
        "id": "vP5rg4AaYsWO"
      },
      "outputs": [],
      "source": [
        "params = {\n",
        "    'first_node': [128, 64],\n",
        "    'second_node': [32, 64],\n",
        "    'alpha': [0.001, 0.01],\n",
        "    'first_filter': [9, 16, 32], \n",
        "    'dropout': [0.1, 0.2, 0.5]\n",
        "}\n",
        "#used for GridSearchCV"
      ]
    },
    {
      "cell_type": "code",
      "execution_count": null,
      "metadata": {
        "colab": {
          "base_uri": "https://localhost:8080/"
        },
        "id": "D6e9D8feYtfg",
        "outputId": "4090c88b-062f-4305-9686-59287e6c1d21"
      },
      "outputs": [
        {
          "name": "stdout",
          "output_type": "stream",
          "text": [
            "Epoch 1/115\n",
            "159/159 [==============================] - 51s 307ms/step - loss: 0.7245 - accuracy: 0.6588 - val_loss: 0.5756 - val_accuracy: 0.7504\n",
            "Epoch 2/115\n",
            "159/159 [==============================] - 45s 286ms/step - loss: 0.5476 - accuracy: 0.7452 - val_loss: 0.5142 - val_accuracy: 0.7699\n",
            "Epoch 3/115\n",
            "159/159 [==============================] - 43s 271ms/step - loss: 0.5225 - accuracy: 0.7505 - val_loss: 0.5083 - val_accuracy: 0.7593\n",
            "Epoch 4/115\n",
            "159/159 [==============================] - 44s 278ms/step - loss: 0.5127 - accuracy: 0.7566 - val_loss: 0.5003 - val_accuracy: 0.7655\n",
            "Epoch 5/115\n",
            "159/159 [==============================] - 43s 270ms/step - loss: 0.5052 - accuracy: 0.7596 - val_loss: 0.5023 - val_accuracy: 0.7628\n",
            "Epoch 6/115\n",
            "159/159 [==============================] - 42s 266ms/step - loss: 0.5006 - accuracy: 0.7609 - val_loss: 0.4945 - val_accuracy: 0.7646\n",
            "Epoch 7/115\n",
            "159/159 [==============================] - 43s 273ms/step - loss: 0.5017 - accuracy: 0.7593 - val_loss: 0.4915 - val_accuracy: 0.7646\n",
            "Epoch 8/115\n",
            "159/159 [==============================] - 42s 264ms/step - loss: 0.4994 - accuracy: 0.7619 - val_loss: 0.4911 - val_accuracy: 0.7646\n",
            "Epoch 9/115\n",
            "159/159 [==============================] - 42s 266ms/step - loss: 0.4964 - accuracy: 0.7618 - val_loss: 0.4975 - val_accuracy: 0.7673\n",
            "Epoch 10/115\n",
            "159/159 [==============================] - 42s 266ms/step - loss: 0.4871 - accuracy: 0.7671 - val_loss: 0.4827 - val_accuracy: 0.7752\n",
            "Epoch 11/115\n",
            "159/159 [==============================] - 42s 265ms/step - loss: 0.4809 - accuracy: 0.7729 - val_loss: 0.4813 - val_accuracy: 0.7655\n",
            "Epoch 12/115\n",
            "159/159 [==============================] - 44s 274ms/step - loss: 0.4660 - accuracy: 0.7778 - val_loss: 0.4480 - val_accuracy: 0.7929\n",
            "Epoch 13/115\n",
            "159/159 [==============================] - 42s 265ms/step - loss: 0.4526 - accuracy: 0.7887 - val_loss: 0.4965 - val_accuracy: 0.7814\n",
            "Epoch 14/115\n",
            "159/159 [==============================] - 42s 264ms/step - loss: 0.4470 - accuracy: 0.7928 - val_loss: 0.4403 - val_accuracy: 0.7903\n",
            "Epoch 15/115\n",
            "159/159 [==============================] - 42s 263ms/step - loss: 0.4305 - accuracy: 0.8009 - val_loss: 0.4075 - val_accuracy: 0.8035\n",
            "Epoch 16/115\n",
            "159/159 [==============================] - 42s 264ms/step - loss: 0.4135 - accuracy: 0.8134 - val_loss: 0.4119 - val_accuracy: 0.8097\n",
            "Epoch 17/115\n",
            "159/159 [==============================] - 43s 271ms/step - loss: 0.4125 - accuracy: 0.8140 - val_loss: 0.4049 - val_accuracy: 0.8265\n",
            "Epoch 18/115\n",
            "159/159 [==============================] - 42s 264ms/step - loss: 0.3956 - accuracy: 0.8233 - val_loss: 0.3651 - val_accuracy: 0.8487\n",
            "Epoch 19/115\n",
            "159/159 [==============================] - 42s 264ms/step - loss: 0.3931 - accuracy: 0.8234 - val_loss: 0.3960 - val_accuracy: 0.8248\n",
            "Epoch 20/115\n",
            "159/159 [==============================] - 42s 263ms/step - loss: 0.3840 - accuracy: 0.8283 - val_loss: 0.3405 - val_accuracy: 0.8584\n",
            "Epoch 21/115\n",
            "159/159 [==============================] - 42s 261ms/step - loss: 0.3711 - accuracy: 0.8374 - val_loss: 0.3559 - val_accuracy: 0.8442\n",
            "Epoch 22/115\n",
            "159/159 [==============================] - 42s 263ms/step - loss: 0.3654 - accuracy: 0.8372 - val_loss: 0.3367 - val_accuracy: 0.8646\n",
            "Epoch 23/115\n",
            "159/159 [==============================] - 43s 269ms/step - loss: 0.3592 - accuracy: 0.8431 - val_loss: 0.3372 - val_accuracy: 0.8531\n",
            "Epoch 24/115\n",
            "159/159 [==============================] - 42s 261ms/step - loss: 0.3559 - accuracy: 0.8438 - val_loss: 0.3301 - val_accuracy: 0.8611\n",
            "Epoch 25/115\n",
            "159/159 [==============================] - 42s 261ms/step - loss: 0.3481 - accuracy: 0.8490 - val_loss: 0.3293 - val_accuracy: 0.8628\n",
            "Epoch 26/115\n",
            "159/159 [==============================] - 43s 271ms/step - loss: 0.3434 - accuracy: 0.8522 - val_loss: 0.3219 - val_accuracy: 0.8646\n",
            "Epoch 27/115\n",
            "159/159 [==============================] - 42s 262ms/step - loss: 0.3374 - accuracy: 0.8543 - val_loss: 0.3210 - val_accuracy: 0.8619\n",
            "Epoch 28/115\n",
            "159/159 [==============================] - 43s 272ms/step - loss: 0.3310 - accuracy: 0.8589 - val_loss: 0.3165 - val_accuracy: 0.8646\n",
            "Epoch 29/115\n",
            "159/159 [==============================] - 42s 264ms/step - loss: 0.3289 - accuracy: 0.8563 - val_loss: 0.3122 - val_accuracy: 0.8681\n",
            "Epoch 30/115\n",
            "159/159 [==============================] - 42s 264ms/step - loss: 0.3231 - accuracy: 0.8621 - val_loss: 0.3313 - val_accuracy: 0.8549\n",
            "Epoch 31/115\n",
            "159/159 [==============================] - 42s 264ms/step - loss: 0.3275 - accuracy: 0.8587 - val_loss: 0.3161 - val_accuracy: 0.8646\n",
            "Epoch 32/115\n",
            "159/159 [==============================] - 42s 264ms/step - loss: 0.3158 - accuracy: 0.8647 - val_loss: 0.3150 - val_accuracy: 0.8673\n",
            "Epoch 33/115\n",
            "159/159 [==============================] - 43s 270ms/step - loss: 0.3168 - accuracy: 0.8653 - val_loss: 0.3199 - val_accuracy: 0.8619\n",
            "Epoch 34/115\n",
            "159/159 [==============================] - 42s 263ms/step - loss: 0.3128 - accuracy: 0.8655 - val_loss: 0.3106 - val_accuracy: 0.8726\n",
            "Epoch 35/115\n",
            "159/159 [==============================] - 42s 263ms/step - loss: 0.3129 - accuracy: 0.8673 - val_loss: 0.3156 - val_accuracy: 0.8619\n",
            "Epoch 36/115\n",
            "159/159 [==============================] - 42s 264ms/step - loss: 0.3120 - accuracy: 0.8661 - val_loss: 0.2988 - val_accuracy: 0.8726\n",
            "Epoch 37/115\n",
            "159/159 [==============================] - 42s 263ms/step - loss: 0.3031 - accuracy: 0.8717 - val_loss: 0.2971 - val_accuracy: 0.8708\n",
            "Epoch 38/115\n",
            "159/159 [==============================] - 43s 271ms/step - loss: 0.3028 - accuracy: 0.8721 - val_loss: 0.3109 - val_accuracy: 0.8717\n",
            "Epoch 39/115\n",
            "159/159 [==============================] - 42s 264ms/step - loss: 0.2982 - accuracy: 0.8729 - val_loss: 0.2986 - val_accuracy: 0.8796\n",
            "Epoch 40/115\n",
            "159/159 [==============================] - 42s 264ms/step - loss: 0.2990 - accuracy: 0.8749 - val_loss: 0.2963 - val_accuracy: 0.8796\n",
            "Epoch 41/115\n",
            "159/159 [==============================] - 42s 265ms/step - loss: 0.2931 - accuracy: 0.8770 - val_loss: 0.2993 - val_accuracy: 0.8752\n",
            "Epoch 42/115\n",
            "159/159 [==============================] - 42s 265ms/step - loss: 0.2927 - accuracy: 0.8766 - val_loss: 0.2857 - val_accuracy: 0.8805\n",
            "Epoch 43/115\n",
            "159/159 [==============================] - 42s 266ms/step - loss: 0.2910 - accuracy: 0.8774 - val_loss: 0.2877 - val_accuracy: 0.8850\n",
            "Epoch 44/115\n",
            "159/159 [==============================] - 43s 268ms/step - loss: 0.2883 - accuracy: 0.8775 - val_loss: 0.2907 - val_accuracy: 0.8735\n",
            "Epoch 45/115\n",
            "159/159 [==============================] - 42s 266ms/step - loss: 0.2798 - accuracy: 0.8832 - val_loss: 0.3181 - val_accuracy: 0.8540\n",
            "Epoch 46/115\n",
            "159/159 [==============================] - 42s 265ms/step - loss: 0.2778 - accuracy: 0.8845 - val_loss: 0.2882 - val_accuracy: 0.8779\n",
            "Epoch 47/115\n",
            "159/159 [==============================] - 42s 265ms/step - loss: 0.2770 - accuracy: 0.8836 - val_loss: 0.2940 - val_accuracy: 0.8832\n",
            "Epoch 48/115\n",
            "159/159 [==============================] - 42s 264ms/step - loss: 0.2727 - accuracy: 0.8849 - val_loss: 0.2948 - val_accuracy: 0.8681\n",
            "Epoch 49/115\n",
            "159/159 [==============================] - 43s 271ms/step - loss: 0.2761 - accuracy: 0.8832 - val_loss: 0.3029 - val_accuracy: 0.8699\n",
            "Epoch 50/115\n",
            "159/159 [==============================] - 42s 263ms/step - loss: 0.2704 - accuracy: 0.8849 - val_loss: 0.2872 - val_accuracy: 0.8788\n",
            "Epoch 51/115\n",
            "159/159 [==============================] - 42s 263ms/step - loss: 0.2692 - accuracy: 0.8854 - val_loss: 0.2933 - val_accuracy: 0.8850\n",
            "Epoch 52/115\n",
            "159/159 [==============================] - 42s 262ms/step - loss: 0.2665 - accuracy: 0.8886 - val_loss: 0.2840 - val_accuracy: 0.8841\n",
            "Epoch 53/115\n",
            "159/159 [==============================] - 42s 262ms/step - loss: 0.2596 - accuracy: 0.8904 - val_loss: 0.2893 - val_accuracy: 0.8814\n",
            "Epoch 54/115\n",
            "159/159 [==============================] - 42s 262ms/step - loss: 0.2608 - accuracy: 0.8920 - val_loss: 0.2928 - val_accuracy: 0.8779\n",
            "Epoch 55/115\n",
            "159/159 [==============================] - 43s 270ms/step - loss: 0.2584 - accuracy: 0.8930 - val_loss: 0.2882 - val_accuracy: 0.8885\n",
            "Epoch 56/115\n",
            "159/159 [==============================] - 42s 265ms/step - loss: 0.2557 - accuracy: 0.8953 - val_loss: 0.2852 - val_accuracy: 0.8894\n",
            "Epoch 57/115\n",
            "159/159 [==============================] - 41s 261ms/step - loss: 0.2580 - accuracy: 0.8926 - val_loss: 0.2958 - val_accuracy: 0.8788\n",
            "Epoch 58/115\n",
            "159/159 [==============================] - 42s 262ms/step - loss: 0.2542 - accuracy: 0.8949 - val_loss: 0.2881 - val_accuracy: 0.8876\n",
            "Epoch 59/115\n",
            "159/159 [==============================] - 42s 263ms/step - loss: 0.2545 - accuracy: 0.8943 - val_loss: 0.3043 - val_accuracy: 0.8814\n",
            "Epoch 60/115\n",
            "159/159 [==============================] - 42s 264ms/step - loss: 0.2482 - accuracy: 0.8954 - val_loss: 0.2890 - val_accuracy: 0.8850\n",
            "Epoch 61/115\n",
            "159/159 [==============================] - 43s 270ms/step - loss: 0.2472 - accuracy: 0.8977 - val_loss: 0.2927 - val_accuracy: 0.8788\n",
            "Epoch 62/115\n",
            "159/159 [==============================] - 42s 264ms/step - loss: 0.2474 - accuracy: 0.8976 - val_loss: 0.2966 - val_accuracy: 0.8920\n",
            "Epoch 63/115\n",
            "159/159 [==============================] - 42s 264ms/step - loss: 0.2465 - accuracy: 0.8991 - val_loss: 0.2922 - val_accuracy: 0.8841\n",
            "Epoch 64/115\n",
            "159/159 [==============================] - 42s 262ms/step - loss: 0.2432 - accuracy: 0.8992 - val_loss: 0.2929 - val_accuracy: 0.8796\n",
            "Epoch 65/115\n",
            "159/159 [==============================] - 42s 263ms/step - loss: 0.2431 - accuracy: 0.8994 - val_loss: 0.2915 - val_accuracy: 0.8796\n",
            "Epoch 66/115\n",
            "159/159 [==============================] - 42s 264ms/step - loss: 0.2418 - accuracy: 0.8994 - val_loss: 0.2940 - val_accuracy: 0.8858\n",
            "Epoch 67/115\n",
            "159/159 [==============================] - 43s 272ms/step - loss: 0.2396 - accuracy: 0.8999 - val_loss: 0.2888 - val_accuracy: 0.8885\n",
            "Epoch 68/115\n",
            "159/159 [==============================] - 42s 265ms/step - loss: 0.2402 - accuracy: 0.9004 - val_loss: 0.3068 - val_accuracy: 0.8779\n",
            "Epoch 69/115\n",
            "159/159 [==============================] - 42s 263ms/step - loss: 0.2308 - accuracy: 0.9061 - val_loss: 0.2931 - val_accuracy: 0.8858\n",
            "Epoch 70/115\n",
            "159/159 [==============================] - 42s 263ms/step - loss: 0.2337 - accuracy: 0.9015 - val_loss: 0.3154 - val_accuracy: 0.8858\n",
            "Epoch 71/115\n",
            "159/159 [==============================] - 42s 263ms/step - loss: 0.2286 - accuracy: 0.9073 - val_loss: 0.3073 - val_accuracy: 0.8805\n",
            "Epoch 72/115\n",
            "159/159 [==============================] - 42s 263ms/step - loss: 0.2225 - accuracy: 0.9067 - val_loss: 0.2955 - val_accuracy: 0.8858\n",
            "Epoch 73/115\n",
            "159/159 [==============================] - 43s 271ms/step - loss: 0.2273 - accuracy: 0.9066 - val_loss: 0.3119 - val_accuracy: 0.8779\n",
            "Epoch 74/115\n",
            "159/159 [==============================] - 42s 263ms/step - loss: 0.2240 - accuracy: 0.9076 - val_loss: 0.3110 - val_accuracy: 0.8779\n",
            "Epoch 75/115\n",
            "159/159 [==============================] - 42s 264ms/step - loss: 0.2236 - accuracy: 0.9064 - val_loss: 0.3320 - val_accuracy: 0.8770\n",
            "Epoch 76/115\n",
            "159/159 [==============================] - 42s 264ms/step - loss: 0.2231 - accuracy: 0.9082 - val_loss: 0.3145 - val_accuracy: 0.8832\n",
            "Epoch 77/115\n",
            "159/159 [==============================] - 42s 263ms/step - loss: 0.2167 - accuracy: 0.9123 - val_loss: 0.3003 - val_accuracy: 0.8850\n",
            "Epoch 78/115\n",
            "159/159 [==============================] - 42s 263ms/step - loss: 0.2147 - accuracy: 0.9097 - val_loss: 0.3113 - val_accuracy: 0.8867\n",
            "Epoch 79/115\n",
            "159/159 [==============================] - 43s 273ms/step - loss: 0.2096 - accuracy: 0.9146 - val_loss: 0.3325 - val_accuracy: 0.8717\n",
            "Epoch 80/115\n",
            "159/159 [==============================] - 42s 264ms/step - loss: 0.2118 - accuracy: 0.9147 - val_loss: 0.3108 - val_accuracy: 0.8770\n",
            "Epoch 81/115\n",
            "159/159 [==============================] - 42s 263ms/step - loss: 0.2128 - accuracy: 0.9095 - val_loss: 0.3213 - val_accuracy: 0.8850\n",
            "Epoch 82/115\n",
            "159/159 [==============================] - 42s 265ms/step - loss: 0.2109 - accuracy: 0.9148 - val_loss: 0.3261 - val_accuracy: 0.8867\n",
            "Epoch 83/115\n",
            "159/159 [==============================] - 42s 264ms/step - loss: 0.2047 - accuracy: 0.9148 - val_loss: 0.3200 - val_accuracy: 0.8823\n",
            "Epoch 84/115\n",
            "159/159 [==============================] - 42s 264ms/step - loss: 0.2050 - accuracy: 0.9161 - val_loss: 0.3276 - val_accuracy: 0.8823\n",
            "Epoch 85/115\n",
            "159/159 [==============================] - 43s 271ms/step - loss: 0.1993 - accuracy: 0.9175 - val_loss: 0.3177 - val_accuracy: 0.8885\n",
            "Epoch 86/115\n",
            "159/159 [==============================] - 42s 263ms/step - loss: 0.2012 - accuracy: 0.9180 - val_loss: 0.3505 - val_accuracy: 0.8699\n",
            "Epoch 87/115\n",
            "159/159 [==============================] - 42s 264ms/step - loss: 0.1977 - accuracy: 0.9194 - val_loss: 0.3319 - val_accuracy: 0.8743\n",
            "Epoch 88/115\n",
            "159/159 [==============================] - 42s 263ms/step - loss: 0.1943 - accuracy: 0.9186 - val_loss: 0.3378 - val_accuracy: 0.8770\n",
            "Epoch 89/115\n",
            "159/159 [==============================] - 43s 272ms/step - loss: 0.1903 - accuracy: 0.9210 - val_loss: 0.3426 - val_accuracy: 0.8779\n",
            "Epoch 90/115\n",
            "159/159 [==============================] - 42s 266ms/step - loss: 0.1921 - accuracy: 0.9210 - val_loss: 0.3602 - val_accuracy: 0.8770\n",
            "Epoch 91/115\n",
            "159/159 [==============================] - 42s 265ms/step - loss: 0.1846 - accuracy: 0.9255 - val_loss: 0.3526 - val_accuracy: 0.8788\n",
            "Epoch 92/115\n",
            "159/159 [==============================] - 44s 274ms/step - loss: 0.1863 - accuracy: 0.9236 - val_loss: 0.3468 - val_accuracy: 0.8752\n",
            "Epoch 93/115\n",
            "159/159 [==============================] - 43s 268ms/step - loss: 0.1845 - accuracy: 0.9244 - val_loss: 0.3604 - val_accuracy: 0.8735\n",
            "Epoch 94/115\n",
            "159/159 [==============================] - 43s 268ms/step - loss: 0.1836 - accuracy: 0.9255 - val_loss: 0.3582 - val_accuracy: 0.8894\n",
            "Epoch 95/115\n",
            "159/159 [==============================] - 42s 267ms/step - loss: 0.1807 - accuracy: 0.9260 - val_loss: 0.3604 - val_accuracy: 0.8743\n",
            "Epoch 96/115\n",
            "159/159 [==============================] - 42s 265ms/step - loss: 0.1786 - accuracy: 0.9262 - val_loss: 0.3645 - val_accuracy: 0.8743\n",
            "Epoch 97/115\n",
            "159/159 [==============================] - 42s 265ms/step - loss: 0.1739 - accuracy: 0.9281 - val_loss: 0.3930 - val_accuracy: 0.8602\n",
            "Epoch 98/115\n",
            "159/159 [==============================] - 44s 275ms/step - loss: 0.1698 - accuracy: 0.9313 - val_loss: 0.3576 - val_accuracy: 0.8752\n",
            "Epoch 99/115\n",
            "159/159 [==============================] - 43s 268ms/step - loss: 0.1712 - accuracy: 0.9313 - val_loss: 0.3846 - val_accuracy: 0.8726\n",
            "Epoch 100/115\n",
            "159/159 [==============================] - 43s 268ms/step - loss: 0.1727 - accuracy: 0.9315 - val_loss: 0.3689 - val_accuracy: 0.8770\n",
            "Epoch 101/115\n",
            "159/159 [==============================] - 43s 268ms/step - loss: 0.1735 - accuracy: 0.9291 - val_loss: 0.3536 - val_accuracy: 0.8735\n",
            "Epoch 102/115\n",
            "159/159 [==============================] - 43s 268ms/step - loss: 0.1685 - accuracy: 0.9312 - val_loss: 0.3339 - val_accuracy: 0.8770\n",
            "Epoch 103/115\n",
            "159/159 [==============================] - 42s 267ms/step - loss: 0.1640 - accuracy: 0.9339 - val_loss: 0.3981 - val_accuracy: 0.8690\n",
            "Epoch 104/115\n",
            "159/159 [==============================] - 42s 267ms/step - loss: 0.1647 - accuracy: 0.9318 - val_loss: 0.3602 - val_accuracy: 0.8735\n",
            "Epoch 105/115\n",
            "159/159 [==============================] - 43s 271ms/step - loss: 0.1616 - accuracy: 0.9351 - val_loss: 0.3467 - val_accuracy: 0.8885\n",
            "Epoch 106/115\n",
            "159/159 [==============================] - 42s 264ms/step - loss: 0.1618 - accuracy: 0.9365 - val_loss: 0.3723 - val_accuracy: 0.8770\n",
            "Epoch 107/115\n",
            "159/159 [==============================] - 43s 268ms/step - loss: 0.1546 - accuracy: 0.9381 - val_loss: 0.3889 - val_accuracy: 0.8796\n",
            "Epoch 108/115\n",
            "159/159 [==============================] - 42s 265ms/step - loss: 0.1584 - accuracy: 0.9355 - val_loss: 0.3677 - val_accuracy: 0.8690\n",
            "Epoch 109/115\n",
            "159/159 [==============================] - 42s 266ms/step - loss: 0.1534 - accuracy: 0.9398 - val_loss: 0.4082 - val_accuracy: 0.8779\n",
            "Epoch 110/115\n",
            "159/159 [==============================] - 42s 266ms/step - loss: 0.1536 - accuracy: 0.9364 - val_loss: 0.3608 - val_accuracy: 0.8743\n",
            "Epoch 111/115\n",
            "159/159 [==============================] - 43s 273ms/step - loss: 0.1502 - accuracy: 0.9387 - val_loss: 0.3674 - val_accuracy: 0.8717\n",
            "Epoch 112/115\n",
            "159/159 [==============================] - 42s 267ms/step - loss: 0.1449 - accuracy: 0.9418 - val_loss: 0.3986 - val_accuracy: 0.8752\n",
            "Epoch 113/115\n",
            "159/159 [==============================] - 43s 268ms/step - loss: 0.1492 - accuracy: 0.9404 - val_loss: 0.3766 - val_accuracy: 0.8841\n",
            "Epoch 114/115\n",
            "159/159 [==============================] - 42s 267ms/step - loss: 0.1450 - accuracy: 0.9420 - val_loss: 0.4238 - val_accuracy: 0.8735\n",
            "Epoch 115/115\n",
            "159/159 [==============================] - 42s 266ms/step - loss: 0.1441 - accuracy: 0.9427 - val_loss: 0.3829 - val_accuracy: 0.8752\n"
          ]
        }
      ],
      "source": [
        "gru_model = Sequential()\n",
        "\n",
        "gru_model.add(Conv1D(filters = 27, kernel_size = (4), activation = 'relu', input_shape = (301, 4)))\n",
        "gru_model.add(MaxPooling1D(pool_size= (3)))\n",
        "gru_model.add(Dropout(0.2))\n",
        "\n",
        "gru_model.add(Conv1D(filters = 14, kernel_size = (2), activation = 'relu', padding = 'same'))\n",
        "#cnn_model.add(MaxPooling1D(pool_size= (1)))\n",
        "#cnn_model.add(Dropout(0.2))\n",
        "\n",
        "\n",
        "\n",
        "gru_model.add(Bidirectional(GRU(128, activation = 'relu')))\n",
        "gru_model.add(Dropout(0.2))\n",
        "gru_model.add(Dense(128, activation = 'relu'))\n",
        "gru_model.add(Dense(64, activation = 'relu'))\n",
        "gru_model.add(Dense(64, activation = 'relu'))\n",
        "gru_model.add(Dense(16, activation = 'relu', kernel_regularizer = regularizers.l2(0.01)))\n",
        "gru_model.add(Dense(2, activation = 'sigmoid'))\n",
        "\n",
        "gru_model.compile(loss='binary_crossentropy',\n",
        "              optimizer='adam',\n",
        "              metrics=['accuracy'])\n",
        "\n",
        "early_stop = keras.callbacks.EarlyStopping(monitor = 'val_accuracy', min_delta = 0.0005, patience=8, \n",
        "                                           restore_best_weights=True )\n",
        "history = gru_model.fit(X_train, y_train, batch_size = 128, validation_data=(X_val, y_val), \n",
        "                        epochs=115)"
      ]
    },
    {
      "cell_type": "code",
      "execution_count": null,
      "metadata": {
        "id": "a6HmNBRGvTYc"
      },
      "outputs": [],
      "source": [
        "# save model\n",
        "gru_model.save('/content/gdrive/MyDrive/Colab Notebooks/CNN_GRU_model')"
      ]
    },
    {
      "cell_type": "code",
      "execution_count": 8,
      "metadata": {
        "id": "4kqt4Xw5qnnM"
      },
      "outputs": [],
      "source": [
        "# load model\n",
        "gru_model = keras.models.load_model('/content/gdrive/MyDrive/Colab Notebooks/CNN_GRU_model')"
      ]
    },
    {
      "cell_type": "code",
      "execution_count": null,
      "metadata": {
        "id": "9c-ilOLxYxFy"
      },
      "outputs": [],
      "source": [
        "pred = gru_model.predict"
      ]
    },
    {
      "cell_type": "code",
      "execution_count": null,
      "metadata": {
        "colab": {
          "base_uri": "https://localhost:8080/"
        },
        "id": "xrhcHTW4Y1Ht",
        "outputId": "9278b7fa-a5a0-4e4b-b933-c440b0b8c351"
      },
      "outputs": [
        {
          "name": "stdout",
          "output_type": "stream",
          "text": [
            "36/36 [==============================] - 1s 21ms/step\n"
          ]
        }
      ],
      "source": [
        "preds = gru_model.predict(X_test)"
      ]
    },
    {
      "cell_type": "code",
      "execution_count": null,
      "metadata": {
        "colab": {
          "base_uri": "https://localhost:8080/"
        },
        "id": "GfearOsnY18y",
        "outputId": "44b21049-93f7-4858-d538-4a8df18107c7"
      },
      "outputs": [
        {
          "data": {
            "text/plain": [
              "1130"
            ]
          },
          "execution_count": 46,
          "metadata": {},
          "output_type": "execute_result"
        }
      ],
      "source": [
        "preds\n",
        "len(preds)"
      ]
    },
    {
      "cell_type": "code",
      "execution_count": null,
      "metadata": {
        "id": "izuuum0WY3tT"
      },
      "outputs": [],
      "source": [
        "np.savetxt(\"test_predictions.txt\", preds, delimiter=\",\")"
      ]
    },
    {
      "cell_type": "code",
      "execution_count": null,
      "metadata": {
        "colab": {
          "base_uri": "https://localhost:8080/"
        },
        "id": "ESHzrvZresv6",
        "outputId": "4c0efa9b-c316-4030-fccc-e447780a94ea"
      },
      "outputs": [
        {
          "name": "stdout",
          "output_type": "stream",
          "text": [
            "0.8817005545286506 0.8442477876106195 0.8654867256637168\n",
            "477 88 64 501\n"
          ]
        }
      ],
      "source": [
        "# get accuracy\n",
        "# positive: is promoter\n",
        "tn = 0\n",
        "fn = 0\n",
        "fp = 0\n",
        "tp = 0\n",
        "\n",
        "for i in range(len(preds)):\n",
        "  if preds[i][0] >= preds[i][1]: # non-promoter\n",
        "    preds[i][0] = 1\n",
        "    preds[i][1] = 0\n",
        "  else:                          # promoter\n",
        "    preds[i][0] = 0\n",
        "    preds[i][1] = 1\n",
        "\n",
        "for i in range(len(preds)):\n",
        "  if(preds[i][0] > preds[i][1]): # non-promoter\n",
        "    if y_test[i][0] == 1:\n",
        "      tn += 1\n",
        "    else:\n",
        "      fn += 1\n",
        "  else:                          # promoter\n",
        "    if y_test[i][1] == 1:\n",
        "      tp += 1\n",
        "    else:\n",
        "      fp += 1\n",
        "\n",
        "precision = tp / (tp + fp)\n",
        "recall = tp / (tp + fn)\n",
        "accuracy = (tp + tn) / (tp + fn + fp + tn)\n",
        "print(precision, recall, accuracy)\n",
        "print(tp, fn, fp, tn)"
      ]
    },
    {
      "cell_type": "code",
      "execution_count": 9,
      "metadata": {
        "colab": {
          "base_uri": "https://localhost:8080/"
        },
        "id": "L6-6JHTFqXCb",
        "outputId": "4539f623-ec20-477c-c1ee-b2fe15b13edc"
      },
      "outputs": [
        {
          "name": "stdout",
          "output_type": "stream",
          "text": [
            "Model: \"sequential\"\n",
            "_________________________________________________________________\n",
            " Layer (type)                Output Shape              Param #   \n",
            "=================================================================\n",
            " conv1d (Conv1D)             (None, 298, 27)           459       \n",
            "                                                                 \n",
            " max_pooling1d (MaxPooling1D  (None, 99, 27)           0         \n",
            " )                                                               \n",
            "                                                                 \n",
            " dropout (Dropout)           (None, 99, 27)            0         \n",
            "                                                                 \n",
            " conv1d_1 (Conv1D)           (None, 99, 14)            770       \n",
            "                                                                 \n",
            " bidirectional (Bidirectiona  (None, 256)              110592    \n",
            " l)                                                              \n",
            "                                                                 \n",
            " dropout_1 (Dropout)         (None, 256)               0         \n",
            "                                                                 \n",
            " dense (Dense)               (None, 128)               32896     \n",
            "                                                                 \n",
            " dense_1 (Dense)             (None, 64)                8256      \n",
            "                                                                 \n",
            " dense_2 (Dense)             (None, 64)                4160      \n",
            "                                                                 \n",
            " dense_3 (Dense)             (None, 16)                1040      \n",
            "                                                                 \n",
            " dense_4 (Dense)             (None, 2)                 34        \n",
            "                                                                 \n",
            "=================================================================\n",
            "Total params: 158,207\n",
            "Trainable params: 158,207\n",
            "Non-trainable params: 0\n",
            "_________________________________________________________________\n",
            "None\n"
          ]
        }
      ],
      "source": [
        "print(gru_model.summary())"
      ]
    },
    {
      "cell_type": "markdown",
      "metadata": {
        "id": "hyfQvnO0YEXd"
      },
      "source": [
        "**Initial Gridsearch on CNN model as backup.**\n",
        "\n",
        "The models is saved in this file.\n",
        "\n",
        "Best Parameters are L2 alpha of 0.01, Dropout of 0.02, First filter: 32, First node: 64, Second node: 64."
      ]
    },
    {
      "cell_type": "code",
      "execution_count": null,
      "metadata": {
        "id": "aZwYxR7DYPP1"
      },
      "outputs": [],
      "source": [
        "'''\n",
        "def model_func(first_node, second_node, alpha, first_filter, dropout):\n",
        "\n",
        "    model = Sequential()\n",
        "    model.add(Conv2D(filters = first_filter,       \n",
        "                    kernel_size = (3,3),    \n",
        "                    activation = 'relu',    \n",
        "                  input_shape = (301, 4, 1)))\n",
        "    model.add(MaxPooling2D(pool_size= (2,2)))\n",
        "    model.add(Dropout(dropout))\n",
        "\n",
        "    model.add(Conv2D(filters = 15,  \n",
        "                     kernel_size = (2,2),\n",
        "                    activation = 'relu',\n",
        "                    padding = 'same'))\n",
        "    model.add(MaxPooling2D(pool_size= (1,1)))\n",
        "    model.add(Dropout(dropout))\n",
        "\n",
        "\n",
        "    model.add(Flatten())\n",
        "    model.add(Dense(first_node, activation = 'relu', kernel_regularizer = regularizers.l2(alpha)))\n",
        "    model.add(Dense(second_node, activation = 'relu'))\n",
        "    model.add(Dense(32, activation = 'relu'))\n",
        "    model.add(Dense(16, activation = 'relu'))\n",
        "    model.add(Dense(2, activation = 'sigmoid'))\n",
        "\n",
        "    model.compile(loss='binary_crossentropy',\n",
        "                  optimizer='adam',\n",
        "                  metrics=['accuracy'])\n",
        "    \n",
        "    return model\n",
        "\n",
        "\n",
        "early_stop = keras.callbacks.EarlyStopping(monitor = 'loss', min_delta = 0, patience=5, \n",
        "                                           restore_best_weights=True )\n",
        "\n",
        "\n",
        "nn = KerasClassifier(build_fn = model_func, batch_size = 512, epochs = 1)\n",
        "\n",
        "gs = GridSearchCV(nn, param_grid = params, cv = 2)\n",
        "\n",
        "gs.fit(X_train, y_train, callbacks = [early_stop])\n",
        "\n",
        "cnn_model_saved = cnn_model.save('CNN_best_model.h5')\n",
        "'''"
      ]
    }
  ],
  "metadata": {
    "colab": {
      "provenance": []
    },
    "kernelspec": {
      "display_name": "Python 3",
      "language": "python",
      "name": "python3"
    },
    "language_info": {
      "name": "python",
      "version": "3.10.4 (main, Jun 29 2022, 12:14:53) [GCC 11.2.0]"
    },
    "vscode": {
      "interpreter": {
        "hash": "916dbcbb3f70747c44a77c7bcd40155683ae19c65e1c03b4aa3499c5328201f1"
      }
    }
  },
  "nbformat": 4,
  "nbformat_minor": 0
}
